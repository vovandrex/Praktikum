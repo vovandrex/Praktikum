{
 "cells": [
  {
   "cell_type": "markdown",
   "metadata": {},
   "source": [
    "# Контекст\n",
    "\n",
    "Вы решили открыть небольшое кафе в Москве. Оно оригинальное — гостей должны обслуживать роботы. Проект многообещающий, но дорогой. Вместе с партнёрами вы решились обратиться к инвесторам. Их интересует текущее положение дел на рынке — сможете ли вы снискать популярность на долгое время, когда все зеваки насмотрятся на роботов-официантов?\n",
    "\n",
    "Вы — гуру аналитики, и партнёры просят вас подготовить исследование рынка. У вас есть открытые данные о заведениях общественного питания в Москве."
   ]
  },
  {
   "cell_type": "markdown",
   "metadata": {},
   "source": [
    "#### **Полезные Ссылки**\n",
    "Ссылка на спарсенные данные: \n",
    "https://yadi.sk/d/PQIwu741PlaAYw?w=1\n",
    "\n",
    "Презентация: https://yadi.sk/i/i4ITmK7XvgrXXQ\n",
    "\n",
    "\n",
    "\n"
   ]
  },
  {
   "cell_type": "markdown",
   "metadata": {},
   "source": [
    "## План выполнения работ\n",
    "### [Шаг №1. Загрузите данные и подготовьте их к анализу](#step1)\n",
    "### [Шаг №2. Анализ данных](#step2)\n",
    "- ##### [Исследуйте соотношение видов объектов общественного питания по количеству. Постройте график.](#step3)\n",
    "- ##### [Исследуйте соотношение сетевых и несетевых заведений по количеству. Постройте график.](#step4)\n",
    "- ##### [Для какого вида объекта общественного питания характерно сетевое распространение?](#step5)\n",
    "- ##### [Что характерно для сетевых заведений: много заведений с небольшим числом посадочных мест в каждом или мало заведений с большим количеством посадочных мест?](#step6)\n",
    "- ##### [Для каждого вида объекта общественного питания опишите среднее количество посадочных мест. Какой вид предоставляет в среднем самое большое количество посадочных мест? Постройте графики.](#step7)\n",
    "- ##### [Выделите в отдельный столбец информацию об улице из столбца address](#step8)\n",
    "- ##### [Постройте график топ-10 улиц по количеству объектов общественного питания. Воспользуйтесь внешней информацией и ответьте на вопрос — в каких районах Москвы находятся эти улицы?](#step9)\n",
    "- ##### [Найдите число улиц с одним объектом общественного питания. Воспользуйтесь внешней информацией и ответьте на вопрос — в каких районах Москвы находятся эти улицы?](#step10)\n",
    "- ##### [Посмотрите на распределение количества посадочных мест для улиц с большим количеством объектов общественного питания. Какие закономерности можно выявить?](#step11)"
   ]
  },
  {
   "cell_type": "markdown",
   "metadata": {},
   "source": [
    "## <a id=\"step1\"> Шаг №1. Загрузите данные и подготовьте их к анализу </a>"
   ]
  },
  {
   "cell_type": "markdown",
   "metadata": {},
   "source": [
    "### Импортируем библиотеки"
   ]
  },
  {
   "cell_type": "code",
   "execution_count": 6,
   "metadata": {},
   "outputs": [],
   "source": [
    "import pandas as pd\n",
    "import matplotlib.pyplot as plt\n",
    "from plotly import graph_objects as go\n",
    "import numpy as np\n",
    "import warnings \n",
    "import seaborn as sns\n",
    "import requests\n",
    "from yaml import load, FullLoader\n",
    "import time\n",
    "warnings.simplefilter(\"ignore\")\n",
    "pd.set_option('display.max_columns', 500)"
   ]
  },
  {
   "cell_type": "markdown",
   "metadata": {},
   "source": [
    "####  Рассмотрим полученные данные rest_data"
   ]
  },
  {
   "cell_type": "code",
   "execution_count": 8,
   "metadata": {},
   "outputs": [],
   "source": [
    "rest_data = pd.read_csv('/Users/vladimirogulo/PycharmProjects/Praktikum8/rest_data.csv')\n",
    "#rest_data = pd.read_csv('/datasets/rest_data.csv')"
   ]
  },
  {
   "cell_type": "code",
   "execution_count": 9,
   "metadata": {},
   "outputs": [
    {
     "name": "stdout",
     "output_type": "stream",
     "text": [
      "\n",
      "Рассмотрим общую информацию\n",
      "<class 'pandas.core.frame.DataFrame'>\n",
      "RangeIndex: 15366 entries, 0 to 15365\n",
      "Data columns (total 6 columns):\n",
      " #   Column       Non-Null Count  Dtype \n",
      "---  ------       --------------  ----- \n",
      " 0   id           15366 non-null  int64 \n",
      " 1   object_name  15366 non-null  object\n",
      " 2   chain        15366 non-null  object\n",
      " 3   object_type  15366 non-null  object\n",
      " 4   address      15366 non-null  object\n",
      " 5   number       15366 non-null  int64 \n",
      "dtypes: int64(2), object(4)\n",
      "memory usage: 720.4+ KB\n",
      "\n",
      "Выведем DataFrame на экран\n"
     ]
    },
    {
     "data": {
      "text/html": [
       "<div>\n",
       "<style scoped>\n",
       "    .dataframe tbody tr th:only-of-type {\n",
       "        vertical-align: middle;\n",
       "    }\n",
       "\n",
       "    .dataframe tbody tr th {\n",
       "        vertical-align: top;\n",
       "    }\n",
       "\n",
       "    .dataframe thead th {\n",
       "        text-align: right;\n",
       "    }\n",
       "</style>\n",
       "<table border=\"1\" class=\"dataframe\">\n",
       "  <thead>\n",
       "    <tr style=\"text-align: right;\">\n",
       "      <th></th>\n",
       "      <th>id</th>\n",
       "      <th>object_name</th>\n",
       "      <th>chain</th>\n",
       "      <th>object_type</th>\n",
       "      <th>address</th>\n",
       "      <th>number</th>\n",
       "    </tr>\n",
       "  </thead>\n",
       "  <tbody>\n",
       "    <tr>\n",
       "      <th>0</th>\n",
       "      <td>151635</td>\n",
       "      <td>СМЕТАНА</td>\n",
       "      <td>нет</td>\n",
       "      <td>кафе</td>\n",
       "      <td>город Москва, улица Егора Абакумова, дом 9</td>\n",
       "      <td>48</td>\n",
       "    </tr>\n",
       "    <tr>\n",
       "      <th>1</th>\n",
       "      <td>77874</td>\n",
       "      <td>Родник</td>\n",
       "      <td>нет</td>\n",
       "      <td>кафе</td>\n",
       "      <td>город Москва, улица Талалихина, дом 2/1, корпус 1</td>\n",
       "      <td>35</td>\n",
       "    </tr>\n",
       "    <tr>\n",
       "      <th>2</th>\n",
       "      <td>24309</td>\n",
       "      <td>Кафе «Академия»</td>\n",
       "      <td>нет</td>\n",
       "      <td>кафе</td>\n",
       "      <td>город Москва, Абельмановская улица, дом 6</td>\n",
       "      <td>95</td>\n",
       "    </tr>\n",
       "    <tr>\n",
       "      <th>3</th>\n",
       "      <td>21894</td>\n",
       "      <td>ПИЦЦЕТОРИЯ</td>\n",
       "      <td>да</td>\n",
       "      <td>кафе</td>\n",
       "      <td>город Москва, Абрамцевская улица, дом 1</td>\n",
       "      <td>40</td>\n",
       "    </tr>\n",
       "    <tr>\n",
       "      <th>4</th>\n",
       "      <td>119365</td>\n",
       "      <td>Кафе «Вишневая метель»</td>\n",
       "      <td>нет</td>\n",
       "      <td>кафе</td>\n",
       "      <td>город Москва, Абрамцевская улица, дом 9, корпус 1</td>\n",
       "      <td>50</td>\n",
       "    </tr>\n",
       "    <tr>\n",
       "      <th>...</th>\n",
       "      <td>...</td>\n",
       "      <td>...</td>\n",
       "      <td>...</td>\n",
       "      <td>...</td>\n",
       "      <td>...</td>\n",
       "      <td>...</td>\n",
       "    </tr>\n",
       "    <tr>\n",
       "      <th>15361</th>\n",
       "      <td>208537</td>\n",
       "      <td>Шоколадница</td>\n",
       "      <td>да</td>\n",
       "      <td>кафе</td>\n",
       "      <td>город Москва, 3-й Крутицкий переулок, дом 18</td>\n",
       "      <td>50</td>\n",
       "    </tr>\n",
       "    <tr>\n",
       "      <th>15362</th>\n",
       "      <td>209264</td>\n",
       "      <td>Шоколадница</td>\n",
       "      <td>да</td>\n",
       "      <td>кафе</td>\n",
       "      <td>город Москва, улица Земляной Вал, дом 33</td>\n",
       "      <td>10</td>\n",
       "    </tr>\n",
       "    <tr>\n",
       "      <th>15363</th>\n",
       "      <td>209186</td>\n",
       "      <td>Шоколадница</td>\n",
       "      <td>да</td>\n",
       "      <td>кафе</td>\n",
       "      <td>город Москва, улица Земляной Вал, дом 33</td>\n",
       "      <td>20</td>\n",
       "    </tr>\n",
       "    <tr>\n",
       "      <th>15364</th>\n",
       "      <td>221900</td>\n",
       "      <td>Шоколадница</td>\n",
       "      <td>да</td>\n",
       "      <td>кафе</td>\n",
       "      <td>город Москва, поселение Московский, Киевское ш...</td>\n",
       "      <td>36</td>\n",
       "    </tr>\n",
       "    <tr>\n",
       "      <th>15365</th>\n",
       "      <td>222535</td>\n",
       "      <td>Шоколадница</td>\n",
       "      <td>да</td>\n",
       "      <td>кафе</td>\n",
       "      <td>город Москва, Ходынский бульвар, дом 4</td>\n",
       "      <td>10</td>\n",
       "    </tr>\n",
       "  </tbody>\n",
       "</table>\n",
       "<p>15366 rows × 6 columns</p>\n",
       "</div>"
      ],
      "text/plain": [
       "           id             object_name chain object_type  \\\n",
       "0      151635                 СМЕТАНА   нет        кафе   \n",
       "1       77874                  Родник   нет        кафе   \n",
       "2       24309         Кафе «Академия»   нет        кафе   \n",
       "3       21894              ПИЦЦЕТОРИЯ    да        кафе   \n",
       "4      119365  Кафе «Вишневая метель»   нет        кафе   \n",
       "...       ...                     ...   ...         ...   \n",
       "15361  208537             Шоколадница    да        кафе   \n",
       "15362  209264             Шоколадница    да        кафе   \n",
       "15363  209186             Шоколадница    да        кафе   \n",
       "15364  221900             Шоколадница    да        кафе   \n",
       "15365  222535             Шоколадница    да        кафе   \n",
       "\n",
       "                                                 address  number  \n",
       "0             город Москва, улица Егора Абакумова, дом 9      48  \n",
       "1      город Москва, улица Талалихина, дом 2/1, корпус 1      35  \n",
       "2              город Москва, Абельмановская улица, дом 6      95  \n",
       "3                город Москва, Абрамцевская улица, дом 1      40  \n",
       "4      город Москва, Абрамцевская улица, дом 9, корпус 1      50  \n",
       "...                                                  ...     ...  \n",
       "15361       город Москва, 3-й Крутицкий переулок, дом 18      50  \n",
       "15362           город Москва, улица Земляной Вал, дом 33      10  \n",
       "15363           город Москва, улица Земляной Вал, дом 33      20  \n",
       "15364  город Москва, поселение Московский, Киевское ш...      36  \n",
       "15365             город Москва, Ходынский бульвар, дом 4      10  \n",
       "\n",
       "[15366 rows x 6 columns]"
      ]
     },
     "metadata": {},
     "output_type": "display_data"
    },
    {
     "name": "stdout",
     "output_type": "stream",
     "text": [
      "\n",
      "Рассмотрим описательную статистику нашего DataFrame\n"
     ]
    },
    {
     "data": {
      "text/html": [
       "<div>\n",
       "<style scoped>\n",
       "    .dataframe tbody tr th:only-of-type {\n",
       "        vertical-align: middle;\n",
       "    }\n",
       "\n",
       "    .dataframe tbody tr th {\n",
       "        vertical-align: top;\n",
       "    }\n",
       "\n",
       "    .dataframe thead th {\n",
       "        text-align: right;\n",
       "    }\n",
       "</style>\n",
       "<table border=\"1\" class=\"dataframe\">\n",
       "  <thead>\n",
       "    <tr style=\"text-align: right;\">\n",
       "      <th></th>\n",
       "      <th>id</th>\n",
       "      <th>object_name</th>\n",
       "      <th>chain</th>\n",
       "      <th>object_type</th>\n",
       "      <th>address</th>\n",
       "      <th>number</th>\n",
       "    </tr>\n",
       "  </thead>\n",
       "  <tbody>\n",
       "    <tr>\n",
       "      <th>count</th>\n",
       "      <td>15366.000000</td>\n",
       "      <td>15366</td>\n",
       "      <td>15366</td>\n",
       "      <td>15366</td>\n",
       "      <td>15366</td>\n",
       "      <td>15366.000000</td>\n",
       "    </tr>\n",
       "    <tr>\n",
       "      <th>unique</th>\n",
       "      <td>NaN</td>\n",
       "      <td>10393</td>\n",
       "      <td>2</td>\n",
       "      <td>9</td>\n",
       "      <td>9108</td>\n",
       "      <td>NaN</td>\n",
       "    </tr>\n",
       "    <tr>\n",
       "      <th>top</th>\n",
       "      <td>NaN</td>\n",
       "      <td>Столовая</td>\n",
       "      <td>нет</td>\n",
       "      <td>кафе</td>\n",
       "      <td>город Москва, Ходынский бульвар, дом 4</td>\n",
       "      <td>NaN</td>\n",
       "    </tr>\n",
       "    <tr>\n",
       "      <th>freq</th>\n",
       "      <td>NaN</td>\n",
       "      <td>267</td>\n",
       "      <td>12398</td>\n",
       "      <td>6099</td>\n",
       "      <td>95</td>\n",
       "      <td>NaN</td>\n",
       "    </tr>\n",
       "    <tr>\n",
       "      <th>mean</th>\n",
       "      <td>119720.066901</td>\n",
       "      <td>NaN</td>\n",
       "      <td>NaN</td>\n",
       "      <td>NaN</td>\n",
       "      <td>NaN</td>\n",
       "      <td>59.547182</td>\n",
       "    </tr>\n",
       "    <tr>\n",
       "      <th>std</th>\n",
       "      <td>73036.130732</td>\n",
       "      <td>NaN</td>\n",
       "      <td>NaN</td>\n",
       "      <td>NaN</td>\n",
       "      <td>NaN</td>\n",
       "      <td>74.736833</td>\n",
       "    </tr>\n",
       "    <tr>\n",
       "      <th>min</th>\n",
       "      <td>838.000000</td>\n",
       "      <td>NaN</td>\n",
       "      <td>NaN</td>\n",
       "      <td>NaN</td>\n",
       "      <td>NaN</td>\n",
       "      <td>0.000000</td>\n",
       "    </tr>\n",
       "    <tr>\n",
       "      <th>25%</th>\n",
       "      <td>28524.000000</td>\n",
       "      <td>NaN</td>\n",
       "      <td>NaN</td>\n",
       "      <td>NaN</td>\n",
       "      <td>NaN</td>\n",
       "      <td>12.000000</td>\n",
       "    </tr>\n",
       "    <tr>\n",
       "      <th>50%</th>\n",
       "      <td>144974.500000</td>\n",
       "      <td>NaN</td>\n",
       "      <td>NaN</td>\n",
       "      <td>NaN</td>\n",
       "      <td>NaN</td>\n",
       "      <td>40.000000</td>\n",
       "    </tr>\n",
       "    <tr>\n",
       "      <th>75%</th>\n",
       "      <td>184262.250000</td>\n",
       "      <td>NaN</td>\n",
       "      <td>NaN</td>\n",
       "      <td>NaN</td>\n",
       "      <td>NaN</td>\n",
       "      <td>80.000000</td>\n",
       "    </tr>\n",
       "    <tr>\n",
       "      <th>max</th>\n",
       "      <td>223439.000000</td>\n",
       "      <td>NaN</td>\n",
       "      <td>NaN</td>\n",
       "      <td>NaN</td>\n",
       "      <td>NaN</td>\n",
       "      <td>1700.000000</td>\n",
       "    </tr>\n",
       "  </tbody>\n",
       "</table>\n",
       "</div>"
      ],
      "text/plain": [
       "                   id object_name  chain object_type  \\\n",
       "count    15366.000000       15366  15366       15366   \n",
       "unique            NaN       10393      2           9   \n",
       "top               NaN    Столовая    нет        кафе   \n",
       "freq              NaN         267  12398        6099   \n",
       "mean    119720.066901         NaN    NaN         NaN   \n",
       "std      73036.130732         NaN    NaN         NaN   \n",
       "min        838.000000         NaN    NaN         NaN   \n",
       "25%      28524.000000         NaN    NaN         NaN   \n",
       "50%     144974.500000         NaN    NaN         NaN   \n",
       "75%     184262.250000         NaN    NaN         NaN   \n",
       "max     223439.000000         NaN    NaN         NaN   \n",
       "\n",
       "                                       address        number  \n",
       "count                                    15366  15366.000000  \n",
       "unique                                    9108           NaN  \n",
       "top     город Москва, Ходынский бульвар, дом 4           NaN  \n",
       "freq                                        95           NaN  \n",
       "mean                                       NaN     59.547182  \n",
       "std                                        NaN     74.736833  \n",
       "min                                        NaN      0.000000  \n",
       "25%                                        NaN     12.000000  \n",
       "50%                                        NaN     40.000000  \n",
       "75%                                        NaN     80.000000  \n",
       "max                                        NaN   1700.000000  "
      ]
     },
     "execution_count": 9,
     "metadata": {},
     "output_type": "execute_result"
    }
   ],
   "source": [
    "print('\\nРассмотрим общую информацию')\n",
    "rest_data.info()\n",
    "print('\\nВыведем DataFrame на экран')\n",
    "display(rest_data)\n",
    "print('\\nРассмотрим описательную статистику нашего DataFrame')\n",
    "rest_data.describe(include='all')"
   ]
  },
  {
   "cell_type": "markdown",
   "metadata": {},
   "source": [
    "##### Описание  данных \n",
    "\n",
    "`object_name` — название объекта общественного питания;\n",
    "\n",
    "`chain` — сетевой ресторан;\n",
    "\n",
    "`object_type` — тип объекта общественного питания;\n",
    "\n",
    "`address` — адрес;\n",
    "\n",
    "`number` — количество посадочных мест."
   ]
  },
  {
   "cell_type": "markdown",
   "metadata": {},
   "source": [
    "#### Вывод\n",
    "Для проверки на дубликаты приведем стобцы к нижнему регистру. Видим, что наибольшеее количество посадочных мест - 1700. Посмотрим повнимательнее на строчки, где количество посадочных мест больше 1000\n"
   ]
  },
  {
   "cell_type": "code",
   "execution_count": 10,
   "metadata": {},
   "outputs": [],
   "source": [
    "# приведем строки столбца object_name к нижнему регисту\n",
    "rest_data['object_name'] = rest_data['object_name'].str.lower()"
   ]
  },
  {
   "cell_type": "code",
   "execution_count": 11,
   "metadata": {},
   "outputs": [
    {
     "data": {
      "text/plain": [
       "0"
      ]
     },
     "execution_count": 11,
     "metadata": {},
     "output_type": "execute_result"
    }
   ],
   "source": [
    "# Посмотрим, есть ли дубликаты\n",
    "rest_data.duplicated().sum()"
   ]
  },
  {
   "cell_type": "code",
   "execution_count": 12,
   "metadata": {},
   "outputs": [
    {
     "data": {
      "text/html": [
       "<div>\n",
       "<style scoped>\n",
       "    .dataframe tbody tr th:only-of-type {\n",
       "        vertical-align: middle;\n",
       "    }\n",
       "\n",
       "    .dataframe tbody tr th {\n",
       "        vertical-align: top;\n",
       "    }\n",
       "\n",
       "    .dataframe thead th {\n",
       "        text-align: right;\n",
       "    }\n",
       "</style>\n",
       "<table border=\"1\" class=\"dataframe\">\n",
       "  <thead>\n",
       "    <tr style=\"text-align: right;\">\n",
       "      <th></th>\n",
       "      <th>id</th>\n",
       "      <th>object_name</th>\n",
       "      <th>chain</th>\n",
       "      <th>object_type</th>\n",
       "      <th>address</th>\n",
       "      <th>number</th>\n",
       "    </tr>\n",
       "  </thead>\n",
       "  <tbody>\n",
       "    <tr>\n",
       "      <th>2313</th>\n",
       "      <td>26560</td>\n",
       "      <td>ресторан «альфа»</td>\n",
       "      <td>нет</td>\n",
       "      <td>ресторан</td>\n",
       "      <td>город Москва, Измайловское шоссе, дом 71, корп...</td>\n",
       "      <td>1040</td>\n",
       "    </tr>\n",
       "    <tr>\n",
       "      <th>3686</th>\n",
       "      <td>27026</td>\n",
       "      <td>рум сервис</td>\n",
       "      <td>нет</td>\n",
       "      <td>ресторан</td>\n",
       "      <td>город Москва, площадь Европы, дом 2</td>\n",
       "      <td>1200</td>\n",
       "    </tr>\n",
       "    <tr>\n",
       "      <th>4480</th>\n",
       "      <td>27024</td>\n",
       "      <td>рум сервис</td>\n",
       "      <td>нет</td>\n",
       "      <td>ресторан</td>\n",
       "      <td>город Москва, Кутузовский проспект, дом 2/1, с...</td>\n",
       "      <td>1200</td>\n",
       "    </tr>\n",
       "    <tr>\n",
       "      <th>8148</th>\n",
       "      <td>80291</td>\n",
       "      <td>банкетный зал шелк</td>\n",
       "      <td>нет</td>\n",
       "      <td>ресторан</td>\n",
       "      <td>город Москва, Большой Саввинский переулок, дом...</td>\n",
       "      <td>1500</td>\n",
       "    </tr>\n",
       "    <tr>\n",
       "      <th>8345</th>\n",
       "      <td>27750</td>\n",
       "      <td>столовая-буфет</td>\n",
       "      <td>нет</td>\n",
       "      <td>столовая</td>\n",
       "      <td>город Москва, улица Волхонка, дом 15</td>\n",
       "      <td>1400</td>\n",
       "    </tr>\n",
       "    <tr>\n",
       "      <th>9064</th>\n",
       "      <td>19719</td>\n",
       "      <td>комбинат питания «управление академсервис»</td>\n",
       "      <td>нет</td>\n",
       "      <td>столовая</td>\n",
       "      <td>город Москва, проспект Вернадского, дом 84, ст...</td>\n",
       "      <td>1288</td>\n",
       "    </tr>\n",
       "    <tr>\n",
       "      <th>12723</th>\n",
       "      <td>199696</td>\n",
       "      <td>arena by soho family</td>\n",
       "      <td>нет</td>\n",
       "      <td>бар</td>\n",
       "      <td>город Москва, Кутузовский проспект, дом 36, ст...</td>\n",
       "      <td>1700</td>\n",
       "    </tr>\n",
       "  </tbody>\n",
       "</table>\n",
       "</div>"
      ],
      "text/plain": [
       "           id                                 object_name chain object_type  \\\n",
       "2313    26560                            ресторан «альфа»   нет    ресторан   \n",
       "3686    27026                                  рум сервис   нет    ресторан   \n",
       "4480    27024                                  рум сервис   нет    ресторан   \n",
       "8148    80291                          банкетный зал шелк   нет    ресторан   \n",
       "8345    27750                              столовая-буфет   нет    столовая   \n",
       "9064    19719  комбинат питания «управление академсервис»   нет    столовая   \n",
       "12723  199696                        arena by soho family   нет         бар   \n",
       "\n",
       "                                                 address  number  \n",
       "2313   город Москва, Измайловское шоссе, дом 71, корп...    1040  \n",
       "3686                 город Москва, площадь Европы, дом 2    1200  \n",
       "4480   город Москва, Кутузовский проспект, дом 2/1, с...    1200  \n",
       "8148   город Москва, Большой Саввинский переулок, дом...    1500  \n",
       "8345                город Москва, улица Волхонка, дом 15    1400  \n",
       "9064   город Москва, проспект Вернадского, дом 84, ст...    1288  \n",
       "12723  город Москва, Кутузовский проспект, дом 36, ст...    1700  "
      ]
     },
     "metadata": {},
     "output_type": "display_data"
    }
   ],
   "source": [
    "# Выведем на экран заведения, где число посадочных мест больше 1000\n",
    "display(rest_data[rest_data['number']>1000])"
   ]
  },
  {
   "cell_type": "code",
   "execution_count": 13,
   "metadata": {},
   "outputs": [
    {
     "data": {
      "text/plain": [
       "array(['кафе', 'столовая', 'закусочная',\n",
       "       'предприятие быстрого обслуживания', 'ресторан', 'кафетерий',\n",
       "       'буфет', 'бар', 'магазин (отдел кулинарии)'], dtype=object)"
      ]
     },
     "metadata": {},
     "output_type": "display_data"
    }
   ],
   "source": [
    "# Выведем на экран уникальные типы заведений\n",
    "display(rest_data['object_type'].unique())"
   ]
  },
  {
   "cell_type": "markdown",
   "metadata": {},
   "source": [
    "#### Вывод\n",
    "Дубликты не были найдены. Заведения с количеством > 1000 посадочных мест выглядят правдоподобно "
   ]
  },
  {
   "cell_type": "markdown",
   "metadata": {},
   "source": [
    "## <a id=\"step2\"> Шаг №2. Анализ данных¶ </a>"
   ]
  },
  {
   "cell_type": "markdown",
   "metadata": {},
   "source": [
    "#### <a id=\"step3\"> Исследуйте соотношение видов объектов общественного питания по количеству. Постройте график.</a>"
   ]
  },
  {
   "cell_type": "code",
   "execution_count": 14,
   "metadata": {},
   "outputs": [],
   "source": [
    "name_rest = rest_data.groupby('object_type').agg({'id':'count'})"
   ]
  },
  {
   "cell_type": "code",
   "execution_count": 15,
   "metadata": {},
   "outputs": [
    {
     "data": {
      "application/vnd.plotly.v1+json": {
       "config": {
        "plotlyServerURL": "https://plot.ly"
       },
       "data": [
        {
         "hole": 0.8,
         "labels": [
          "бар",
          "буфет",
          "закусочная",
          "кафе",
          "кафетерий",
          "магазин (отдел кулинарии)",
          "предприятие быстрого обслуживания",
          "ресторан",
          "столовая"
         ],
         "type": "pie",
         "values": [
          856,
          585,
          360,
          6099,
          398,
          273,
          1923,
          2285,
          2587
         ]
        }
       ],
       "layout": {
        "annotations": [
         {
          "font": {
           "size": 20
          },
          "showarrow": false,
          "text": "Всего заведений:<br>15366",
          "x": 0.5,
          "y": 0.5
         }
        ],
        "template": {
         "data": {
          "bar": [
           {
            "error_x": {
             "color": "#2a3f5f"
            },
            "error_y": {
             "color": "#2a3f5f"
            },
            "marker": {
             "line": {
              "color": "#E5ECF6",
              "width": 0.5
             },
             "pattern": {
              "fillmode": "overlay",
              "size": 10,
              "solidity": 0.2
             }
            },
            "type": "bar"
           }
          ],
          "barpolar": [
           {
            "marker": {
             "line": {
              "color": "#E5ECF6",
              "width": 0.5
             },
             "pattern": {
              "fillmode": "overlay",
              "size": 10,
              "solidity": 0.2
             }
            },
            "type": "barpolar"
           }
          ],
          "carpet": [
           {
            "aaxis": {
             "endlinecolor": "#2a3f5f",
             "gridcolor": "white",
             "linecolor": "white",
             "minorgridcolor": "white",
             "startlinecolor": "#2a3f5f"
            },
            "baxis": {
             "endlinecolor": "#2a3f5f",
             "gridcolor": "white",
             "linecolor": "white",
             "minorgridcolor": "white",
             "startlinecolor": "#2a3f5f"
            },
            "type": "carpet"
           }
          ],
          "choropleth": [
           {
            "colorbar": {
             "outlinewidth": 0,
             "ticks": ""
            },
            "type": "choropleth"
           }
          ],
          "contour": [
           {
            "colorbar": {
             "outlinewidth": 0,
             "ticks": ""
            },
            "colorscale": [
             [
              0,
              "#0d0887"
             ],
             [
              0.1111111111111111,
              "#46039f"
             ],
             [
              0.2222222222222222,
              "#7201a8"
             ],
             [
              0.3333333333333333,
              "#9c179e"
             ],
             [
              0.4444444444444444,
              "#bd3786"
             ],
             [
              0.5555555555555556,
              "#d8576b"
             ],
             [
              0.6666666666666666,
              "#ed7953"
             ],
             [
              0.7777777777777778,
              "#fb9f3a"
             ],
             [
              0.8888888888888888,
              "#fdca26"
             ],
             [
              1,
              "#f0f921"
             ]
            ],
            "type": "contour"
           }
          ],
          "contourcarpet": [
           {
            "colorbar": {
             "outlinewidth": 0,
             "ticks": ""
            },
            "type": "contourcarpet"
           }
          ],
          "heatmap": [
           {
            "colorbar": {
             "outlinewidth": 0,
             "ticks": ""
            },
            "colorscale": [
             [
              0,
              "#0d0887"
             ],
             [
              0.1111111111111111,
              "#46039f"
             ],
             [
              0.2222222222222222,
              "#7201a8"
             ],
             [
              0.3333333333333333,
              "#9c179e"
             ],
             [
              0.4444444444444444,
              "#bd3786"
             ],
             [
              0.5555555555555556,
              "#d8576b"
             ],
             [
              0.6666666666666666,
              "#ed7953"
             ],
             [
              0.7777777777777778,
              "#fb9f3a"
             ],
             [
              0.8888888888888888,
              "#fdca26"
             ],
             [
              1,
              "#f0f921"
             ]
            ],
            "type": "heatmap"
           }
          ],
          "heatmapgl": [
           {
            "colorbar": {
             "outlinewidth": 0,
             "ticks": ""
            },
            "colorscale": [
             [
              0,
              "#0d0887"
             ],
             [
              0.1111111111111111,
              "#46039f"
             ],
             [
              0.2222222222222222,
              "#7201a8"
             ],
             [
              0.3333333333333333,
              "#9c179e"
             ],
             [
              0.4444444444444444,
              "#bd3786"
             ],
             [
              0.5555555555555556,
              "#d8576b"
             ],
             [
              0.6666666666666666,
              "#ed7953"
             ],
             [
              0.7777777777777778,
              "#fb9f3a"
             ],
             [
              0.8888888888888888,
              "#fdca26"
             ],
             [
              1,
              "#f0f921"
             ]
            ],
            "type": "heatmapgl"
           }
          ],
          "histogram": [
           {
            "marker": {
             "pattern": {
              "fillmode": "overlay",
              "size": 10,
              "solidity": 0.2
             }
            },
            "type": "histogram"
           }
          ],
          "histogram2d": [
           {
            "colorbar": {
             "outlinewidth": 0,
             "ticks": ""
            },
            "colorscale": [
             [
              0,
              "#0d0887"
             ],
             [
              0.1111111111111111,
              "#46039f"
             ],
             [
              0.2222222222222222,
              "#7201a8"
             ],
             [
              0.3333333333333333,
              "#9c179e"
             ],
             [
              0.4444444444444444,
              "#bd3786"
             ],
             [
              0.5555555555555556,
              "#d8576b"
             ],
             [
              0.6666666666666666,
              "#ed7953"
             ],
             [
              0.7777777777777778,
              "#fb9f3a"
             ],
             [
              0.8888888888888888,
              "#fdca26"
             ],
             [
              1,
              "#f0f921"
             ]
            ],
            "type": "histogram2d"
           }
          ],
          "histogram2dcontour": [
           {
            "colorbar": {
             "outlinewidth": 0,
             "ticks": ""
            },
            "colorscale": [
             [
              0,
              "#0d0887"
             ],
             [
              0.1111111111111111,
              "#46039f"
             ],
             [
              0.2222222222222222,
              "#7201a8"
             ],
             [
              0.3333333333333333,
              "#9c179e"
             ],
             [
              0.4444444444444444,
              "#bd3786"
             ],
             [
              0.5555555555555556,
              "#d8576b"
             ],
             [
              0.6666666666666666,
              "#ed7953"
             ],
             [
              0.7777777777777778,
              "#fb9f3a"
             ],
             [
              0.8888888888888888,
              "#fdca26"
             ],
             [
              1,
              "#f0f921"
             ]
            ],
            "type": "histogram2dcontour"
           }
          ],
          "mesh3d": [
           {
            "colorbar": {
             "outlinewidth": 0,
             "ticks": ""
            },
            "type": "mesh3d"
           }
          ],
          "parcoords": [
           {
            "line": {
             "colorbar": {
              "outlinewidth": 0,
              "ticks": ""
             }
            },
            "type": "parcoords"
           }
          ],
          "pie": [
           {
            "automargin": true,
            "type": "pie"
           }
          ],
          "scatter": [
           {
            "fillpattern": {
             "fillmode": "overlay",
             "size": 10,
             "solidity": 0.2
            },
            "type": "scatter"
           }
          ],
          "scatter3d": [
           {
            "line": {
             "colorbar": {
              "outlinewidth": 0,
              "ticks": ""
             }
            },
            "marker": {
             "colorbar": {
              "outlinewidth": 0,
              "ticks": ""
             }
            },
            "type": "scatter3d"
           }
          ],
          "scattercarpet": [
           {
            "marker": {
             "colorbar": {
              "outlinewidth": 0,
              "ticks": ""
             }
            },
            "type": "scattercarpet"
           }
          ],
          "scattergeo": [
           {
            "marker": {
             "colorbar": {
              "outlinewidth": 0,
              "ticks": ""
             }
            },
            "type": "scattergeo"
           }
          ],
          "scattergl": [
           {
            "marker": {
             "colorbar": {
              "outlinewidth": 0,
              "ticks": ""
             }
            },
            "type": "scattergl"
           }
          ],
          "scattermapbox": [
           {
            "marker": {
             "colorbar": {
              "outlinewidth": 0,
              "ticks": ""
             }
            },
            "type": "scattermapbox"
           }
          ],
          "scatterpolar": [
           {
            "marker": {
             "colorbar": {
              "outlinewidth": 0,
              "ticks": ""
             }
            },
            "type": "scatterpolar"
           }
          ],
          "scatterpolargl": [
           {
            "marker": {
             "colorbar": {
              "outlinewidth": 0,
              "ticks": ""
             }
            },
            "type": "scatterpolargl"
           }
          ],
          "scatterternary": [
           {
            "marker": {
             "colorbar": {
              "outlinewidth": 0,
              "ticks": ""
             }
            },
            "type": "scatterternary"
           }
          ],
          "surface": [
           {
            "colorbar": {
             "outlinewidth": 0,
             "ticks": ""
            },
            "colorscale": [
             [
              0,
              "#0d0887"
             ],
             [
              0.1111111111111111,
              "#46039f"
             ],
             [
              0.2222222222222222,
              "#7201a8"
             ],
             [
              0.3333333333333333,
              "#9c179e"
             ],
             [
              0.4444444444444444,
              "#bd3786"
             ],
             [
              0.5555555555555556,
              "#d8576b"
             ],
             [
              0.6666666666666666,
              "#ed7953"
             ],
             [
              0.7777777777777778,
              "#fb9f3a"
             ],
             [
              0.8888888888888888,
              "#fdca26"
             ],
             [
              1,
              "#f0f921"
             ]
            ],
            "type": "surface"
           }
          ],
          "table": [
           {
            "cells": {
             "fill": {
              "color": "#EBF0F8"
             },
             "line": {
              "color": "white"
             }
            },
            "header": {
             "fill": {
              "color": "#C8D4E3"
             },
             "line": {
              "color": "white"
             }
            },
            "type": "table"
           }
          ]
         },
         "layout": {
          "annotationdefaults": {
           "arrowcolor": "#2a3f5f",
           "arrowhead": 0,
           "arrowwidth": 1
          },
          "autotypenumbers": "strict",
          "coloraxis": {
           "colorbar": {
            "outlinewidth": 0,
            "ticks": ""
           }
          },
          "colorscale": {
           "diverging": [
            [
             0,
             "#8e0152"
            ],
            [
             0.1,
             "#c51b7d"
            ],
            [
             0.2,
             "#de77ae"
            ],
            [
             0.3,
             "#f1b6da"
            ],
            [
             0.4,
             "#fde0ef"
            ],
            [
             0.5,
             "#f7f7f7"
            ],
            [
             0.6,
             "#e6f5d0"
            ],
            [
             0.7,
             "#b8e186"
            ],
            [
             0.8,
             "#7fbc41"
            ],
            [
             0.9,
             "#4d9221"
            ],
            [
             1,
             "#276419"
            ]
           ],
           "sequential": [
            [
             0,
             "#0d0887"
            ],
            [
             0.1111111111111111,
             "#46039f"
            ],
            [
             0.2222222222222222,
             "#7201a8"
            ],
            [
             0.3333333333333333,
             "#9c179e"
            ],
            [
             0.4444444444444444,
             "#bd3786"
            ],
            [
             0.5555555555555556,
             "#d8576b"
            ],
            [
             0.6666666666666666,
             "#ed7953"
            ],
            [
             0.7777777777777778,
             "#fb9f3a"
            ],
            [
             0.8888888888888888,
             "#fdca26"
            ],
            [
             1,
             "#f0f921"
            ]
           ],
           "sequentialminus": [
            [
             0,
             "#0d0887"
            ],
            [
             0.1111111111111111,
             "#46039f"
            ],
            [
             0.2222222222222222,
             "#7201a8"
            ],
            [
             0.3333333333333333,
             "#9c179e"
            ],
            [
             0.4444444444444444,
             "#bd3786"
            ],
            [
             0.5555555555555556,
             "#d8576b"
            ],
            [
             0.6666666666666666,
             "#ed7953"
            ],
            [
             0.7777777777777778,
             "#fb9f3a"
            ],
            [
             0.8888888888888888,
             "#fdca26"
            ],
            [
             1,
             "#f0f921"
            ]
           ]
          },
          "colorway": [
           "#636efa",
           "#EF553B",
           "#00cc96",
           "#ab63fa",
           "#FFA15A",
           "#19d3f3",
           "#FF6692",
           "#B6E880",
           "#FF97FF",
           "#FECB52"
          ],
          "font": {
           "color": "#2a3f5f"
          },
          "geo": {
           "bgcolor": "white",
           "lakecolor": "white",
           "landcolor": "#E5ECF6",
           "showlakes": true,
           "showland": true,
           "subunitcolor": "white"
          },
          "hoverlabel": {
           "align": "left"
          },
          "hovermode": "closest",
          "mapbox": {
           "style": "light"
          },
          "paper_bgcolor": "white",
          "plot_bgcolor": "#E5ECF6",
          "polar": {
           "angularaxis": {
            "gridcolor": "white",
            "linecolor": "white",
            "ticks": ""
           },
           "bgcolor": "#E5ECF6",
           "radialaxis": {
            "gridcolor": "white",
            "linecolor": "white",
            "ticks": ""
           }
          },
          "scene": {
           "xaxis": {
            "backgroundcolor": "#E5ECF6",
            "gridcolor": "white",
            "gridwidth": 2,
            "linecolor": "white",
            "showbackground": true,
            "ticks": "",
            "zerolinecolor": "white"
           },
           "yaxis": {
            "backgroundcolor": "#E5ECF6",
            "gridcolor": "white",
            "gridwidth": 2,
            "linecolor": "white",
            "showbackground": true,
            "ticks": "",
            "zerolinecolor": "white"
           },
           "zaxis": {
            "backgroundcolor": "#E5ECF6",
            "gridcolor": "white",
            "gridwidth": 2,
            "linecolor": "white",
            "showbackground": true,
            "ticks": "",
            "zerolinecolor": "white"
           }
          },
          "shapedefaults": {
           "line": {
            "color": "#2a3f5f"
           }
          },
          "ternary": {
           "aaxis": {
            "gridcolor": "white",
            "linecolor": "white",
            "ticks": ""
           },
           "baxis": {
            "gridcolor": "white",
            "linecolor": "white",
            "ticks": ""
           },
           "bgcolor": "#E5ECF6",
           "caxis": {
            "gridcolor": "white",
            "linecolor": "white",
            "ticks": ""
           }
          },
          "title": {
           "x": 0.05
          },
          "xaxis": {
           "automargin": true,
           "gridcolor": "white",
           "linecolor": "white",
           "ticks": "",
           "title": {
            "standoff": 15
           },
           "zerolinecolor": "white",
           "zerolinewidth": 2
          },
          "yaxis": {
           "automargin": true,
           "gridcolor": "white",
           "linecolor": "white",
           "ticks": "",
           "title": {
            "standoff": 15
           },
           "zerolinecolor": "white",
           "zerolinewidth": 2
          }
         }
        },
        "title": {
         "text": "Соотношение типов объектов общественного<br>питания",
         "x": 0.5
        }
       }
      }
     },
     "metadata": {},
     "output_type": "display_data"
    }
   ],
   "source": [
    "fig = go.Figure(data=[go.Pie(labels=name_rest.index, values=name_rest['id'],hole=0.8)])\n",
    "fig.update_layout(title=\"Соотношение типов объектов общественного<br>питания\",\n",
    "    title_x = 0.5,\n",
    "annotations=[dict(text=('Всего заведений:<br>'+ str(name_rest['id'].sum())), x=0.5, y=0.5, font_size=20, showarrow=False)])\n",
    "\n",
    "fig.show()"
   ]
  },
  {
   "cell_type": "markdown",
   "metadata": {},
   "source": [
    "#### Вывод\n",
    "Большинство заведений(39,7% или 6099) принадлежат категории Кафе. Наименьшее количество заведений в категории Магазин (отдел кулинарии) (1.78 или 273)."
   ]
  },
  {
   "cell_type": "markdown",
   "metadata": {},
   "source": [
    "#### <a id=\"step4\"> Исследуйте соотношение сетевых и несетевых заведений по количеству. Постройте график.</a>"
   ]
  },
  {
   "cell_type": "code",
   "execution_count": 16,
   "metadata": {},
   "outputs": [],
   "source": [
    "chain_rest = rest_data.groupby(['chain','object_type']).agg({'id':'count'}).reset_index()"
   ]
  },
  {
   "cell_type": "code",
   "execution_count": 17,
   "metadata": {},
   "outputs": [
    {
     "data": {
      "application/vnd.plotly.v1+json": {
       "config": {
        "plotlyServerURL": "https://plot.ly"
       },
       "data": [
        {
         "hole": 0.8,
         "labels": [
          "да",
          "да",
          "да",
          "да",
          "да",
          "да",
          "да",
          "да",
          "да",
          "нет",
          "нет",
          "нет",
          "нет",
          "нет",
          "нет",
          "нет",
          "нет",
          "нет"
         ],
         "type": "pie",
         "values": [
          37,
          11,
          56,
          1396,
          52,
          78,
          791,
          544,
          3,
          819,
          574,
          304,
          4703,
          346,
          195,
          1132,
          1741,
          2584
         ]
        }
       ],
       "layout": {
        "annotations": [
         {
          "font": {
           "size": 20
          },
          "showarrow": false,
          "text": "Является ли заведение <br> сетевым?",
          "x": 0.5,
          "y": 0.5
         }
        ],
        "template": {
         "data": {
          "bar": [
           {
            "error_x": {
             "color": "#2a3f5f"
            },
            "error_y": {
             "color": "#2a3f5f"
            },
            "marker": {
             "line": {
              "color": "#E5ECF6",
              "width": 0.5
             },
             "pattern": {
              "fillmode": "overlay",
              "size": 10,
              "solidity": 0.2
             }
            },
            "type": "bar"
           }
          ],
          "barpolar": [
           {
            "marker": {
             "line": {
              "color": "#E5ECF6",
              "width": 0.5
             },
             "pattern": {
              "fillmode": "overlay",
              "size": 10,
              "solidity": 0.2
             }
            },
            "type": "barpolar"
           }
          ],
          "carpet": [
           {
            "aaxis": {
             "endlinecolor": "#2a3f5f",
             "gridcolor": "white",
             "linecolor": "white",
             "minorgridcolor": "white",
             "startlinecolor": "#2a3f5f"
            },
            "baxis": {
             "endlinecolor": "#2a3f5f",
             "gridcolor": "white",
             "linecolor": "white",
             "minorgridcolor": "white",
             "startlinecolor": "#2a3f5f"
            },
            "type": "carpet"
           }
          ],
          "choropleth": [
           {
            "colorbar": {
             "outlinewidth": 0,
             "ticks": ""
            },
            "type": "choropleth"
           }
          ],
          "contour": [
           {
            "colorbar": {
             "outlinewidth": 0,
             "ticks": ""
            },
            "colorscale": [
             [
              0,
              "#0d0887"
             ],
             [
              0.1111111111111111,
              "#46039f"
             ],
             [
              0.2222222222222222,
              "#7201a8"
             ],
             [
              0.3333333333333333,
              "#9c179e"
             ],
             [
              0.4444444444444444,
              "#bd3786"
             ],
             [
              0.5555555555555556,
              "#d8576b"
             ],
             [
              0.6666666666666666,
              "#ed7953"
             ],
             [
              0.7777777777777778,
              "#fb9f3a"
             ],
             [
              0.8888888888888888,
              "#fdca26"
             ],
             [
              1,
              "#f0f921"
             ]
            ],
            "type": "contour"
           }
          ],
          "contourcarpet": [
           {
            "colorbar": {
             "outlinewidth": 0,
             "ticks": ""
            },
            "type": "contourcarpet"
           }
          ],
          "heatmap": [
           {
            "colorbar": {
             "outlinewidth": 0,
             "ticks": ""
            },
            "colorscale": [
             [
              0,
              "#0d0887"
             ],
             [
              0.1111111111111111,
              "#46039f"
             ],
             [
              0.2222222222222222,
              "#7201a8"
             ],
             [
              0.3333333333333333,
              "#9c179e"
             ],
             [
              0.4444444444444444,
              "#bd3786"
             ],
             [
              0.5555555555555556,
              "#d8576b"
             ],
             [
              0.6666666666666666,
              "#ed7953"
             ],
             [
              0.7777777777777778,
              "#fb9f3a"
             ],
             [
              0.8888888888888888,
              "#fdca26"
             ],
             [
              1,
              "#f0f921"
             ]
            ],
            "type": "heatmap"
           }
          ],
          "heatmapgl": [
           {
            "colorbar": {
             "outlinewidth": 0,
             "ticks": ""
            },
            "colorscale": [
             [
              0,
              "#0d0887"
             ],
             [
              0.1111111111111111,
              "#46039f"
             ],
             [
              0.2222222222222222,
              "#7201a8"
             ],
             [
              0.3333333333333333,
              "#9c179e"
             ],
             [
              0.4444444444444444,
              "#bd3786"
             ],
             [
              0.5555555555555556,
              "#d8576b"
             ],
             [
              0.6666666666666666,
              "#ed7953"
             ],
             [
              0.7777777777777778,
              "#fb9f3a"
             ],
             [
              0.8888888888888888,
              "#fdca26"
             ],
             [
              1,
              "#f0f921"
             ]
            ],
            "type": "heatmapgl"
           }
          ],
          "histogram": [
           {
            "marker": {
             "pattern": {
              "fillmode": "overlay",
              "size": 10,
              "solidity": 0.2
             }
            },
            "type": "histogram"
           }
          ],
          "histogram2d": [
           {
            "colorbar": {
             "outlinewidth": 0,
             "ticks": ""
            },
            "colorscale": [
             [
              0,
              "#0d0887"
             ],
             [
              0.1111111111111111,
              "#46039f"
             ],
             [
              0.2222222222222222,
              "#7201a8"
             ],
             [
              0.3333333333333333,
              "#9c179e"
             ],
             [
              0.4444444444444444,
              "#bd3786"
             ],
             [
              0.5555555555555556,
              "#d8576b"
             ],
             [
              0.6666666666666666,
              "#ed7953"
             ],
             [
              0.7777777777777778,
              "#fb9f3a"
             ],
             [
              0.8888888888888888,
              "#fdca26"
             ],
             [
              1,
              "#f0f921"
             ]
            ],
            "type": "histogram2d"
           }
          ],
          "histogram2dcontour": [
           {
            "colorbar": {
             "outlinewidth": 0,
             "ticks": ""
            },
            "colorscale": [
             [
              0,
              "#0d0887"
             ],
             [
              0.1111111111111111,
              "#46039f"
             ],
             [
              0.2222222222222222,
              "#7201a8"
             ],
             [
              0.3333333333333333,
              "#9c179e"
             ],
             [
              0.4444444444444444,
              "#bd3786"
             ],
             [
              0.5555555555555556,
              "#d8576b"
             ],
             [
              0.6666666666666666,
              "#ed7953"
             ],
             [
              0.7777777777777778,
              "#fb9f3a"
             ],
             [
              0.8888888888888888,
              "#fdca26"
             ],
             [
              1,
              "#f0f921"
             ]
            ],
            "type": "histogram2dcontour"
           }
          ],
          "mesh3d": [
           {
            "colorbar": {
             "outlinewidth": 0,
             "ticks": ""
            },
            "type": "mesh3d"
           }
          ],
          "parcoords": [
           {
            "line": {
             "colorbar": {
              "outlinewidth": 0,
              "ticks": ""
             }
            },
            "type": "parcoords"
           }
          ],
          "pie": [
           {
            "automargin": true,
            "type": "pie"
           }
          ],
          "scatter": [
           {
            "fillpattern": {
             "fillmode": "overlay",
             "size": 10,
             "solidity": 0.2
            },
            "type": "scatter"
           }
          ],
          "scatter3d": [
           {
            "line": {
             "colorbar": {
              "outlinewidth": 0,
              "ticks": ""
             }
            },
            "marker": {
             "colorbar": {
              "outlinewidth": 0,
              "ticks": ""
             }
            },
            "type": "scatter3d"
           }
          ],
          "scattercarpet": [
           {
            "marker": {
             "colorbar": {
              "outlinewidth": 0,
              "ticks": ""
             }
            },
            "type": "scattercarpet"
           }
          ],
          "scattergeo": [
           {
            "marker": {
             "colorbar": {
              "outlinewidth": 0,
              "ticks": ""
             }
            },
            "type": "scattergeo"
           }
          ],
          "scattergl": [
           {
            "marker": {
             "colorbar": {
              "outlinewidth": 0,
              "ticks": ""
             }
            },
            "type": "scattergl"
           }
          ],
          "scattermapbox": [
           {
            "marker": {
             "colorbar": {
              "outlinewidth": 0,
              "ticks": ""
             }
            },
            "type": "scattermapbox"
           }
          ],
          "scatterpolar": [
           {
            "marker": {
             "colorbar": {
              "outlinewidth": 0,
              "ticks": ""
             }
            },
            "type": "scatterpolar"
           }
          ],
          "scatterpolargl": [
           {
            "marker": {
             "colorbar": {
              "outlinewidth": 0,
              "ticks": ""
             }
            },
            "type": "scatterpolargl"
           }
          ],
          "scatterternary": [
           {
            "marker": {
             "colorbar": {
              "outlinewidth": 0,
              "ticks": ""
             }
            },
            "type": "scatterternary"
           }
          ],
          "surface": [
           {
            "colorbar": {
             "outlinewidth": 0,
             "ticks": ""
            },
            "colorscale": [
             [
              0,
              "#0d0887"
             ],
             [
              0.1111111111111111,
              "#46039f"
             ],
             [
              0.2222222222222222,
              "#7201a8"
             ],
             [
              0.3333333333333333,
              "#9c179e"
             ],
             [
              0.4444444444444444,
              "#bd3786"
             ],
             [
              0.5555555555555556,
              "#d8576b"
             ],
             [
              0.6666666666666666,
              "#ed7953"
             ],
             [
              0.7777777777777778,
              "#fb9f3a"
             ],
             [
              0.8888888888888888,
              "#fdca26"
             ],
             [
              1,
              "#f0f921"
             ]
            ],
            "type": "surface"
           }
          ],
          "table": [
           {
            "cells": {
             "fill": {
              "color": "#EBF0F8"
             },
             "line": {
              "color": "white"
             }
            },
            "header": {
             "fill": {
              "color": "#C8D4E3"
             },
             "line": {
              "color": "white"
             }
            },
            "type": "table"
           }
          ]
         },
         "layout": {
          "annotationdefaults": {
           "arrowcolor": "#2a3f5f",
           "arrowhead": 0,
           "arrowwidth": 1
          },
          "autotypenumbers": "strict",
          "coloraxis": {
           "colorbar": {
            "outlinewidth": 0,
            "ticks": ""
           }
          },
          "colorscale": {
           "diverging": [
            [
             0,
             "#8e0152"
            ],
            [
             0.1,
             "#c51b7d"
            ],
            [
             0.2,
             "#de77ae"
            ],
            [
             0.3,
             "#f1b6da"
            ],
            [
             0.4,
             "#fde0ef"
            ],
            [
             0.5,
             "#f7f7f7"
            ],
            [
             0.6,
             "#e6f5d0"
            ],
            [
             0.7,
             "#b8e186"
            ],
            [
             0.8,
             "#7fbc41"
            ],
            [
             0.9,
             "#4d9221"
            ],
            [
             1,
             "#276419"
            ]
           ],
           "sequential": [
            [
             0,
             "#0d0887"
            ],
            [
             0.1111111111111111,
             "#46039f"
            ],
            [
             0.2222222222222222,
             "#7201a8"
            ],
            [
             0.3333333333333333,
             "#9c179e"
            ],
            [
             0.4444444444444444,
             "#bd3786"
            ],
            [
             0.5555555555555556,
             "#d8576b"
            ],
            [
             0.6666666666666666,
             "#ed7953"
            ],
            [
             0.7777777777777778,
             "#fb9f3a"
            ],
            [
             0.8888888888888888,
             "#fdca26"
            ],
            [
             1,
             "#f0f921"
            ]
           ],
           "sequentialminus": [
            [
             0,
             "#0d0887"
            ],
            [
             0.1111111111111111,
             "#46039f"
            ],
            [
             0.2222222222222222,
             "#7201a8"
            ],
            [
             0.3333333333333333,
             "#9c179e"
            ],
            [
             0.4444444444444444,
             "#bd3786"
            ],
            [
             0.5555555555555556,
             "#d8576b"
            ],
            [
             0.6666666666666666,
             "#ed7953"
            ],
            [
             0.7777777777777778,
             "#fb9f3a"
            ],
            [
             0.8888888888888888,
             "#fdca26"
            ],
            [
             1,
             "#f0f921"
            ]
           ]
          },
          "colorway": [
           "#636efa",
           "#EF553B",
           "#00cc96",
           "#ab63fa",
           "#FFA15A",
           "#19d3f3",
           "#FF6692",
           "#B6E880",
           "#FF97FF",
           "#FECB52"
          ],
          "font": {
           "color": "#2a3f5f"
          },
          "geo": {
           "bgcolor": "white",
           "lakecolor": "white",
           "landcolor": "#E5ECF6",
           "showlakes": true,
           "showland": true,
           "subunitcolor": "white"
          },
          "hoverlabel": {
           "align": "left"
          },
          "hovermode": "closest",
          "mapbox": {
           "style": "light"
          },
          "paper_bgcolor": "white",
          "plot_bgcolor": "#E5ECF6",
          "polar": {
           "angularaxis": {
            "gridcolor": "white",
            "linecolor": "white",
            "ticks": ""
           },
           "bgcolor": "#E5ECF6",
           "radialaxis": {
            "gridcolor": "white",
            "linecolor": "white",
            "ticks": ""
           }
          },
          "scene": {
           "xaxis": {
            "backgroundcolor": "#E5ECF6",
            "gridcolor": "white",
            "gridwidth": 2,
            "linecolor": "white",
            "showbackground": true,
            "ticks": "",
            "zerolinecolor": "white"
           },
           "yaxis": {
            "backgroundcolor": "#E5ECF6",
            "gridcolor": "white",
            "gridwidth": 2,
            "linecolor": "white",
            "showbackground": true,
            "ticks": "",
            "zerolinecolor": "white"
           },
           "zaxis": {
            "backgroundcolor": "#E5ECF6",
            "gridcolor": "white",
            "gridwidth": 2,
            "linecolor": "white",
            "showbackground": true,
            "ticks": "",
            "zerolinecolor": "white"
           }
          },
          "shapedefaults": {
           "line": {
            "color": "#2a3f5f"
           }
          },
          "ternary": {
           "aaxis": {
            "gridcolor": "white",
            "linecolor": "white",
            "ticks": ""
           },
           "baxis": {
            "gridcolor": "white",
            "linecolor": "white",
            "ticks": ""
           },
           "bgcolor": "#E5ECF6",
           "caxis": {
            "gridcolor": "white",
            "linecolor": "white",
            "ticks": ""
           }
          },
          "title": {
           "x": 0.05
          },
          "xaxis": {
           "automargin": true,
           "gridcolor": "white",
           "linecolor": "white",
           "ticks": "",
           "title": {
            "standoff": 15
           },
           "zerolinecolor": "white",
           "zerolinewidth": 2
          },
          "yaxis": {
           "automargin": true,
           "gridcolor": "white",
           "linecolor": "white",
           "ticks": "",
           "title": {
            "standoff": 15
           },
           "zerolinecolor": "white",
           "zerolinewidth": 2
          }
         }
        },
        "title": {
         "text": "Соотношение сетевых и несетевых<br>заведений",
         "x": 0.5
        }
       }
      }
     },
     "metadata": {},
     "output_type": "display_data"
    }
   ],
   "source": [
    "fig = go.Figure(data=[go.Pie(labels=chain_rest['chain'], values=chain_rest['id'],hole=0.8)])\n",
    "fig.update_layout(title=\"Соотношение сетевых и несетевых<br>заведений\",\n",
    "    title_x = 0.5,\n",
    "    #legend_orientation=\"h\",\n",
    "    annotations=[dict(text='Является ли заведение <br> сетевым?', x=0.5, y=0.5, font_size=20, showarrow=False)],             \n",
    "                 )\n",
    "\n",
    "fig.show()"
   ]
  },
  {
   "cell_type": "markdown",
   "metadata": {},
   "source": [
    "#### Вывод\n",
    "Подавляющее большинство заведений являются несетевыми. "
   ]
  },
  {
   "cell_type": "markdown",
   "metadata": {},
   "source": [
    "#### <a id=\"step5\"> Для какого вида объекта общественного питания характерно сетевое распространение?</a>"
   ]
  },
  {
   "cell_type": "code",
   "execution_count": 18,
   "metadata": {},
   "outputs": [
    {
     "data": {
      "text/plain": [
       "<seaborn.axisgrid.FacetGrid at 0x16468fb50>"
      ]
     },
     "execution_count": 18,
     "metadata": {},
     "output_type": "execute_result"
    },
    {
     "data": {
      "text/plain": [
       "<Figure size 576x1440 with 0 Axes>"
      ]
     },
     "metadata": {},
     "output_type": "display_data"
    },
    {
     "data": {
      "image/png": "[encoded data removed]",
      "text/plain": [
       "<Figure size 486.5x432 with 1 Axes>"
      ]
     },
     "metadata": {
      "needs_background": "light"
     },
     "output_type": "display_data"
    }
   ],
   "source": [
    "plt.figure(figsize=(8, 20))\n",
    "g = sns.catplot(x='object_type', y='id', hue='chain',\n",
    "                data=chain_rest.sort_values(by='id',ascending = False).reset_index(drop=True), \n",
    "                height=6, kind=\"bar\",palette=\"bright\")\n",
    "g.despine(left=True)\n",
    "g.set_xticklabels(rotation=45,horizontalalignment='right')\n",
    "g.set(title='Распределение видов общественного питания')\n",
    "g._legend.set_title('Является ли сетевым?')\n",
    "g.set(xlabel='Вид объекта общественного питания', ylabel='Количество заведений')"
   ]
  },
  {
   "cell_type": "markdown",
   "metadata": {},
   "source": [
    "#### Вывод\n",
    "В группе Кафе имеется большое число сетевых заведений, но если рассматривать долю сетевых к несетевым, то сетевое распределение характерно для предприятий быстрого обслуживания"
   ]
  },
  {
   "cell_type": "markdown",
   "metadata": {},
   "source": [
    "#### <a id=\"step6\"> Что характерно для сетевых заведений: много заведений с небольшим числом посадочных мест в каждом или мало заведений с большим количеством посадочных мест?</a>"
   ]
  },
  {
   "cell_type": "code",
   "execution_count": 19,
   "metadata": {},
   "outputs": [
    {
     "data": {
      "text/plain": [
       "count    2968.000000\n",
       "mean       52.919811\n",
       "std        57.140644\n",
       "min         0.000000\n",
       "25%        15.000000\n",
       "50%        40.000000\n",
       "75%        72.000000\n",
       "max       580.000000\n",
       "Name: number, dtype: float64"
      ]
     },
     "metadata": {},
     "output_type": "display_data"
    },
    {
     "data": {
      "text/plain": [
       "[Text(0, 0.5, 'Количество заведений')]"
      ]
     },
     "execution_count": 19,
     "metadata": {},
     "output_type": "execute_result"
    },
    {
     "data": {
      "image/png": "[encoded data removed]",
      "text/plain": [
       "<Figure size 360x504 with 1 Axes>"
      ]
     },
     "metadata": {
      "needs_background": "light"
     },
     "output_type": "display_data"
    }
   ],
   "source": [
    "display(rest_data[rest_data['chain']== 'да']['number'].describe())\n",
    "plt.figure(figsize=(5, 7))\n",
    "g = sns.violinplot(x=\"chain\", y=\"number\", data=rest_data[rest_data['chain']== 'да'], palette='bright')\n",
    "g.set(title='Распределение числа мест для сетевых заведений')\n",
    "g.set(ylabel='Количество заведений')"
   ]
  },
  {
   "cell_type": "code",
   "execution_count": 20,
   "metadata": {},
   "outputs": [
    {
     "data": {
      "text/plain": [
       "[Text(0.5, 0, 'Сетевое?'), Text(0, 0.5, 'Количество заведений')]"
      ]
     },
     "execution_count": 20,
     "metadata": {},
     "output_type": "execute_result"
    },
    {
     "data": {
      "image/png": "[encoded data removed]",
      "text/plain": [
       "<Figure size 432x288 with 1 Axes>"
      ]
     },
     "metadata": {
      "needs_background": "light"
     },
     "output_type": "display_data"
    }
   ],
   "source": [
    "g= sns.stripplot(x=\"chain\", y=\"number\", data=rest_data, palette='bright')\n",
    "g.set(title='Распределение числа мест заведений')\n",
    "g.set(xlabel='Сетевое?',ylabel='Количество заведений')"
   ]
  },
  {
   "cell_type": "markdown",
   "metadata": {},
   "source": [
    "#### Вывод\n",
    "В большинстве сетевых заведений количество мест варьируется в диапазоне от 15 до 72. В несетевых заведениях количество мест выше, нежели чем в сетевых"
   ]
  },
  {
   "cell_type": "markdown",
   "metadata": {},
   "source": [
    "#### <a id=\"step7\"> Для каждого вида объекта общественного питания опишите среднее количество посадочных мест. Какой вид предоставляет в среднем самое большое количество посадочных мест? Постройте графики.</a>"
   ]
  },
  {
   "cell_type": "code",
   "execution_count": 21,
   "metadata": {},
   "outputs": [
    {
     "data": {
      "text/plain": [
       "<seaborn.axisgrid.FacetGrid at 0x16492fca0>"
      ]
     },
     "execution_count": 21,
     "metadata": {},
     "output_type": "execute_result"
    },
    {
     "data": {
      "text/plain": [
       "<Figure size 360x504 with 0 Axes>"
      ]
     },
     "metadata": {},
     "output_type": "display_data"
    },
    {
     "data": {
      "image/png": "[encoded data removed]",
      "text/plain": [
       "<Figure size 432x432 with 1 Axes>"
      ]
     },
     "metadata": {
      "needs_background": "light"
     },
     "output_type": "display_data"
    }
   ],
   "source": [
    "plt.figure(figsize=(5, 7))\n",
    "g = sns.catplot(x='object_type', y='number', \n",
    "                data=rest_data.sort_values(by='number',ascending = False).reset_index(drop=True), \n",
    "                height=6, kind=\"bar\",palette=\"bright\")\n",
    "g.despine(left=True)\n",
    "g.set_xticklabels(rotation=30,horizontalalignment='right')\n",
    "g.set(title='Среднее количество посадочных мест для разных видов общественного питания')\n",
    "g.set(xlabel='Вид объекта общественного питания', ylabel='Количество посадочных мест')"
   ]
  },
  {
   "cell_type": "markdown",
   "metadata": {},
   "source": [
    "#### Вывод\n",
    "В среднем больше всего мест предоставляет столовая (около 130 мест). На втором месте - рестораны (95 мест). В магазинах с отделом кулинарии в среднем меньше всего мест и не превышает 10 посадочных мест."
   ]
  },
  {
   "cell_type": "markdown",
   "metadata": {},
   "source": [
    "#### <a id=\"step8\"> Выделите в отдельный столбец информацию об улице из столбца address</a>"
   ]
  },
  {
   "cell_type": "code",
   "execution_count": 22,
   "metadata": {},
   "outputs": [],
   "source": [
    "API_URL = 'https://geocode-maps.yandex.ru/1.x'"
   ]
  },
  {
   "cell_type": "code",
   "execution_count": 23,
   "metadata": {},
   "outputs": [],
   "source": [
    "config = load(open('/Users/vladimirogulo/PycharmProjects/Config/config.yaml'), Loader=FullLoader)\n",
    "token = config['yandex_maps']['token']"
   ]
  },
  {
   "cell_type": "code",
   "execution_count": 24,
   "metadata": {},
   "outputs": [],
   "source": [
    "# Напишем функцию, которая делает запрос адреса через API Яндекс карт и возвращает координаты и улица\n",
    "# При некорректном ответе на запрос, передаем 'no coordinates' и 'no street'\n",
    "def make_request_coordinates_steet(address):\n",
    "    for n in range(4):\n",
    "        print(f'Адрес {address}. Попытка номер {n+1}')\n",
    "        try:\n",
    "            \n",
    "            params = {\n",
    "            'geocode': address,\n",
    "            'format': 'json',\n",
    "            'apikey': token\n",
    "            }\n",
    "            r = requests.get(API_URL, params=params)\n",
    "            coordinates = r.json()['response']['GeoObjectCollection']['featureMember'][0]['GeoObject']['Point']['pos']\n",
    "            coordinates = ','.join(coordinates.split(' '))\n",
    "            street = r.json()['response']['GeoObjectCollection']['featureMember'][0]['GeoObject']['metaDataProperty']['GeocoderMetaData']['AddressDetails']['Country']['AdministrativeArea']['Locality']['Thoroughfare']['ThoroughfareName']\n",
    "            break\n",
    "           \n",
    "        except:\n",
    "            print('Запрос не удался, пауза {} секунд(ы)'.format(2**(n+1)))\n",
    "            time.sleep(2**(n+1))\n",
    "            if  n > 2:\n",
    "                coordinates = 'no coordinates'\n",
    "                street = 'no street'\n",
    "                break\n",
    "    return pd.Series([coordinates, street])\n"
   ]
  },
  {
   "cell_type": "code",
   "execution_count": 25,
   "metadata": {
    "scrolled": true
   },
   "outputs": [
    {
     "name": "stdout",
     "output_type": "stream",
     "text": [
      "Адрес город Москва, улица Егора Абакумова, дом 9. Попытка номер 1\n",
      "Адрес город Москва, улица Талалихина, дом 2/1, корпус 1. Попытка номер 1\n",
      "Адрес город Москва, Абельмановская улица, дом 6. Попытка номер 1\n",
      "Адрес город Москва, Абрамцевская улица, дом 1. Попытка номер 1\n",
      "Адрес город Москва, Абрамцевская улица, дом 9, корпус 1. Попытка номер 1\n",
      "Адрес город Москва, Абрамцевская улица, дом 15, корпус 1. Попытка номер 1\n",
      "Адрес город Москва, переулок Сивцев Вражек, дом 6/2. Попытка номер 1\n",
      "Адрес город Москва, Авиамоторная улица, дом 8, строение 1. Попытка номер 1\n",
      "Адрес город Москва, Авиамоторная улица, дом 8, строение 1. Попытка номер 1\n",
      "Адрес город Москва, Авиамоторная улица, дом 8, строение 1. Попытка номер 1\n",
      "Адрес город Москва, Авиамоторная улица, дом 47. Попытка номер 1\n",
      "Адрес город Москва, Авиамоторная улица, дом 49/1. Попытка номер 1\n",
      "Адрес город Москва, Авиамоторная улица, дом 51. Попытка номер 1\n",
      "Адрес город Москва, улица Авиаторов, дом 14. Попытка номер 1\n",
      "Адрес город Москва, улица Авиаторов, дом 16. Попытка номер 1\n",
      "Адрес город Москва, улица Авиаторов, дом 18. Попытка номер 1\n",
      "Адрес город Москва, Азовская улица, дом 3. Попытка номер 1\n",
      "Адрес город Москва, Азовская улица, дом 4. Попытка номер 1\n",
      "Адрес город Москва, Большая Академическая улица, дом 65. Попытка номер 1\n",
      "Адрес город Москва, Филипповский переулок, дом 15/5. Попытка номер 1\n",
      "Адрес город Москва, Алтайская улица, дом 33/7. Попытка номер 1\n",
      "Адрес город Москва, Алтуфьевское шоссе, дом 14. Попытка номер 1\n",
      "Адрес город Москва, Алтуфьевское шоссе, дом 14. Попытка номер 1\n",
      "Адрес город Москва, Алтуфьевское шоссе, дом 42Б. Попытка номер 1\n",
      "Запрос не удался, пауза 2 секунд(ы)\n",
      "Адрес город Москва, Алтуфьевское шоссе, дом 42Б. Попытка номер 2\n",
      "Адрес город Москва, Алтуфьевское шоссе, дом 56. Попытка номер 1\n",
      "Адрес город Москва, Алтуфьевское шоссе, дом 56. Попытка номер 1\n",
      "Адрес город Москва, Алтуфьевское шоссе, дом 102Б. Попытка номер 1\n",
      "Адрес город Москва, улица Амундсена, дом 10. Попытка номер 1\n",
      "Адрес город Москва, Анадырский проезд, дом 55. Попытка номер 1\n",
      "Адрес город Москва, Ангарская улица, дом 1, корпус 2. Попытка номер 1\n",
      "Адрес город Москва, Ангарская улица, дом 39. Попытка номер 1\n",
      "Адрес город Москва, проспект Андропова, дом 17, корпус 2. Попытка номер 1\n",
      "Адрес город Москва, проспект Андропова, дом 26. Попытка номер 1\n",
      "Адрес город Москва, проспект Андропова, дом 30. Попытка номер 1\n",
      "Адрес город Москва, проспект Андропова, дом 35А. Попытка номер 1\n",
      "Адрес город Москва, проспект Андропова, дом 38, корпус 2. Попытка номер 1\n",
      "Адрес город Москва, улица Арбат, дом 4, строение 1. Попытка номер 1\n",
      "Адрес город Москва, улица Арбат, дом 4, строение 1. Попытка номер 1\n",
      "Адрес город Москва, улица Арбат, дом 6/2. Попытка номер 1\n",
      "Адрес город Москва, улица Арбат, дом 6/2. Попытка номер 1\n",
      "Адрес город Москва, улица Арбат, дом 23, строение 1. Попытка номер 1\n",
      "Адрес город Москва, улица Арбат, дом 23, строение 1. Попытка номер 1\n",
      "Адрес город Москва, улица Арбат, дом 25/36. Попытка номер 1\n",
      "Адрес город Москва, улица Арбат, дом 25/36. Попытка номер 1\n",
      "Адрес город Москва, улица Арбат, дом 29. Попытка номер 1\n",
      "Адрес город Москва, улица Арбат, дом 29. Попытка номер 1\n",
      "Адрес город Москва, улица Арбат, дом 31. Попытка номер 1\n",
      "Адрес город Москва, улица Арбат, дом 32. Попытка номер 1\n",
      "Адрес город Москва, улица Арбат, дом 32. Попытка номер 1\n",
      "Адрес город Москва, улица Арбат, дом 36/2, строение 1. Попытка номер 1\n",
      "Адрес город Москва, улица Арбат, дом 36/2, строение 1. Попытка номер 1\n",
      "Адрес город Москва, улица Арбат, дом 36/2, строение 1. Попытка номер 1\n",
      "Адрес город Москва, улица Арбат, дом 36/2, строение 1. Попытка номер 1\n",
      "Адрес город Москва, улица Арбат, дом 45/24. Попытка номер 1\n",
      "Адрес город Москва, улица Арбат, дом 45/24. Попытка номер 1\n",
      "Адрес город Москва, улица Арбат, дом 47/23. Попытка номер 1\n",
      "Адрес город Москва, улица Арбат, дом 47/23. Попытка номер 1\n",
      "Адрес город Москва, улица Артамонова, дом 7. Попытка номер 1\n",
      "Адрес город Москва, Астраханский переулок, дом 1/15. Попытка номер 1\n",
      "Адрес город Москва, Астраханский переулок, дом 5/9. Попытка номер 1\n",
      "Адрес город Москва, Аэродромная улица, дом 9. Попытка номер 1\n",
      "Адрес город Москва, Бабаевская улица, дом 3. Попытка номер 1\n",
      "Адрес город Москва, улица Ивана Бабушкина, дом 15, корпус 1-2. Попытка номер 1\n",
      "Адрес город Москва, улица Ивана Бабушкина, дом 17, корпус 1. Попытка номер 1\n",
      "Адрес город Москва, Байкальская улица, дом 29. Попытка номер 1\n",
      "Запрос не удался, пауза 2 секунд(ы)\n",
      "Адрес город Москва, Байкальская улица, дом 29. Попытка номер 2\n",
      "Адрес город Москва, Байкальская улица, дом 31. Попытка номер 1\n",
      "Адрес город Москва, Бакинская улица, дом 29. Попытка номер 1\n",
      "Адрес город Москва, Балаклавский проспект, дом 48, корпус 1. Попытка номер 1\n",
      "Адрес город Москва, Балаклавский проспект, дом 54. Попытка номер 1\n",
      "Адрес город Москва, 1-й Балтийский переулок, дом 3/25. Попытка номер 1\n",
      "Адрес город Москва, улица Барклая, дом 16, корпус 1. Попытка номер 1\n",
      "Адрес город Москва, Новая Басманная улица, дом 12, строение 2. Попытка номер 1\n",
      "Адрес город Москва, Бауманская улица, дом 33/2, строение 1. Попытка номер 1\n",
      "Адрес город Москва, Бауманская улица, дом 35/1. Попытка номер 1\n",
      "Адрес город Москва, Татарская улица, дом 14. Попытка номер 1\n",
      "Адрес город Москва, Башиловская улица, дом 3, корпус 1. Попытка номер 1\n",
      "Адрес город Москва, Башиловская улица, дом 19. Попытка номер 1\n",
      "Адрес город Москва, Башиловская улица, дом 21. Попытка номер 1\n",
      "Адрес город Москва, Беговая улица, дом 7. Попытка номер 1\n",
      "Адрес город Москва, Беговая улица, дом 17, корпус 1. Попытка номер 1\n",
      "Адрес город Москва, Беговая улица, дом 28. Попытка номер 1\n",
      "Адрес город Москва, улица Демьяна Бедного, дом 4. Попытка номер 1\n",
      "Адрес город Москва, Белореченская улица, дом 13, корпус 1. Попытка номер 1\n",
      "Адрес город Москва, Белореченская улица, дом 17. Попытка номер 1\n",
      "Адрес город Москва, Бережковская набережная, дом 8. Попытка номер 1\n",
      "Адрес город Москва, Бережковская набережная, дом 14. Попытка номер 1\n",
      "Адрес город Москва, улица Берзарина, дом 8. Попытка номер 1\n",
      "Адрес город Москва, Бескудниковский бульвар, дом 40, корпус 3. Попытка номер 1\n",
      "Адрес город Москва, Бескудниковский бульвар, дом 57, корпус 1. Попытка номер 1\n",
      "Адрес город Москва, улица Бестужевых, дом 23. Попытка номер 1\n",
      "Адрес город Москва, Бибиревская улица, дом 7, корпус 1. Попытка номер 1\n",
      "Адрес город Москва, улица Маршала Бирюзова, дом 4, корпус 1. Попытка номер 1\n",
      "Адрес город Москва, улица Маршала Бирюзова, дом 4, корпус 2. Попытка номер 1\n",
      "Адрес город Москва, улица Маршала Бирюзова, дом 9. Попытка номер 1\n",
      "Адрес город Москва, улица Маршала Бирюзова, дом 12. Попытка номер 1\n",
      "Адрес город Москва, улица Маршала Бирюзова, дом 13. Попытка номер 1\n",
      "Адрес город Москва, улица Маршала Бирюзова, дом 16. Попытка номер 1\n",
      "Запрос не удался, пауза 2 секунд(ы)\n"
     ]
    }
   ],
   "source": [
    "# Применим функцию к столбцу address\n",
    "rest_data[['coordinates','street']] = rest_data['address'].apply(make_request_coordinates_steet)\n",
    "# Функция отработала приблизительно за 5-6 часов"
   ]
  },
  {
   "cell_type": "code",
   "execution_count": 20,
   "metadata": {},
   "outputs": [],
   "source": [
    "# Запишем полученные данные в файл \n",
    "#rest_data.to_csv('rest_data_coordinates_steet.csv')"
   ]
  },
  {
   "cell_type": "code",
   "execution_count": 21,
   "metadata": {},
   "outputs": [],
   "source": [
    "rest_data = pd.read_csv('rest_data_coordinates_steet.csv')"
   ]
  },
  {
   "cell_type": "code",
   "execution_count": 22,
   "metadata": {},
   "outputs": [],
   "source": [
    "# Запишем в новый датафрейм те данные, где не смогли спарсить улицу\n",
    "rest_data_no_street = rest_data[rest_data['street']== 'no street']"
   ]
  },
  {
   "cell_type": "code",
   "execution_count": 23,
   "metadata": {},
   "outputs": [],
   "source": [
    "# Удалим строчки, отдельно с ними поработаем. После снова соединим\n",
    "rest_data = rest_data.drop(rest_data_no_street.index)"
   ]
  },
  {
   "cell_type": "code",
   "execution_count": 24,
   "metadata": {},
   "outputs": [
    {
     "data": {
      "text/plain": [
       "array(['город Москва', 'Партизанская улица', 'Нижний Таганский тупик',\n",
       "       'поселение Сосенское', 'Полевая улица', 'поселение Марушкинское',\n",
       "       'поселение Михайлово-Ярцевское', 'город Московский',\n",
       "       'город Троицк', 'поселение \"Мосрентген\"'], dtype=object)"
      ]
     },
     "metadata": {},
     "output_type": "display_data"
    }
   ],
   "source": [
    "# Запишем в столбец address_list список фраз разделенных запятой\n",
    "rest_data_no_street['address_list'] = rest_data_no_street['address'].str.split(',')\n",
    "# Выведем уникальные первые знаяения списков на экран\n",
    "display(rest_data_no_street['address'].str.split(',').str.get(0).unique())"
   ]
  },
  {
   "cell_type": "code",
   "execution_count": 25,
   "metadata": {},
   "outputs": [],
   "source": [
    "# Сформируем список городов, где будем брать значения следующего элемента\n",
    "cities = ['город Москва','город Московский','поселение Сосенское','поселение Марушкинское',\n",
    "          'поселение Михайлово-Ярцевское','город Троицк','поселение \"Мосрентген\"']\n",
    "def street_tracker(address_list):\n",
    "    street = ''\n",
    "    for city in cities:\n",
    "        if city in address_list:\n",
    "            street = address_list[1]\n",
    "            break\n",
    "        else:\n",
    "            street = address_list[0]\n",
    "    return street"
   ]
  },
  {
   "cell_type": "code",
   "execution_count": 26,
   "metadata": {},
   "outputs": [
    {
     "data": {
      "text/plain": [
       "Series([], Name: address, dtype: object)"
      ]
     },
     "execution_count": 26,
     "metadata": {},
     "output_type": "execute_result"
    }
   ],
   "source": [
    "# Применим функцию к столбцу address_list\n",
    "rest_data_no_street['street'] = rest_data_no_street['address_list'].apply(street_tracker)\n",
    "# Посмотрим что осталось \n",
    "rest_data_no_street[rest_data_no_street['street']=='no street']['address']"
   ]
  },
  {
   "cell_type": "code",
   "execution_count": 27,
   "metadata": {},
   "outputs": [],
   "source": [
    "# Соединим датасеты \n",
    "rest_data = pd.concat([rest_data, rest_data_no_street])"
   ]
  },
  {
   "cell_type": "code",
   "execution_count": 28,
   "metadata": {},
   "outputs": [
    {
     "data": {
      "text/html": [
       "<div>\n",
       "<style scoped>\n",
       "    .dataframe tbody tr th:only-of-type {\n",
       "        vertical-align: middle;\n",
       "    }\n",
       "\n",
       "    .dataframe tbody tr th {\n",
       "        vertical-align: top;\n",
       "    }\n",
       "\n",
       "    .dataframe thead th {\n",
       "        text-align: right;\n",
       "    }\n",
       "</style>\n",
       "<table border=\"1\" class=\"dataframe\">\n",
       "  <thead>\n",
       "    <tr style=\"text-align: right;\">\n",
       "      <th></th>\n",
       "      <th>Unnamed: 0</th>\n",
       "      <th>id</th>\n",
       "      <th>object_name</th>\n",
       "      <th>chain</th>\n",
       "      <th>object_type</th>\n",
       "      <th>address</th>\n",
       "      <th>number</th>\n",
       "      <th>coordinates</th>\n",
       "      <th>street</th>\n",
       "      <th>address_list</th>\n",
       "    </tr>\n",
       "  </thead>\n",
       "  <tbody>\n",
       "    <tr>\n",
       "      <th>0</th>\n",
       "      <td>0</td>\n",
       "      <td>151635</td>\n",
       "      <td>сметана</td>\n",
       "      <td>нет</td>\n",
       "      <td>кафе</td>\n",
       "      <td>город Москва, улица Егора Абакумова, дом 9</td>\n",
       "      <td>48</td>\n",
       "      <td>37.714474,55.879005</td>\n",
       "      <td>улица Егора Абакумова</td>\n",
       "      <td>NaN</td>\n",
       "    </tr>\n",
       "    <tr>\n",
       "      <th>1</th>\n",
       "      <td>1</td>\n",
       "      <td>77874</td>\n",
       "      <td>родник</td>\n",
       "      <td>нет</td>\n",
       "      <td>кафе</td>\n",
       "      <td>город Москва, улица Талалихина, дом 2/1, корпус 1</td>\n",
       "      <td>35</td>\n",
       "      <td>37.673295,55.738307</td>\n",
       "      <td>улица Талалихина</td>\n",
       "      <td>NaN</td>\n",
       "    </tr>\n",
       "    <tr>\n",
       "      <th>2</th>\n",
       "      <td>2</td>\n",
       "      <td>24309</td>\n",
       "      <td>кафе «академия»</td>\n",
       "      <td>нет</td>\n",
       "      <td>кафе</td>\n",
       "      <td>город Москва, Абельмановская улица, дом 6</td>\n",
       "      <td>95</td>\n",
       "      <td>37.669576,55.735571</td>\n",
       "      <td>Абельмановская улица</td>\n",
       "      <td>NaN</td>\n",
       "    </tr>\n",
       "    <tr>\n",
       "      <th>3</th>\n",
       "      <td>3</td>\n",
       "      <td>21894</td>\n",
       "      <td>пиццетория</td>\n",
       "      <td>да</td>\n",
       "      <td>кафе</td>\n",
       "      <td>город Москва, Абрамцевская улица, дом 1</td>\n",
       "      <td>40</td>\n",
       "      <td>37.573007,55.892713</td>\n",
       "      <td>Абрамцевская улица</td>\n",
       "      <td>NaN</td>\n",
       "    </tr>\n",
       "    <tr>\n",
       "      <th>4</th>\n",
       "      <td>4</td>\n",
       "      <td>119365</td>\n",
       "      <td>кафе «вишневая метель»</td>\n",
       "      <td>нет</td>\n",
       "      <td>кафе</td>\n",
       "      <td>город Москва, Абрамцевская улица, дом 9, корпус 1</td>\n",
       "      <td>50</td>\n",
       "      <td>37.572279,55.904074</td>\n",
       "      <td>Абрамцевская улица</td>\n",
       "      <td>NaN</td>\n",
       "    </tr>\n",
       "  </tbody>\n",
       "</table>\n",
       "</div>"
      ],
      "text/plain": [
       "   Unnamed: 0      id             object_name chain object_type  \\\n",
       "0           0  151635                 сметана   нет        кафе   \n",
       "1           1   77874                  родник   нет        кафе   \n",
       "2           2   24309         кафе «академия»   нет        кафе   \n",
       "3           3   21894              пиццетория    да        кафе   \n",
       "4           4  119365  кафе «вишневая метель»   нет        кафе   \n",
       "\n",
       "                                             address  number  \\\n",
       "0         город Москва, улица Егора Абакумова, дом 9      48   \n",
       "1  город Москва, улица Талалихина, дом 2/1, корпус 1      35   \n",
       "2          город Москва, Абельмановская улица, дом 6      95   \n",
       "3            город Москва, Абрамцевская улица, дом 1      40   \n",
       "4  город Москва, Абрамцевская улица, дом 9, корпус 1      50   \n",
       "\n",
       "           coordinates                 street address_list  \n",
       "0  37.714474,55.879005  улица Егора Абакумова          NaN  \n",
       "1  37.673295,55.738307       улица Талалихина          NaN  \n",
       "2  37.669576,55.735571   Абельмановская улица          NaN  \n",
       "3  37.573007,55.892713     Абрамцевская улица          NaN  \n",
       "4  37.572279,55.904074     Абрамцевская улица          NaN  "
      ]
     },
     "execution_count": 28,
     "metadata": {},
     "output_type": "execute_result"
    }
   ],
   "source": [
    "rest_data.head()"
   ]
  },
  {
   "cell_type": "markdown",
   "metadata": {},
   "source": [
    "#### Вывод\n",
    "С помощью запросов к API Яндекс.Карт для большинства адресов получили координаты и адреса. Для тех заведений,  улицы/координты которых через API получить не удалось, мы с выделили улицу, разделив адрес по знаку \",\"."
   ]
  },
  {
   "cell_type": "markdown",
   "metadata": {},
   "source": [
    "#### <a id=\"step9\"> Постройте график топ-10 улиц по количеству объектов общественного питания. Воспользуйтесь внешней информацией и ответьте на вопрос — в каких районах Москвы находятся эти улицы?</a>"
   ]
  },
  {
   "cell_type": "code",
   "execution_count": 29,
   "metadata": {},
   "outputs": [],
   "source": [
    "# Собрем топ-10 улиц в новый датафрейм\n",
    "street_top_10 = rest_data.groupby('street').agg({'id':'count'}).sort_values(by='id',ascending = False).head(10).reset_index()"
   ]
  },
  {
   "cell_type": "code",
   "execution_count": 30,
   "metadata": {},
   "outputs": [
    {
     "data": {
      "text/plain": [
       "<seaborn.axisgrid.FacetGrid at 0x11c13cd90>"
      ]
     },
     "execution_count": 30,
     "metadata": {},
     "output_type": "execute_result"
    },
    {
     "data": {
      "image/png": "[encoded data removed]",
      "text/plain": [
       "<Figure size 432x432 with 1 Axes>"
      ]
     },
     "metadata": {
      "needs_background": "light"
     },
     "output_type": "display_data"
    }
   ],
   "source": [
    "g = sns.catplot(x='street', y='id', \n",
    "                data=street_top_10, height=6, kind=\"bar\",palette=\"bright\")\n",
    "g.despine(left=True)\n",
    "g.set_xticklabels(rotation=30,horizontalalignment='right')\n",
    "g.set(title='Топ-10 улиц по количеству объектов общественного питания')\n",
    "g.set(xlabel='Наименование улиц', ylabel='Количество заведений')"
   ]
  },
  {
   "cell_type": "code",
   "execution_count": 31,
   "metadata": {},
   "outputs": [],
   "source": [
    "rest_top_10 = rest_data[rest_data['street'].isin(street_top_10['street'])]"
   ]
  },
  {
   "cell_type": "code",
   "execution_count": 32,
   "metadata": {},
   "outputs": [],
   "source": [
    "# Напишем функцию, которая делает запрос адреса через API Яндекс карт и возвращает район\n",
    "def make_request_region(coordinates):\n",
    "    for n in range(3):\n",
    "        if coordinates == 'no coordinates':\n",
    "            region = 'no_region'\n",
    "            break\n",
    "        else:\n",
    "            print(f'Координаты {coordinates}. Попытка номер {n+1}')\n",
    "            try:\n",
    "\n",
    "                params2 = {\n",
    "                'geocode': coordinates,\n",
    "                'format': 'json',\n",
    "                'apikey': token\n",
    "                }\n",
    "                r = requests.get(API_URL, params=params2)\n",
    "                r.json()\n",
    "                region = r.json()['response']['GeoObjectCollection']['featureMember'][2]['GeoObject']['metaDataProperty']['GeocoderMetaData']['AddressDetails']['Country']['AdministrativeArea']['Locality']['DependentLocality']['DependentLocality']['DependentLocalityName']\n",
    "                break\n",
    "\n",
    "            except:\n",
    "                print('Запрос не удался, пауза {} секунд(ы)'.format(2**(n+1)))\n",
    "                time.sleep(2**(n+1))\n",
    "                if  n > 1:\n",
    "                    region = 'no_region'\n",
    "                    break\n",
    "    return pd.Series([region])"
   ]
  },
  {
   "cell_type": "code",
   "execution_count": 33,
   "metadata": {
    "scrolled": true
   },
   "outputs": [],
   "source": [
    "#rest_top_10['region'] = rest_top_10['coordinates'].apply(make_request_region)"
   ]
  },
  {
   "cell_type": "code",
   "execution_count": 34,
   "metadata": {},
   "outputs": [],
   "source": [
    "#rest_top_10.to_csv('rest_top_10.csv')\n",
    "rest_top_10 = pd.read_csv('rest_top_10.csv')"
   ]
  },
  {
   "cell_type": "code",
   "execution_count": 35,
   "metadata": {},
   "outputs": [
    {
     "data": {
      "text/html": [
       "<div>\n",
       "<style scoped>\n",
       "    .dataframe tbody tr th:only-of-type {\n",
       "        vertical-align: middle;\n",
       "    }\n",
       "\n",
       "    .dataframe tbody tr th {\n",
       "        vertical-align: top;\n",
       "    }\n",
       "\n",
       "    .dataframe thead th {\n",
       "        text-align: right;\n",
       "    }\n",
       "</style>\n",
       "<table border=\"1\" class=\"dataframe\">\n",
       "  <thead>\n",
       "    <tr style=\"text-align: right;\">\n",
       "      <th></th>\n",
       "      <th>Unnamed: 0</th>\n",
       "      <th>Unnamed: 0.1</th>\n",
       "      <th>id</th>\n",
       "      <th>object_name</th>\n",
       "      <th>chain</th>\n",
       "      <th>object_type</th>\n",
       "      <th>address</th>\n",
       "      <th>number</th>\n",
       "      <th>coordinates</th>\n",
       "      <th>street</th>\n",
       "      <th>address_list</th>\n",
       "      <th>region</th>\n",
       "    </tr>\n",
       "  </thead>\n",
       "  <tbody>\n",
       "    <tr>\n",
       "      <th>0</th>\n",
       "      <td>151</td>\n",
       "      <td>151</td>\n",
       "      <td>155973</td>\n",
       "      <td>кафе «андерсон»</td>\n",
       "      <td>да</td>\n",
       "      <td>кафе</td>\n",
       "      <td>город Москва, Варшавское шоссе, дом 2</td>\n",
       "      <td>150</td>\n",
       "      <td>37.619683,55.699943</td>\n",
       "      <td>Варшавское шоссе</td>\n",
       "      <td>NaN</td>\n",
       "      <td>Донской район</td>\n",
       "    </tr>\n",
       "    <tr>\n",
       "      <th>1</th>\n",
       "      <td>152</td>\n",
       "      <td>152</td>\n",
       "      <td>23618</td>\n",
       "      <td>кафе «subway»</td>\n",
       "      <td>да</td>\n",
       "      <td>кафе</td>\n",
       "      <td>город Москва, Варшавское шоссе, дом 7, корпус 1</td>\n",
       "      <td>36</td>\n",
       "      <td>37.622405,55.700877</td>\n",
       "      <td>Варшавское шоссе</td>\n",
       "      <td>NaN</td>\n",
       "      <td>Донской район</td>\n",
       "    </tr>\n",
       "    <tr>\n",
       "      <th>2</th>\n",
       "      <td>153</td>\n",
       "      <td>153</td>\n",
       "      <td>155852</td>\n",
       "      <td>кафе «ламаджо»</td>\n",
       "      <td>нет</td>\n",
       "      <td>кафе</td>\n",
       "      <td>город Москва, Варшавское шоссе, дом 29</td>\n",
       "      <td>30</td>\n",
       "      <td>37.622432,55.693226</td>\n",
       "      <td>Варшавское шоссе</td>\n",
       "      <td>NaN</td>\n",
       "      <td>Донской район</td>\n",
       "    </tr>\n",
       "    <tr>\n",
       "      <th>3</th>\n",
       "      <td>154</td>\n",
       "      <td>154</td>\n",
       "      <td>152556</td>\n",
       "      <td>шаурма в пите</td>\n",
       "      <td>нет</td>\n",
       "      <td>предприятие быстрого обслуживания</td>\n",
       "      <td>город Москва, Варшавское шоссе, дом 72, корпус 2</td>\n",
       "      <td>0</td>\n",
       "      <td>37.618758,55.656869</td>\n",
       "      <td>Варшавское шоссе</td>\n",
       "      <td>NaN</td>\n",
       "      <td>Нагорный район</td>\n",
       "    </tr>\n",
       "    <tr>\n",
       "      <th>4</th>\n",
       "      <td>155</td>\n",
       "      <td>155</td>\n",
       "      <td>120658</td>\n",
       "      <td>выпечка</td>\n",
       "      <td>нет</td>\n",
       "      <td>кафетерий</td>\n",
       "      <td>город Москва, Варшавское шоссе, дом 100</td>\n",
       "      <td>2</td>\n",
       "      <td>37.618812,55.646228</td>\n",
       "      <td>Варшавское шоссе</td>\n",
       "      <td>NaN</td>\n",
       "      <td>Нагорный район</td>\n",
       "    </tr>\n",
       "  </tbody>\n",
       "</table>\n",
       "</div>"
      ],
      "text/plain": [
       "   Unnamed: 0  Unnamed: 0.1      id      object_name chain  \\\n",
       "0         151           151  155973  кафе «андерсон»    да   \n",
       "1         152           152   23618    кафе «subway»    да   \n",
       "2         153           153  155852   кафе «ламаджо»   нет   \n",
       "3         154           154  152556    шаурма в пите   нет   \n",
       "4         155           155  120658          выпечка   нет   \n",
       "\n",
       "                         object_type  \\\n",
       "0                               кафе   \n",
       "1                               кафе   \n",
       "2                               кафе   \n",
       "3  предприятие быстрого обслуживания   \n",
       "4                          кафетерий   \n",
       "\n",
       "                                            address  number  \\\n",
       "0             город Москва, Варшавское шоссе, дом 2     150   \n",
       "1   город Москва, Варшавское шоссе, дом 7, корпус 1      36   \n",
       "2            город Москва, Варшавское шоссе, дом 29      30   \n",
       "3  город Москва, Варшавское шоссе, дом 72, корпус 2       0   \n",
       "4           город Москва, Варшавское шоссе, дом 100       2   \n",
       "\n",
       "           coordinates            street address_list          region  \n",
       "0  37.619683,55.699943  Варшавское шоссе          NaN   Донской район  \n",
       "1  37.622405,55.700877  Варшавское шоссе          NaN   Донской район  \n",
       "2  37.622432,55.693226  Варшавское шоссе          NaN   Донской район  \n",
       "3  37.618758,55.656869  Варшавское шоссе          NaN  Нагорный район  \n",
       "4  37.618812,55.646228  Варшавское шоссе          NaN  Нагорный район  "
      ]
     },
     "execution_count": 35,
     "metadata": {},
     "output_type": "execute_result"
    }
   ],
   "source": [
    "rest_top_10.head()"
   ]
  },
  {
   "cell_type": "code",
   "execution_count": 36,
   "metadata": {},
   "outputs": [],
   "source": [
    "rest_top_10.loc[rest_top_10['region']=='no_region','region'] = rest_top_10.loc[rest_top_10['region']=='no_region','street'].values"
   ]
  },
  {
   "cell_type": "code",
   "execution_count": 37,
   "metadata": {},
   "outputs": [
    {
     "data": {
      "text/plain": [
       "array(['Донской район', 'Нагорный район', 'район Чертаново Южное',\n",
       "       'Гагаринский район', 'Ломоносовский район',\n",
       "       'район Проспект Вернадского', 'район Тропарёво-Никулино',\n",
       "       'район Фили-Давыдково', 'район Дорогомилово', 'район Беговой',\n",
       "       'район Аэропорт', 'район Сокол', 'район Якиманка',\n",
       "       'Обручевский район', 'Мещанский район', 'Останкинский район',\n",
       "       'Алексеевский район', 'Академический район', 'Профсоюзная улица',\n",
       "       'район Черёмушки', 'район Коньково', 'район Тёплый Стан',\n",
       "       'район Чертаново Северное', 'район Чертаново Центральное',\n",
       "       'Хорошёвский район', 'район Нагатино-Садовники', 'район Ростокино',\n",
       "       'проспект Вернадского', 'проспект Мира', 'район Свиблово',\n",
       "       'район Ясенево', 'район Южное Бутово', 'район Раменки',\n",
       "       'Ленинградский проспект', 'Пресненский район', 'Ярославский район',\n",
       "       ' город Зеленоград', ' поселение Сосенское'], dtype=object)"
      ]
     },
     "execution_count": 37,
     "metadata": {},
     "output_type": "execute_result"
    }
   ],
   "source": [
    "rest_top_10['region'].unique()"
   ]
  },
  {
   "cell_type": "code",
   "execution_count": 38,
   "metadata": {},
   "outputs": [],
   "source": [
    "group_rest_top_10 = rest_top_10.groupby('region').agg({'id':'count'}).sort_values(by='id',ascending = False).head(10).reset_index()"
   ]
  },
  {
   "cell_type": "code",
   "execution_count": 39,
   "metadata": {},
   "outputs": [
    {
     "data": {
      "text/plain": [
       "<seaborn.axisgrid.FacetGrid at 0x11f7c7090>"
      ]
     },
     "execution_count": 39,
     "metadata": {},
     "output_type": "execute_result"
    },
    {
     "data": {
      "image/png": "[encoded data removed]",
      "text/plain": [
       "<Figure size 432x432 with 1 Axes>"
      ]
     },
     "metadata": {
      "needs_background": "light"
     },
     "output_type": "display_data"
    }
   ],
   "source": [
    "g = sns.catplot(x='region', y='id', \n",
    "                data=group_rest_top_10, height=6, kind=\"bar\",palette=\"bright\")\n",
    "g.despine(left=True)\n",
    "g.set_xticklabels(rotation=30,horizontalalignment='right')\n",
    "g.set(title='Топ-10 районов по количеству объектов общественного питания')\n",
    "g.set(xlabel='Наименование района', ylabel='Количество заведений')"
   ]
  },
  {
   "cell_type": "markdown",
   "metadata": {},
   "source": [
    "#### Вывод\n",
    "Больше всего заведений (204) располагаются на проспекте Мира. Далее идут профсоюзная улица и Ленинградский проспект. Кутузовский проспект замыкает Топ-10 по количеству помещений. Так как мы имеем топ-10 не только популярных, но и длинных улиц, то сложно сделать вывод по определенному району. Мы снова вернулись к API Яндекс карт, чтобы точно выявить районы, к которым принадлежат эти адреса. Самым популярным районом стал - Пресненский район"
   ]
  },
  {
   "cell_type": "markdown",
   "metadata": {},
   "source": [
    "#### <a id=\"step10\"> Найдите число улиц с одним объектом общественного питания. Воспользуйтесь внешней информацией и ответьте на вопрос — в каких районах Москвы находятся эти улицы?</a>"
   ]
  },
  {
   "cell_type": "code",
   "execution_count": 40,
   "metadata": {},
   "outputs": [],
   "source": [
    "street_min_rest = rest_data.groupby('street').agg({'id':'count','coordinates':'first','address':'first'}).sort_values(by='id',ascending = False).reset_index()"
   ]
  },
  {
   "cell_type": "code",
   "execution_count": 41,
   "metadata": {},
   "outputs": [],
   "source": [
    "street_one_rest = street_min_rest[street_min_rest['id'] == 1]"
   ]
  },
  {
   "cell_type": "code",
   "execution_count": 42,
   "metadata": {},
   "outputs": [
    {
     "name": "stdout",
     "output_type": "stream",
     "text": [
      "Число улиц с одним объектом общественного питания: 553\n"
     ]
    }
   ],
   "source": [
    "print('Число улиц с одним объектом общественного питания:',street_one_rest.shape[0])"
   ]
  },
  {
   "cell_type": "code",
   "execution_count": 43,
   "metadata": {
    "scrolled": true
   },
   "outputs": [],
   "source": [
    "#  Применим функцию\n",
    "#street_one_rest['region'] = street_one_rest['coordinates'].apply(make_request_region)"
   ]
  },
  {
   "cell_type": "code",
   "execution_count": 44,
   "metadata": {},
   "outputs": [],
   "source": [
    "#street_one_rest.to_csv('street_one_rest.csv')\n",
    "street_one_rest = pd.read_csv('street_one_rest.csv')"
   ]
  },
  {
   "cell_type": "code",
   "execution_count": 45,
   "metadata": {},
   "outputs": [
    {
     "data": {
      "text/plain": [
       "район Чертаново Северное      1\n",
       "район Восточное Измайлово     1\n",
       "район Перово                  1\n",
       "район Ивановское              1\n",
       "район Западное Дегунино       1\n",
       "                             ..\n",
       "Тверской район               19\n",
       "Пресненский район            20\n",
       "Таганский район              26\n",
       "район Хамовники              26\n",
       "no_region                    51\n",
       "Name: region, Length: 101, dtype: int64"
      ]
     },
     "metadata": {},
     "output_type": "display_data"
    }
   ],
   "source": [
    "display(street_one_rest['region'].value_counts(sort=True,ascending= True))"
   ]
  },
  {
   "cell_type": "code",
   "execution_count": 46,
   "metadata": {},
   "outputs": [
    {
     "data": {
      "text/html": [
       "<div>\n",
       "<style scoped>\n",
       "    .dataframe tbody tr th:only-of-type {\n",
       "        vertical-align: middle;\n",
       "    }\n",
       "\n",
       "    .dataframe tbody tr th {\n",
       "        vertical-align: top;\n",
       "    }\n",
       "\n",
       "    .dataframe thead th {\n",
       "        text-align: right;\n",
       "    }\n",
       "</style>\n",
       "<table border=\"1\" class=\"dataframe\">\n",
       "  <thead>\n",
       "    <tr style=\"text-align: right;\">\n",
       "      <th></th>\n",
       "      <th>region</th>\n",
       "      <th>count</th>\n",
       "    </tr>\n",
       "  </thead>\n",
       "  <tbody>\n",
       "    <tr>\n",
       "      <th>0</th>\n",
       "      <td>район Чертаново Северное</td>\n",
       "      <td>1</td>\n",
       "    </tr>\n",
       "    <tr>\n",
       "      <th>1</th>\n",
       "      <td>район Восточное Измайлово</td>\n",
       "      <td>1</td>\n",
       "    </tr>\n",
       "    <tr>\n",
       "      <th>2</th>\n",
       "      <td>район Перово</td>\n",
       "      <td>1</td>\n",
       "    </tr>\n",
       "    <tr>\n",
       "      <th>3</th>\n",
       "      <td>район Ивановское</td>\n",
       "      <td>1</td>\n",
       "    </tr>\n",
       "    <tr>\n",
       "      <th>4</th>\n",
       "      <td>район Западное Дегунино</td>\n",
       "      <td>1</td>\n",
       "    </tr>\n",
       "    <tr>\n",
       "      <th>5</th>\n",
       "      <td>Молжаниновский район</td>\n",
       "      <td>1</td>\n",
       "    </tr>\n",
       "    <tr>\n",
       "      <th>6</th>\n",
       "      <td>район Марфино</td>\n",
       "      <td>1</td>\n",
       "    </tr>\n",
       "    <tr>\n",
       "      <th>7</th>\n",
       "      <td>Войковский район</td>\n",
       "      <td>1</td>\n",
       "    </tr>\n",
       "    <tr>\n",
       "      <th>8</th>\n",
       "      <td>район Левобережный</td>\n",
       "      <td>1</td>\n",
       "    </tr>\n",
       "    <tr>\n",
       "      <th>9</th>\n",
       "      <td>район Филёвский Парк</td>\n",
       "      <td>1</td>\n",
       "    </tr>\n",
       "    <tr>\n",
       "      <th>10</th>\n",
       "      <td>район Капотня</td>\n",
       "      <td>1</td>\n",
       "    </tr>\n",
       "    <tr>\n",
       "      <th>11</th>\n",
       "      <td>район Метрогородок</td>\n",
       "      <td>1</td>\n",
       "    </tr>\n",
       "    <tr>\n",
       "      <th>12</th>\n",
       "      <td>район Москворечье-Сабурово</td>\n",
       "      <td>1</td>\n",
       "    </tr>\n",
       "    <tr>\n",
       "      <th>13</th>\n",
       "      <td>район Братеево</td>\n",
       "      <td>1</td>\n",
       "    </tr>\n",
       "    <tr>\n",
       "      <th>14</th>\n",
       "      <td>район Коньково</td>\n",
       "      <td>1</td>\n",
       "    </tr>\n",
       "    <tr>\n",
       "      <th>15</th>\n",
       "      <td>район Нагатино-Садовники</td>\n",
       "      <td>1</td>\n",
       "    </tr>\n",
       "    <tr>\n",
       "      <th>16</th>\n",
       "      <td>Обручевский район</td>\n",
       "      <td>1</td>\n",
       "    </tr>\n",
       "    <tr>\n",
       "      <th>17</th>\n",
       "      <td>район Царицыно</td>\n",
       "      <td>1</td>\n",
       "    </tr>\n",
       "    <tr>\n",
       "      <th>18</th>\n",
       "      <td>Гагаринский район</td>\n",
       "      <td>1</td>\n",
       "    </tr>\n",
       "    <tr>\n",
       "      <th>19</th>\n",
       "      <td>Алтуфьевский район</td>\n",
       "      <td>1</td>\n",
       "    </tr>\n",
       "    <tr>\n",
       "      <th>20</th>\n",
       "      <td>район Чертаново Южное</td>\n",
       "      <td>1</td>\n",
       "    </tr>\n",
       "    <tr>\n",
       "      <th>21</th>\n",
       "      <td>район Строгино</td>\n",
       "      <td>1</td>\n",
       "    </tr>\n",
       "    <tr>\n",
       "      <th>22</th>\n",
       "      <td>район Савёлки</td>\n",
       "      <td>1</td>\n",
       "    </tr>\n",
       "    <tr>\n",
       "      <th>23</th>\n",
       "      <td>район Марьино</td>\n",
       "      <td>1</td>\n",
       "    </tr>\n",
       "  </tbody>\n",
       "</table>\n",
       "</div>"
      ],
      "text/plain": [
       "                        region  count\n",
       "0     район Чертаново Северное      1\n",
       "1    район Восточное Измайлово      1\n",
       "2                 район Перово      1\n",
       "3             район Ивановское      1\n",
       "4      район Западное Дегунино      1\n",
       "5         Молжаниновский район      1\n",
       "6                район Марфино      1\n",
       "7             Войковский район      1\n",
       "8           район Левобережный      1\n",
       "9         район Филёвский Парк      1\n",
       "10               район Капотня      1\n",
       "11          район Метрогородок      1\n",
       "12  район Москворечье-Сабурово      1\n",
       "13              район Братеево      1\n",
       "14              район Коньково      1\n",
       "15    район Нагатино-Садовники      1\n",
       "16           Обручевский район      1\n",
       "17              район Царицыно      1\n",
       "18           Гагаринский район      1\n",
       "19          Алтуфьевский район      1\n",
       "20       район Чертаново Южное      1\n",
       "21              район Строгино      1\n",
       "22               район Савёлки      1\n",
       "23               район Марьино      1"
      ]
     },
     "metadata": {},
     "output_type": "display_data"
    }
   ],
   "source": [
    "# Получим список районов с одним заведением общественного питания\n",
    "region = street_one_rest['region'].value_counts(sort=True,ascending= True).reset_index()\n",
    "region.columns= ['region', 'count']\n",
    "region_one_rest = region[region['count'] == 1]\n",
    "display(region_one_rest)"
   ]
  },
  {
   "cell_type": "code",
   "execution_count": 47,
   "metadata": {},
   "outputs": [
    {
     "data": {
      "text/html": [
       "<div>\n",
       "<style scoped>\n",
       "    .dataframe tbody tr th:only-of-type {\n",
       "        vertical-align: middle;\n",
       "    }\n",
       "\n",
       "    .dataframe tbody tr th {\n",
       "        vertical-align: top;\n",
       "    }\n",
       "\n",
       "    .dataframe thead th {\n",
       "        text-align: right;\n",
       "    }\n",
       "</style>\n",
       "<table border=\"1\" class=\"dataframe\">\n",
       "  <thead>\n",
       "    <tr style=\"text-align: right;\">\n",
       "      <th></th>\n",
       "      <th>street</th>\n",
       "      <th>id</th>\n",
       "      <th>coordinates</th>\n",
       "      <th>address</th>\n",
       "    </tr>\n",
       "  </thead>\n",
       "  <tbody>\n",
       "    <tr>\n",
       "      <th>1431</th>\n",
       "      <td>деревня Столбово</td>\n",
       "      <td>1</td>\n",
       "      <td>no coordinates</td>\n",
       "      <td>поселение Сосенское, деревня Столбово, дом 1</td>\n",
       "    </tr>\n",
       "    <tr>\n",
       "      <th>1432</th>\n",
       "      <td>деревня Сенькино-Секерино</td>\n",
       "      <td>1</td>\n",
       "      <td>no coordinates</td>\n",
       "      <td>поселение Михайлово-Ярцевское, деревня Сенькин...</td>\n",
       "    </tr>\n",
       "    <tr>\n",
       "      <th>1433</th>\n",
       "      <td>деревня Дудкино</td>\n",
       "      <td>1</td>\n",
       "      <td>no coordinates</td>\n",
       "      <td>поселение \"Мосрентген\", деревня Дудкино, владе...</td>\n",
       "    </tr>\n",
       "    <tr>\n",
       "      <th>1434</th>\n",
       "      <td>деревня Давыдково</td>\n",
       "      <td>1</td>\n",
       "      <td>no coordinates</td>\n",
       "      <td>поселение Марушкинское, деревня Давыдково, дом...</td>\n",
       "    </tr>\n",
       "    <tr>\n",
       "      <th>1442</th>\n",
       "      <td>Автомобильный проезд</td>\n",
       "      <td>1</td>\n",
       "      <td>no coordinates</td>\n",
       "      <td>город Москва, Автомобильный проезд, дом 6, стр...</td>\n",
       "    </tr>\n",
       "    <tr>\n",
       "      <th>1448</th>\n",
       "      <td>посёлок Акулово</td>\n",
       "      <td>1</td>\n",
       "      <td>no coordinates</td>\n",
       "      <td>город Москва, посёлок Акулово, дом 43А, строен...</td>\n",
       "    </tr>\n",
       "    <tr>\n",
       "      <th>1455</th>\n",
       "      <td>поселение Филимонковское</td>\n",
       "      <td>1</td>\n",
       "      <td>no coordinates</td>\n",
       "      <td>город Москва, поселение Филимонковское, деревн...</td>\n",
       "    </tr>\n",
       "    <tr>\n",
       "      <th>1469</th>\n",
       "      <td>31-й километр Московской Кольцевой Автодороги</td>\n",
       "      <td>1</td>\n",
       "      <td>no coordinates</td>\n",
       "      <td>город Москва, 31-й километр Московской Кольцев...</td>\n",
       "    </tr>\n",
       "    <tr>\n",
       "      <th>1473</th>\n",
       "      <td>30-й километр Московской Кольцевой Автодороги</td>\n",
       "      <td>1</td>\n",
       "      <td>no coordinates</td>\n",
       "      <td>город Москва, 30-й километр Московской Кольцев...</td>\n",
       "    </tr>\n",
       "    <tr>\n",
       "      <th>1478</th>\n",
       "      <td>26-й километр Московской Кольцевой Автодороги</td>\n",
       "      <td>1</td>\n",
       "      <td>no coordinates</td>\n",
       "      <td>город Москва, 26-й километр Московской Кольцев...</td>\n",
       "    </tr>\n",
       "    <tr>\n",
       "      <th>1481</th>\n",
       "      <td>34-й километр Московской Кольцевой Автодороги</td>\n",
       "      <td>1</td>\n",
       "      <td>no coordinates</td>\n",
       "      <td>город Москва, 34-й километр Московской Кольцев...</td>\n",
       "    </tr>\n",
       "    <tr>\n",
       "      <th>1482</th>\n",
       "      <td>42-й километр Калужского шоссе</td>\n",
       "      <td>1</td>\n",
       "      <td>no coordinates</td>\n",
       "      <td>город Троицк, 42-й километр Калужского шоссе, ...</td>\n",
       "    </tr>\n",
       "    <tr>\n",
       "      <th>1483</th>\n",
       "      <td>80-й километр Московской Кольцевой Автодороги</td>\n",
       "      <td>1</td>\n",
       "      <td>no coordinates</td>\n",
       "      <td>город Москва, 80-й километр Московской Кольцев...</td>\n",
       "    </tr>\n",
       "    <tr>\n",
       "      <th>1485</th>\n",
       "      <td>78-й километр Московской Кольцевой Автодороги</td>\n",
       "      <td>1</td>\n",
       "      <td>no coordinates</td>\n",
       "      <td>город Москва, 78-й километр Московской Кольцев...</td>\n",
       "    </tr>\n",
       "    <tr>\n",
       "      <th>1487</th>\n",
       "      <td>67-й километр Московской Кольцевой Автодороги</td>\n",
       "      <td>1</td>\n",
       "      <td>no coordinates</td>\n",
       "      <td>город Москва, 67-й километр Московской Кольцев...</td>\n",
       "    </tr>\n",
       "    <tr>\n",
       "      <th>1489</th>\n",
       "      <td>65-й километр Московской Кольцевой Автодороги</td>\n",
       "      <td>1</td>\n",
       "      <td>no coordinates</td>\n",
       "      <td>город Москва, 65-й километр Московской Кольцев...</td>\n",
       "    </tr>\n",
       "    <tr>\n",
       "      <th>1494</th>\n",
       "      <td>56-й километр Московской Кольцевой Автодороги</td>\n",
       "      <td>1</td>\n",
       "      <td>no coordinates</td>\n",
       "      <td>город Москва, 56-й километр Московской Кольцев...</td>\n",
       "    </tr>\n",
       "    <tr>\n",
       "      <th>1496</th>\n",
       "      <td>42-й километр Московской Кольцевой Автодороги</td>\n",
       "      <td>1</td>\n",
       "      <td>no coordinates</td>\n",
       "      <td>город Москва, 42-й километр Московской Кольцев...</td>\n",
       "    </tr>\n",
       "    <tr>\n",
       "      <th>1500</th>\n",
       "      <td>проспект Вернадского</td>\n",
       "      <td>1</td>\n",
       "      <td>no coordinates</td>\n",
       "      <td>город Москва, проспект Вернадского, дом 100, к...</td>\n",
       "    </tr>\n",
       "    <tr>\n",
       "      <th>1501</th>\n",
       "      <td>улица 9 Мая</td>\n",
       "      <td>1</td>\n",
       "      <td>no coordinates</td>\n",
       "      <td>город Москва, улица 9 Мая, дом 8</td>\n",
       "    </tr>\n",
       "    <tr>\n",
       "      <th>1552</th>\n",
       "      <td>улица Хабарова</td>\n",
       "      <td>1</td>\n",
       "      <td>no coordinates</td>\n",
       "      <td>город Московский, улица Хабарова, дом 2</td>\n",
       "    </tr>\n",
       "    <tr>\n",
       "      <th>1737</th>\n",
       "      <td>104-й километр Московской Кольцевой Автодороги</td>\n",
       "      <td>1</td>\n",
       "      <td>no coordinates</td>\n",
       "      <td>город Москва, 104-й километр Московской Кольце...</td>\n",
       "    </tr>\n",
       "    <tr>\n",
       "      <th>1785</th>\n",
       "      <td>Нижний Таганский тупик</td>\n",
       "      <td>1</td>\n",
       "      <td>no coordinates</td>\n",
       "      <td>Нижний Таганский тупик, дом 3, строение 1</td>\n",
       "    </tr>\n",
       "    <tr>\n",
       "      <th>1823</th>\n",
       "      <td>Полевая улица</td>\n",
       "      <td>1</td>\n",
       "      <td>no coordinates</td>\n",
       "      <td>Полевая улица, дом 20</td>\n",
       "    </tr>\n",
       "    <tr>\n",
       "      <th>1881</th>\n",
       "      <td>1-й Кожуховский проезд</td>\n",
       "      <td>1</td>\n",
       "      <td>no coordinates</td>\n",
       "      <td>город Москва, 1-й Кожуховский проезд, дом 17</td>\n",
       "    </tr>\n",
       "  </tbody>\n",
       "</table>\n",
       "</div>"
      ],
      "text/plain": [
       "                                               street  id     coordinates  \\\n",
       "1431                                 деревня Столбово   1  no coordinates   \n",
       "1432                        деревня Сенькино-Секерино   1  no coordinates   \n",
       "1433                                  деревня Дудкино   1  no coordinates   \n",
       "1434                                деревня Давыдково   1  no coordinates   \n",
       "1442                             Автомобильный проезд   1  no coordinates   \n",
       "1448                                  посёлок Акулово   1  no coordinates   \n",
       "1455                         поселение Филимонковское   1  no coordinates   \n",
       "1469    31-й километр Московской Кольцевой Автодороги   1  no coordinates   \n",
       "1473    30-й километр Московской Кольцевой Автодороги   1  no coordinates   \n",
       "1478    26-й километр Московской Кольцевой Автодороги   1  no coordinates   \n",
       "1481    34-й километр Московской Кольцевой Автодороги   1  no coordinates   \n",
       "1482                   42-й километр Калужского шоссе   1  no coordinates   \n",
       "1483    80-й километр Московской Кольцевой Автодороги   1  no coordinates   \n",
       "1485    78-й километр Московской Кольцевой Автодороги   1  no coordinates   \n",
       "1487    67-й километр Московской Кольцевой Автодороги   1  no coordinates   \n",
       "1489    65-й километр Московской Кольцевой Автодороги   1  no coordinates   \n",
       "1494    56-й километр Московской Кольцевой Автодороги   1  no coordinates   \n",
       "1496    42-й километр Московской Кольцевой Автодороги   1  no coordinates   \n",
       "1500                             проспект Вернадского   1  no coordinates   \n",
       "1501                                      улица 9 Мая   1  no coordinates   \n",
       "1552                                   улица Хабарова   1  no coordinates   \n",
       "1737   104-й километр Московской Кольцевой Автодороги   1  no coordinates   \n",
       "1785                           Нижний Таганский тупик   1  no coordinates   \n",
       "1823                                    Полевая улица   1  no coordinates   \n",
       "1881                           1-й Кожуховский проезд   1  no coordinates   \n",
       "\n",
       "                                                address  \n",
       "1431       поселение Сосенское, деревня Столбово, дом 1  \n",
       "1432  поселение Михайлово-Ярцевское, деревня Сенькин...  \n",
       "1433  поселение \"Мосрентген\", деревня Дудкино, владе...  \n",
       "1434  поселение Марушкинское, деревня Давыдково, дом...  \n",
       "1442  город Москва, Автомобильный проезд, дом 6, стр...  \n",
       "1448  город Москва, посёлок Акулово, дом 43А, строен...  \n",
       "1455  город Москва, поселение Филимонковское, деревн...  \n",
       "1469  город Москва, 31-й километр Московской Кольцев...  \n",
       "1473  город Москва, 30-й километр Московской Кольцев...  \n",
       "1478  город Москва, 26-й километр Московской Кольцев...  \n",
       "1481  город Москва, 34-й километр Московской Кольцев...  \n",
       "1482  город Троицк, 42-й километр Калужского шоссе, ...  \n",
       "1483  город Москва, 80-й километр Московской Кольцев...  \n",
       "1485  город Москва, 78-й километр Московской Кольцев...  \n",
       "1487  город Москва, 67-й километр Московской Кольцев...  \n",
       "1489  город Москва, 65-й километр Московской Кольцев...  \n",
       "1494  город Москва, 56-й километр Московской Кольцев...  \n",
       "1496  город Москва, 42-й километр Московской Кольцев...  \n",
       "1500  город Москва, проспект Вернадского, дом 100, к...  \n",
       "1501                   город Москва, улица 9 Мая, дом 8  \n",
       "1552            город Московский, улица Хабарова, дом 2  \n",
       "1737  город Москва, 104-й километр Московской Кольце...  \n",
       "1785          Нижний Таганский тупик, дом 3, строение 1  \n",
       "1823                              Полевая улица, дом 20  \n",
       "1881       город Москва, 1-й Кожуховский проезд, дом 17  "
      ]
     },
     "metadata": {},
     "output_type": "display_data"
    }
   ],
   "source": [
    "# Рассмотрим те адреса, где район получить не удалось\n",
    "display(street_min_rest[street_min_rest['coordinates']=='no coordinates'].tail(25))"
   ]
  },
  {
   "cell_type": "markdown",
   "metadata": {},
   "source": [
    "#### Вывод\n",
    "В нашем датасете мы имеем 553 улицы с одним заведением общественного питания. Если же рассматривать районы, то мы имеем как минимум 23 района, где предприниматели/рестораторы не видят потенциала. Также мы получили список адресов, где мы не смогли получить район. Большая часть из них находится на МКАД"
   ]
  },
  {
   "cell_type": "markdown",
   "metadata": {},
   "source": [
    "#### <a id=\"step11\"> Посмотрите на распределение количества посадочных мест для улиц с большим количеством объектов общественного питания. Какие закономерности можно выявить?</a>"
   ]
  },
  {
   "cell_type": "code",
   "execution_count": 48,
   "metadata": {},
   "outputs": [],
   "source": [
    "top_rest = rest_top_10['street'].unique()"
   ]
  },
  {
   "cell_type": "code",
   "execution_count": 49,
   "metadata": {},
   "outputs": [
    {
     "name": "stdout",
     "output_type": "stream",
     "text": [
      "Варшавское шоссе\n"
     ]
    },
    {
     "data": {
      "text/plain": [
       "count    162.000000\n",
       "mean      52.672840\n",
       "std       74.905807\n",
       "min        0.000000\n",
       "25%        8.000000\n",
       "50%       30.000000\n",
       "75%       64.000000\n",
       "max      500.000000\n",
       "Name: number, dtype: float64"
      ]
     },
     "metadata": {},
     "output_type": "display_data"
    },
    {
     "name": "stdout",
     "output_type": "stream",
     "text": [
      "проспект Вернадского\n"
     ]
    },
    {
     "data": {
      "text/plain": [
       "count     131.000000\n",
       "mean       66.167939\n",
       "std       121.982165\n",
       "min         0.000000\n",
       "25%        20.000000\n",
       "50%        40.000000\n",
       "75%        80.000000\n",
       "max      1288.000000\n",
       "Name: number, dtype: float64"
      ]
     },
     "metadata": {},
     "output_type": "display_data"
    },
    {
     "name": "stdout",
     "output_type": "stream",
     "text": [
      "Кутузовский проспект\n"
     ]
    },
    {
     "data": {
      "text/plain": [
       "count     114.000000\n",
       "mean       85.061404\n",
       "std       194.464196\n",
       "min         0.000000\n",
       "25%        20.000000\n",
       "50%        40.000000\n",
       "75%        96.000000\n",
       "max      1700.000000\n",
       "Name: number, dtype: float64"
      ]
     },
     "metadata": {},
     "output_type": "display_data"
    },
    {
     "name": "stdout",
     "output_type": "stream",
     "text": [
      "Ленинградский проспект\n"
     ]
    },
    {
     "data": {
      "text/plain": [
       "count    173.000000\n",
       "mean      52.265896\n",
       "std       62.939883\n",
       "min        0.000000\n",
       "25%       15.000000\n",
       "50%       40.000000\n",
       "75%       70.000000\n",
       "max      625.000000\n",
       "Name: number, dtype: float64"
      ]
     },
     "metadata": {},
     "output_type": "display_data"
    },
    {
     "name": "stdout",
     "output_type": "stream",
     "text": [
      "Ленинский проспект\n"
     ]
    },
    {
     "data": {
      "text/plain": [
       "count    148.000000\n",
       "mean      63.148649\n",
       "std       67.850412\n",
       "min        0.000000\n",
       "25%       20.000000\n",
       "50%       45.000000\n",
       "75%       80.000000\n",
       "max      495.000000\n",
       "Name: number, dtype: float64"
      ]
     },
     "metadata": {},
     "output_type": "display_data"
    },
    {
     "name": "stdout",
     "output_type": "stream",
     "text": [
      "проспект Мира\n"
     ]
    },
    {
     "data": {
      "text/plain": [
       "count    204.000000\n",
       "mean      62.696078\n",
       "std       58.972447\n",
       "min        0.000000\n",
       "25%       20.000000\n",
       "50%       46.500000\n",
       "75%       90.000000\n",
       "max      326.000000\n",
       "Name: number, dtype: float64"
      ]
     },
     "metadata": {},
     "output_type": "display_data"
    },
    {
     "name": "stdout",
     "output_type": "stream",
     "text": [
      "Профсоюзная улица\n"
     ]
    },
    {
     "data": {
      "text/plain": [
       "count    183.000000\n",
       "mean      47.360656\n",
       "std       57.443532\n",
       "min        0.000000\n",
       "25%        5.000000\n",
       "50%       24.000000\n",
       "75%       67.500000\n",
       "max      240.000000\n",
       "Name: number, dtype: float64"
      ]
     },
     "metadata": {},
     "output_type": "display_data"
    },
    {
     "name": "stdout",
     "output_type": "stream",
     "text": [
      "Пресненская набережная\n"
     ]
    },
    {
     "data": {
      "text/plain": [
       "count    167.000000\n",
       "mean      45.844311\n",
       "std       65.316834\n",
       "min        0.000000\n",
       "25%        8.500000\n",
       "50%       30.000000\n",
       "75%       50.000000\n",
       "max      478.000000\n",
       "Name: number, dtype: float64"
      ]
     },
     "metadata": {},
     "output_type": "display_data"
    },
    {
     "name": "stdout",
     "output_type": "stream",
     "text": [
      " город Зеленоград\n"
     ]
    },
    {
     "data": {
      "text/plain": [
       "count    152.000000\n",
       "mean      77.309211\n",
       "std       64.155877\n",
       "min        0.000000\n",
       "25%       23.750000\n",
       "50%       60.000000\n",
       "75%      120.000000\n",
       "max      290.000000\n",
       "Name: number, dtype: float64"
      ]
     },
     "metadata": {},
     "output_type": "display_data"
    },
    {
     "name": "stdout",
     "output_type": "stream",
     "text": [
      " поселение Сосенское\n"
     ]
    },
    {
     "data": {
      "text/plain": [
       "count    138.000000\n",
       "mean      22.550725\n",
       "std       33.307695\n",
       "min        0.000000\n",
       "25%        5.000000\n",
       "50%       15.000000\n",
       "75%       25.000000\n",
       "max      200.000000\n",
       "Name: number, dtype: float64"
      ]
     },
     "metadata": {},
     "output_type": "display_data"
    }
   ],
   "source": [
    "for rest in top_rest:\n",
    "    print(rest)\n",
    "    display(rest_top_10[rest_top_10['street'] == rest]['number'].describe())\n",
    "    "
   ]
  },
  {
   "cell_type": "code",
   "execution_count": 50,
   "metadata": {},
   "outputs": [
    {
     "data": {
      "image/png": "[encoded data removed]",
      "text/plain": [
       "<Figure size 432x288 with 1 Axes>"
      ]
     },
     "metadata": {
      "needs_background": "light"
     },
     "output_type": "display_data"
    },
    {
     "data": {
      "image/png": "[encoded data removed]",
      "text/plain": [
       "<Figure size 432x288 with 1 Axes>"
      ]
     },
     "metadata": {
      "needs_background": "light"
     },
     "output_type": "display_data"
    },
    {
     "data": {
      "image/png": "[encoded data removed]",
      "text/plain": [
       "<Figure size 432x288 with 1 Axes>"
      ]
     },
     "metadata": {
      "needs_background": "light"
     },
     "output_type": "display_data"
    },
    {
     "data": {
      "image/png": "[encoded data removed]",
      "text/plain": [
       "<Figure size 432x288 with 1 Axes>"
      ]
     },
     "metadata": {
      "needs_background": "light"
     },
     "output_type": "display_data"
    },
    {
     "data": {
      "image/png": "[encoded data removed]",
      "text/plain": [
       "<Figure size 432x288 with 1 Axes>"
      ]
     },
     "metadata": {
      "needs_background": "light"
     },
     "output_type": "display_data"
    },
    {
     "data": {
      "image/png": "[encoded data removed]",
      "text/plain": [
       "<Figure size 432x288 with 1 Axes>"
      ]
     },
     "metadata": {
      "needs_background": "light"
     },
     "output_type": "display_data"
    },
    {
     "data": {
      "image/png": "[encoded data removed]",
      "text/plain": [
       "<Figure size 432x288 with 1 Axes>"
      ]
     },
     "metadata": {
      "needs_background": "light"
     },
     "output_type": "display_data"
    },
    {
     "data": {
      "image/png": "[encoded data removed]",
      "text/plain": [
       "<Figure size 432x288 with 1 Axes>"
      ]
     },
     "metadata": {
      "needs_background": "light"
     },
     "output_type": "display_data"
    },
    {
     "data": {
      "image/png": "[encoded data removed]",
      "text/plain": [
       "<Figure size 432x288 with 1 Axes>"
      ]
     },
     "metadata": {
      "needs_background": "light"
     },
     "output_type": "display_data"
    },
    {
     "data": {
      "image/png": "[encoded data removed]",
      "text/plain": [
       "<Figure size 432x288 with 1 Axes>"
      ]
     },
     "metadata": {
      "needs_background": "light"
     },
     "output_type": "display_data"
    }
   ],
   "source": [
    "for rest in top_rest:\n",
    "    g = sns.distplot(rest_top_10[rest_top_10['street'] == rest]['number'], bins=10)\n",
    "    g.set(title='Распределение количества посадочных мест для улицы: '+rest)\n",
    "    g.set(xlabel='Количество посадочных мест')\n",
    "    plt.show()"
   ]
  },
  {
   "cell_type": "markdown",
   "metadata": {},
   "source": [
    "#### Вывод\n",
    "Для поселения Сосенское и Пресненской набережной присуще небольшие заведения, с малым количеством посадочных мест (до 50). Во всех остальных случаях количество мест варьируется от 5 до 100 посадочных мест. Также можем увидеть, что на Кутузовском проспекте находится наше самое большое заведение с 1700 местами"
   ]
  },
  {
   "cell_type": "markdown",
   "metadata": {},
   "source": [
    "### Общий вывод\n",
    "По  имеющимся у нас данным можно сделать вывод, что предприниматели предпочитают открывать несетевые заведения, в большей степени - Кафе. Несетевые заведения имеют больше посадочных мест, в то время как в сетевых количество мест варьируется от  15 до 72. \n",
    "\n",
    "Для формирования общей понимания о размерах в каждой категории, мы построили график среднего количества посадочных мест для каждого вида объекта общественного питания. Из данного графика видно, что по количеству мест лидирует столовые (~130 мест), а в магазинах с кулинарией и закусочных количество мест не превышает 10. Что касается баров и кафе, то мы имеем в среднем 40 посадочных мест.\n",
    "\n",
    "Для формирования списка улиц, мы воспользовались помощью  API Яндекс карт, с помощью которого мы получили как информацию об улицах, так и районы.\n",
    "\n",
    "На основании полученных данных мы построили график с топ-10 улицами по кол-во объектов общественного питания, где лидером стала : Проспект Мира. Так как в топ-10 у нас вошли улицы с большой протяженностью, мы нашли районы, где больше всего заведений, в которых  объекты общественного питания расположены на улицах из ТОПа. Первым по популярности стал Пресненский район.\n",
    "\n",
    "Далее мы решили выявить самые непопулярные районы, где предприниматели не открывают заведения общественного питания. Из имеющего у нас датасета мы получили 553 улицы или 23 района. \n",
    "\n",
    "Для популярных улиц мы решили построить распределение по количеству посадочных мест. Для поселения Сосенское и Пресненской набережной присуще небольшие заведения. В остальных же районах мы имеем заведения в основном от 5 до 100 посадочных мест. \n",
    "\n",
    "Исходя из конкретного анализа, можно сделать вывод, что Кафе с 30-60 посадочными местами пользуются больше спросом. Если рассматривать Москву, то лучше обратить внимание на Пресненский, р-н Тропарево-Никулино, Обручевский р-н, где мы имеем больше количество заведений. \n"
   ]
  },
  {
   "cell_type": "code",
   "execution_count": null,
   "metadata": {},
   "outputs": [],
   "source": []
  }
 ],
 "metadata": {
  "kernelspec": {
   "display_name": "Python 3",
   "language": "python",
   "name": "python3"
  },
  "language_info": {
   "codemirror_mode": {
    "name": "ipython",
    "version": 3
   },
   "file_extension": ".py",
   "mimetype": "text/x-python",
   "name": "python",
   "nbconvert_exporter": "python",
   "pygments_lexer": "ipython3",
   "version": "3.10.1"
  }
 },
 "nbformat": 4,
 "nbformat_minor": 2
}
