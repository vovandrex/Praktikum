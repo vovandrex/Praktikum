{
 "cells": [
  {
   "cell_type": "markdown",
   "metadata": {},
   "source": [
    "# Ритейл — Анализ программы лояльности\n",
    "\n",
    "Менеджерами была поставлена следующая задача: оценить существующую программы лояльности.\n",
    "\n",
    "Проанализируйте программу лояльности магазина.\n",
    "\n",
    "- Проведите исследовательский анализ данных;\n",
    "- Проведите анализ программы лояльности;\n",
    "- Сформулируйте и проверьте статистические гипотезы."
   ]
  },
  {
   "cell_type": "markdown",
   "metadata": {},
   "source": [
    "## Материалы\n",
    "* [Презентация](https://yadi.sk/d/o2R2QONe9Kc-qA)"
   ]
  },
  {
   "cell_type": "markdown",
   "metadata": {},
   "source": [
    "## План выполнения работ\n",
    "### [Шаг 1. Загрузка данных и изучение общей информации](#step1)\n",
    "### [Шаг 2. Предобработка данных](#step2)\n",
    "- ####  [Шаг 2.1. Приведение столбцов датафреймов к нижнему регистру](#step21) \n",
    "- ####  [Шаг 2.2. Исследовать соответствие типов](#step22)\n",
    "- ####  [Шаг 2.3. Исследовать дубликаты](#step23)\n",
    "- ####  [Шаг 2.4. Исследовать пропущенные значения](#step24)\n",
    "\n",
    "### [Шаг 3. Исследовательский анализ данных](#step3)\n",
    "- ####  [Шаг 3.1. Диаграмма количества покупателей по магазинам по дням](#step31)\n",
    "- ####  [Шаг 3.2. Диаграмма соотношение количества покупок по различным магазинам по месяцам/дням](#step32)\n",
    "- ####  [Шаг 3.3. Распределение количества товаров по магазинам](#step33)\n",
    "- ####  [Шаг 3.4. Распределение количества покупок в корзине по магазинам по месяцам/дням](#step34)\n",
    "- ####  [Шаг 3.5. Распределение выручки по магазинам по месяцам/дням](#step35)\n",
    "- ####  [Шаг 3.6. Отношение количества участников программы лояльности к общему количеству клиентов по магазинам](#step36)\n",
    "- ####  [Шаг 3.7. Распределение количества товаров лояльных и нелояльных пользователей по месяцам](#step37)\n",
    "- ####  [Шаг 3.8. Распределение выручки лояльных и нелояльных клиентов по месяцам](#step38)\n",
    "- ####  [Шаг 3.9. Стандартное отклонение и дисперсия корзины для лояльных и нелояльных клиентов за весь период](#step39)\n",
    "\n",
    "### [Шаг 4. Проверка гипотез](#step4)\n",
    "- #### [Гипотеза 1. Среднее количество товаров в корзине у участников программы лояльности и \"рядовых\" клиентов отличается](#step41)\n",
    " \n",
    "- #### [Гипотеза 2. Средняя выручка участника программы лояльности и пользователя, который не входит в прогрумму лояльности различаются](#step42)\n",
    "\n",
    "### [Шаг 5. Общий вывод ](#step5)\n"
   ]
  },
  {
   "cell_type": "markdown",
   "metadata": {},
   "source": [
    "## <a id=\"step1\"> Шаг 1. Загрузка данных и изучение общей информации</a>"
   ]
  },
  {
   "cell_type": "code",
   "execution_count": 1,
   "metadata": {},
   "outputs": [],
   "source": [
    "import pandas as pd\n",
    "import matplotlib.pyplot as plt\n",
    "import numpy as np\n",
    "import warnings \n",
    "import seaborn as sns\n",
    "from scipy import stats as st\n",
    "warnings.simplefilter(\"ignore\")\n",
    "pd.set_option('display.max_columns', 500)"
   ]
  },
  {
   "cell_type": "markdown",
   "metadata": {},
   "source": [
    "#### Прочитаем методом read_csv файлы "
   ]
  },
  {
   "cell_type": "code",
   "execution_count": 2,
   "metadata": {},
   "outputs": [],
   "source": [
    "url_1 = 'https://github.com/vovandrex/Praktikum/blob/master/product_codes.csv?raw=true'\n",
    "url_2 = 'https://github.com/vovandrex/Praktikum/blob/master/retail_dataset.csv?raw=true'\n",
    "product_codes = pd.read_csv(url_1,index_col=0)\n",
    "retail_dataset = pd.read_csv(url_2,index_col=0)"
   ]
  },
  {
   "cell_type": "code",
   "execution_count": 3,
   "metadata": {},
   "outputs": [],
   "source": [
    "def gen_info(data):\n",
    "    print('\\nРассмотрим общую информацию')\n",
    "    data.info()\n",
    "    print('\\nВыведем 5 строк DataFrame на экран')\n",
    "    display(data.head())\n",
    "    print('\\nРассмотрим описательную статистику нашего DataFrame')\n",
    "    display(data.describe(include='all'))\n"
   ]
  },
  {
   "cell_type": "code",
   "execution_count": 4,
   "metadata": {},
   "outputs": [
    {
     "name": "stdout",
     "output_type": "stream",
     "text": [
      "\n",
      "Рассмотрим общую информацию\n",
      "<class 'pandas.core.frame.DataFrame'>\n",
      "Index: 9969 entries, 85123A to 20738\n",
      "Data columns (total 1 columns):\n",
      " #   Column         Non-Null Count  Dtype  \n",
      "---  ------         --------------  -----  \n",
      " 0   price_per_one  9969 non-null   float64\n",
      "dtypes: float64(1)\n",
      "memory usage: 155.8+ KB\n",
      "\n",
      "Выведем 5 строк DataFrame на экран\n"
     ]
    },
    {
     "data": {
      "text/html": [
       "<div>\n",
       "<style scoped>\n",
       "    .dataframe tbody tr th:only-of-type {\n",
       "        vertical-align: middle;\n",
       "    }\n",
       "\n",
       "    .dataframe tbody tr th {\n",
       "        vertical-align: top;\n",
       "    }\n",
       "\n",
       "    .dataframe thead th {\n",
       "        text-align: right;\n",
       "    }\n",
       "</style>\n",
       "<table border=\"1\" class=\"dataframe\">\n",
       "  <thead>\n",
       "    <tr style=\"text-align: right;\">\n",
       "      <th></th>\n",
       "      <th>price_per_one</th>\n",
       "    </tr>\n",
       "    <tr>\n",
       "      <th>productID</th>\n",
       "      <th></th>\n",
       "    </tr>\n",
       "  </thead>\n",
       "  <tbody>\n",
       "    <tr>\n",
       "      <th>85123A</th>\n",
       "      <td>2.55</td>\n",
       "    </tr>\n",
       "    <tr>\n",
       "      <th>71053</th>\n",
       "      <td>3.39</td>\n",
       "    </tr>\n",
       "    <tr>\n",
       "      <th>84406B</th>\n",
       "      <td>2.75</td>\n",
       "    </tr>\n",
       "    <tr>\n",
       "      <th>84029G</th>\n",
       "      <td>3.39</td>\n",
       "    </tr>\n",
       "    <tr>\n",
       "      <th>84029E</th>\n",
       "      <td>3.39</td>\n",
       "    </tr>\n",
       "  </tbody>\n",
       "</table>\n",
       "</div>"
      ],
      "text/plain": [
       "           price_per_one\n",
       "productID               \n",
       "85123A              2.55\n",
       "71053               3.39\n",
       "84406B              2.75\n",
       "84029G              3.39\n",
       "84029E              3.39"
      ]
     },
     "metadata": {},
     "output_type": "display_data"
    },
    {
     "name": "stdout",
     "output_type": "stream",
     "text": [
      "\n",
      "Рассмотрим описательную статистику нашего DataFrame\n"
     ]
    },
    {
     "data": {
      "text/html": [
       "<div>\n",
       "<style scoped>\n",
       "    .dataframe tbody tr th:only-of-type {\n",
       "        vertical-align: middle;\n",
       "    }\n",
       "\n",
       "    .dataframe tbody tr th {\n",
       "        vertical-align: top;\n",
       "    }\n",
       "\n",
       "    .dataframe thead th {\n",
       "        text-align: right;\n",
       "    }\n",
       "</style>\n",
       "<table border=\"1\" class=\"dataframe\">\n",
       "  <thead>\n",
       "    <tr style=\"text-align: right;\">\n",
       "      <th></th>\n",
       "      <th>price_per_one</th>\n",
       "    </tr>\n",
       "  </thead>\n",
       "  <tbody>\n",
       "    <tr>\n",
       "      <th>count</th>\n",
       "      <td>9969.000000</td>\n",
       "    </tr>\n",
       "    <tr>\n",
       "      <th>mean</th>\n",
       "      <td>19.503697</td>\n",
       "    </tr>\n",
       "    <tr>\n",
       "      <th>std</th>\n",
       "      <td>330.880754</td>\n",
       "    </tr>\n",
       "    <tr>\n",
       "      <th>min</th>\n",
       "      <td>0.000000</td>\n",
       "    </tr>\n",
       "    <tr>\n",
       "      <th>25%</th>\n",
       "      <td>1.250000</td>\n",
       "    </tr>\n",
       "    <tr>\n",
       "      <th>50%</th>\n",
       "      <td>2.550000</td>\n",
       "    </tr>\n",
       "    <tr>\n",
       "      <th>75%</th>\n",
       "      <td>5.510000</td>\n",
       "    </tr>\n",
       "    <tr>\n",
       "      <th>max</th>\n",
       "      <td>16888.020000</td>\n",
       "    </tr>\n",
       "  </tbody>\n",
       "</table>\n",
       "</div>"
      ],
      "text/plain": [
       "       price_per_one\n",
       "count    9969.000000\n",
       "mean       19.503697\n",
       "std       330.880754\n",
       "min         0.000000\n",
       "25%         1.250000\n",
       "50%         2.550000\n",
       "75%         5.510000\n",
       "max     16888.020000"
      ]
     },
     "metadata": {},
     "output_type": "display_data"
    }
   ],
   "source": [
    "gen_info(product_codes)"
   ]
  },
  {
   "cell_type": "markdown",
   "metadata": {},
   "source": [
    "#### Описание данных product_codes\n",
    "- `productID` — id товара;\n",
    "- `price_per_one` — стоимость одной единицы товара;\n"
   ]
  },
  {
   "cell_type": "code",
   "execution_count": 5,
   "metadata": {},
   "outputs": [
    {
     "name": "stdout",
     "output_type": "stream",
     "text": [
      "\n",
      "Рассмотрим общую информацию\n",
      "<class 'pandas.core.frame.DataFrame'>\n",
      "Index: 105335 entries, 538280 to 543977\n",
      "Data columns (total 6 columns):\n",
      " #   Column           Non-Null Count   Dtype  \n",
      "---  ------           --------------   -----  \n",
      " 0   item_ID          105335 non-null  object \n",
      " 1   Quantity         105335 non-null  int64  \n",
      " 2   purchasedate     105335 non-null  object \n",
      " 3   CustomerID       69125 non-null   float64\n",
      " 4   ShopID           105335 non-null  object \n",
      " 5   loyalty_program  105335 non-null  float64\n",
      "dtypes: float64(2), int64(1), object(3)\n",
      "memory usage: 5.6+ MB\n",
      "\n",
      "Выведем 5 строк DataFrame на экран\n"
     ]
    },
    {
     "data": {
      "text/html": [
       "<div>\n",
       "<style scoped>\n",
       "    .dataframe tbody tr th:only-of-type {\n",
       "        vertical-align: middle;\n",
       "    }\n",
       "\n",
       "    .dataframe tbody tr th {\n",
       "        vertical-align: top;\n",
       "    }\n",
       "\n",
       "    .dataframe thead th {\n",
       "        text-align: right;\n",
       "    }\n",
       "</style>\n",
       "<table border=\"1\" class=\"dataframe\">\n",
       "  <thead>\n",
       "    <tr style=\"text-align: right;\">\n",
       "      <th></th>\n",
       "      <th>item_ID</th>\n",
       "      <th>Quantity</th>\n",
       "      <th>purchasedate</th>\n",
       "      <th>CustomerID</th>\n",
       "      <th>ShopID</th>\n",
       "      <th>loyalty_program</th>\n",
       "    </tr>\n",
       "    <tr>\n",
       "      <th>purchaseid</th>\n",
       "      <th></th>\n",
       "      <th></th>\n",
       "      <th></th>\n",
       "      <th></th>\n",
       "      <th></th>\n",
       "      <th></th>\n",
       "    </tr>\n",
       "  </thead>\n",
       "  <tbody>\n",
       "    <tr>\n",
       "      <th>538280</th>\n",
       "      <td>21873</td>\n",
       "      <td>11</td>\n",
       "      <td>2016-12-10 12:50:00</td>\n",
       "      <td>18427.0</td>\n",
       "      <td>Shop 0</td>\n",
       "      <td>0.0</td>\n",
       "    </tr>\n",
       "    <tr>\n",
       "      <th>538862</th>\n",
       "      <td>22195</td>\n",
       "      <td>0</td>\n",
       "      <td>2016-12-14 14:11:00</td>\n",
       "      <td>22389.0</td>\n",
       "      <td>Shop 0</td>\n",
       "      <td>1.0</td>\n",
       "    </tr>\n",
       "    <tr>\n",
       "      <th>538855</th>\n",
       "      <td>21239</td>\n",
       "      <td>7</td>\n",
       "      <td>2016-12-14 13:50:00</td>\n",
       "      <td>22182.0</td>\n",
       "      <td>Shop 0</td>\n",
       "      <td>1.0</td>\n",
       "    </tr>\n",
       "    <tr>\n",
       "      <th>543543</th>\n",
       "      <td>22271</td>\n",
       "      <td>0</td>\n",
       "      <td>2017-02-09 15:33:00</td>\n",
       "      <td>23522.0</td>\n",
       "      <td>Shop 0</td>\n",
       "      <td>1.0</td>\n",
       "    </tr>\n",
       "    <tr>\n",
       "      <th>543812</th>\n",
       "      <td>79321</td>\n",
       "      <td>0</td>\n",
       "      <td>2017-02-13 14:40:00</td>\n",
       "      <td>23151.0</td>\n",
       "      <td>Shop 0</td>\n",
       "      <td>1.0</td>\n",
       "    </tr>\n",
       "  </tbody>\n",
       "</table>\n",
       "</div>"
      ],
      "text/plain": [
       "           item_ID  Quantity         purchasedate  CustomerID  ShopID  \\\n",
       "purchaseid                                                              \n",
       "538280       21873        11  2016-12-10 12:50:00     18427.0  Shop 0   \n",
       "538862       22195         0  2016-12-14 14:11:00     22389.0  Shop 0   \n",
       "538855       21239         7  2016-12-14 13:50:00     22182.0  Shop 0   \n",
       "543543       22271         0  2017-02-09 15:33:00     23522.0  Shop 0   \n",
       "543812       79321         0  2017-02-13 14:40:00     23151.0  Shop 0   \n",
       "\n",
       "            loyalty_program  \n",
       "purchaseid                   \n",
       "538280                  0.0  \n",
       "538862                  1.0  \n",
       "538855                  1.0  \n",
       "543543                  1.0  \n",
       "543812                  1.0  "
      ]
     },
     "metadata": {},
     "output_type": "display_data"
    },
    {
     "name": "stdout",
     "output_type": "stream",
     "text": [
      "\n",
      "Рассмотрим описательную статистику нашего DataFrame\n"
     ]
    },
    {
     "data": {
      "text/html": [
       "<div>\n",
       "<style scoped>\n",
       "    .dataframe tbody tr th:only-of-type {\n",
       "        vertical-align: middle;\n",
       "    }\n",
       "\n",
       "    .dataframe tbody tr th {\n",
       "        vertical-align: top;\n",
       "    }\n",
       "\n",
       "    .dataframe thead th {\n",
       "        text-align: right;\n",
       "    }\n",
       "</style>\n",
       "<table border=\"1\" class=\"dataframe\">\n",
       "  <thead>\n",
       "    <tr style=\"text-align: right;\">\n",
       "      <th></th>\n",
       "      <th>item_ID</th>\n",
       "      <th>Quantity</th>\n",
       "      <th>purchasedate</th>\n",
       "      <th>CustomerID</th>\n",
       "      <th>ShopID</th>\n",
       "      <th>loyalty_program</th>\n",
       "    </tr>\n",
       "  </thead>\n",
       "  <tbody>\n",
       "    <tr>\n",
       "      <th>count</th>\n",
       "      <td>105335</td>\n",
       "      <td>105335.000000</td>\n",
       "      <td>105335</td>\n",
       "      <td>69125.000000</td>\n",
       "      <td>105335</td>\n",
       "      <td>105335.000000</td>\n",
       "    </tr>\n",
       "    <tr>\n",
       "      <th>unique</th>\n",
       "      <td>3159</td>\n",
       "      <td>NaN</td>\n",
       "      <td>4430</td>\n",
       "      <td>NaN</td>\n",
       "      <td>31</td>\n",
       "      <td>NaN</td>\n",
       "    </tr>\n",
       "    <tr>\n",
       "      <th>top</th>\n",
       "      <td>85123A</td>\n",
       "      <td>NaN</td>\n",
       "      <td>2016-12-06 16:57:00</td>\n",
       "      <td>NaN</td>\n",
       "      <td>Shop 0</td>\n",
       "      <td>NaN</td>\n",
       "    </tr>\n",
       "    <tr>\n",
       "      <th>freq</th>\n",
       "      <td>565</td>\n",
       "      <td>NaN</td>\n",
       "      <td>675</td>\n",
       "      <td>NaN</td>\n",
       "      <td>97393</td>\n",
       "      <td>NaN</td>\n",
       "    </tr>\n",
       "    <tr>\n",
       "      <th>mean</th>\n",
       "      <td>NaN</td>\n",
       "      <td>7.821218</td>\n",
       "      <td>NaN</td>\n",
       "      <td>21019.302047</td>\n",
       "      <td>NaN</td>\n",
       "      <td>0.226345</td>\n",
       "    </tr>\n",
       "    <tr>\n",
       "      <th>std</th>\n",
       "      <td>NaN</td>\n",
       "      <td>327.946695</td>\n",
       "      <td>NaN</td>\n",
       "      <td>1765.444679</td>\n",
       "      <td>NaN</td>\n",
       "      <td>0.418467</td>\n",
       "    </tr>\n",
       "    <tr>\n",
       "      <th>min</th>\n",
       "      <td>NaN</td>\n",
       "      <td>-74216.000000</td>\n",
       "      <td>NaN</td>\n",
       "      <td>18025.000000</td>\n",
       "      <td>NaN</td>\n",
       "      <td>0.000000</td>\n",
       "    </tr>\n",
       "    <tr>\n",
       "      <th>25%</th>\n",
       "      <td>NaN</td>\n",
       "      <td>0.000000</td>\n",
       "      <td>NaN</td>\n",
       "      <td>19544.000000</td>\n",
       "      <td>NaN</td>\n",
       "      <td>0.000000</td>\n",
       "    </tr>\n",
       "    <tr>\n",
       "      <th>50%</th>\n",
       "      <td>NaN</td>\n",
       "      <td>2.000000</td>\n",
       "      <td>NaN</td>\n",
       "      <td>20990.000000</td>\n",
       "      <td>NaN</td>\n",
       "      <td>0.000000</td>\n",
       "    </tr>\n",
       "    <tr>\n",
       "      <th>75%</th>\n",
       "      <td>NaN</td>\n",
       "      <td>7.000000</td>\n",
       "      <td>NaN</td>\n",
       "      <td>22659.000000</td>\n",
       "      <td>NaN</td>\n",
       "      <td>0.000000</td>\n",
       "    </tr>\n",
       "    <tr>\n",
       "      <th>max</th>\n",
       "      <td>NaN</td>\n",
       "      <td>74214.000000</td>\n",
       "      <td>NaN</td>\n",
       "      <td>23962.000000</td>\n",
       "      <td>NaN</td>\n",
       "      <td>1.000000</td>\n",
       "    </tr>\n",
       "  </tbody>\n",
       "</table>\n",
       "</div>"
      ],
      "text/plain": [
       "       item_ID       Quantity         purchasedate    CustomerID  ShopID  \\\n",
       "count   105335  105335.000000               105335  69125.000000  105335   \n",
       "unique    3159            NaN                 4430           NaN      31   \n",
       "top     85123A            NaN  2016-12-06 16:57:00           NaN  Shop 0   \n",
       "freq       565            NaN                  675           NaN   97393   \n",
       "mean       NaN       7.821218                  NaN  21019.302047     NaN   \n",
       "std        NaN     327.946695                  NaN   1765.444679     NaN   \n",
       "min        NaN  -74216.000000                  NaN  18025.000000     NaN   \n",
       "25%        NaN       0.000000                  NaN  19544.000000     NaN   \n",
       "50%        NaN       2.000000                  NaN  20990.000000     NaN   \n",
       "75%        NaN       7.000000                  NaN  22659.000000     NaN   \n",
       "max        NaN   74214.000000                  NaN  23962.000000     NaN   \n",
       "\n",
       "        loyalty_program  \n",
       "count     105335.000000  \n",
       "unique              NaN  \n",
       "top                 NaN  \n",
       "freq                NaN  \n",
       "mean           0.226345  \n",
       "std            0.418467  \n",
       "min            0.000000  \n",
       "25%            0.000000  \n",
       "50%            0.000000  \n",
       "75%            0.000000  \n",
       "max            1.000000  "
      ]
     },
     "metadata": {},
     "output_type": "display_data"
    }
   ],
   "source": [
    "gen_info(retail_dataset)"
   ]
  },
  {
   "cell_type": "markdown",
   "metadata": {},
   "source": [
    "#### Описание данных retail_dataset\n",
    "- `purchaseId` — id чека;\n",
    "- `item_ID` — id товара;\n",
    "- `purchasedate` — дата покупки;\n",
    "- `Quantity` — количество товара;\n",
    "- `CustomerID` — id покупателя;\n",
    "- `ShopID` — id магазина;\n",
    "- `loyalty_program` — участвует ли покупатель в программе лояльности;"
   ]
  },
  {
   "cell_type": "markdown",
   "metadata": {},
   "source": [
    "#### Вывод\n",
    "Требуется привести названия столбцов к нижнему регистру.\n",
    "\n",
    "Датафрем `retail_dataset`:\n",
    "- Привести столбец `purchasedate` к формату даты;\n",
    "- Обработать пропуска в столбце `CustomerID`\n",
    "- Привести `loyalty_program` к целочисленным\n",
    "\n",
    "Датафрем `product_codes`:\n",
    "- переиндексировать строчки;\n",
    "- обработать дубликаты"
   ]
  },
  {
   "cell_type": "markdown",
   "metadata": {},
   "source": [
    "## <a id=\"step2\"> Шаг 2. Предобработка данных</a>"
   ]
  },
  {
   "cell_type": "code",
   "execution_count": 6,
   "metadata": {},
   "outputs": [],
   "source": [
    "# Переиндексируем строчки\n",
    "product_codes = product_codes.reset_index()"
   ]
  },
  {
   "cell_type": "markdown",
   "metadata": {},
   "source": [
    "\n",
    "##### <a id=\"step21\"> Шаг 2.1. Приведение столбцов датафреймов к нижнему регистру</a>"
   ]
  },
  {
   "cell_type": "code",
   "execution_count": 7,
   "metadata": {},
   "outputs": [],
   "source": [
    "retail_dataset.columns = retail_dataset.columns.str.lower()\n",
    "product_codes.columns = product_codes.columns.str.lower()"
   ]
  },
  {
   "cell_type": "markdown",
   "metadata": {},
   "source": [
    "##### <a id=\"step22\"> Шаг 2.2. Исследовать соответствие типов</a>"
   ]
  },
  {
   "cell_type": "code",
   "execution_count": 8,
   "metadata": {},
   "outputs": [],
   "source": [
    "# Приведем дату к формату даты и выделим день и месяц\n",
    "retail_dataset['purchasedate'] = pd.to_datetime(retail_dataset['purchasedate'], \n",
    "                                                format='%Y-%m-%d %H:%M:%S')\n",
    "retail_dataset['purchase_day'] = retail_dataset['purchasedate'].dt.date\n",
    "retail_dataset['purchase_month'] = retail_dataset['purchasedate'].dt.month\n",
    "\n",
    "# Приведем loyalty_program к целочисленным \n",
    "retail_dataset['loyalty_program'] = retail_dataset['loyalty_program'].astype('int64')\n"
   ]
  },
  {
   "cell_type": "markdown",
   "metadata": {},
   "source": [
    "##### <a id=\"step23\"> Шаг 2.3. Исследовать дубликаты</a>"
   ]
  },
  {
   "cell_type": "code",
   "execution_count": 9,
   "metadata": {},
   "outputs": [
    {
     "name": "stdout",
     "output_type": "stream",
     "text": [
      "Количество уникальных товаров в датафрейме product_codes:  3159\n"
     ]
    },
    {
     "data": {
      "text/html": [
       "<div>\n",
       "<style scoped>\n",
       "    .dataframe tbody tr th:only-of-type {\n",
       "        vertical-align: middle;\n",
       "    }\n",
       "\n",
       "    .dataframe tbody tr th {\n",
       "        vertical-align: top;\n",
       "    }\n",
       "\n",
       "    .dataframe thead th {\n",
       "        text-align: right;\n",
       "    }\n",
       "</style>\n",
       "<table border=\"1\" class=\"dataframe\">\n",
       "  <thead>\n",
       "    <tr style=\"text-align: right;\">\n",
       "      <th></th>\n",
       "      <th>productid</th>\n",
       "      <th>price_per_one</th>\n",
       "    </tr>\n",
       "  </thead>\n",
       "  <tbody>\n",
       "    <tr>\n",
       "      <th>0</th>\n",
       "      <td>10002</td>\n",
       "      <td>1.38</td>\n",
       "    </tr>\n",
       "    <tr>\n",
       "      <th>1</th>\n",
       "      <td>10080</td>\n",
       "      <td>0.85</td>\n",
       "    </tr>\n",
       "    <tr>\n",
       "      <th>2</th>\n",
       "      <td>10120</td>\n",
       "      <td>0.21</td>\n",
       "    </tr>\n",
       "    <tr>\n",
       "      <th>3</th>\n",
       "      <td>10123C</td>\n",
       "      <td>0.65</td>\n",
       "    </tr>\n",
       "    <tr>\n",
       "      <th>4</th>\n",
       "      <td>10124A</td>\n",
       "      <td>0.42</td>\n",
       "    </tr>\n",
       "  </tbody>\n",
       "</table>\n",
       "</div>"
      ],
      "text/plain": [
       "  productid  price_per_one\n",
       "0     10002           1.38\n",
       "1     10080           0.85\n",
       "2     10120           0.21\n",
       "3    10123C           0.65\n",
       "4    10124A           0.42"
      ]
     },
     "metadata": {},
     "output_type": "display_data"
    }
   ],
   "source": [
    "# Рассмотрим количество уникальных товаров в таблице product_codes\n",
    "print('Количество уникальных товаров в датафрейме product_codes: ',len(product_codes['productid'].unique()))\n",
    "# Возьмем для товаров среднюю цену по магазинам \n",
    "product_codes_gr = product_codes.groupby('productid').mean().reset_index()\n",
    "display(product_codes_gr.head())"
   ]
  },
  {
   "cell_type": "code",
   "execution_count": 10,
   "metadata": {},
   "outputs": [
    {
     "name": "stdout",
     "output_type": "stream",
     "text": [
      "Количество дубликатов в датафрейме retail_dataset:  1196\n"
     ]
    },
    {
     "data": {
      "text/html": [
       "<div>\n",
       "<style scoped>\n",
       "    .dataframe tbody tr th:only-of-type {\n",
       "        vertical-align: middle;\n",
       "    }\n",
       "\n",
       "    .dataframe tbody tr th {\n",
       "        vertical-align: top;\n",
       "    }\n",
       "\n",
       "    .dataframe thead th {\n",
       "        text-align: right;\n",
       "    }\n",
       "</style>\n",
       "<table border=\"1\" class=\"dataframe\">\n",
       "  <thead>\n",
       "    <tr style=\"text-align: right;\">\n",
       "      <th></th>\n",
       "      <th>item_id</th>\n",
       "      <th>quantity</th>\n",
       "      <th>purchasedate</th>\n",
       "      <th>customerid</th>\n",
       "      <th>shopid</th>\n",
       "      <th>loyalty_program</th>\n",
       "      <th>purchase_day</th>\n",
       "      <th>purchase_month</th>\n",
       "    </tr>\n",
       "    <tr>\n",
       "      <th>purchaseid</th>\n",
       "      <th></th>\n",
       "      <th></th>\n",
       "      <th></th>\n",
       "      <th></th>\n",
       "      <th></th>\n",
       "      <th></th>\n",
       "      <th></th>\n",
       "      <th></th>\n",
       "    </tr>\n",
       "  </thead>\n",
       "  <tbody>\n",
       "    <tr>\n",
       "      <th>537265</th>\n",
       "      <td>21499</td>\n",
       "      <td>24</td>\n",
       "      <td>2016-12-06 11:26:00</td>\n",
       "      <td>21598.0</td>\n",
       "      <td>Shop 0</td>\n",
       "      <td>0</td>\n",
       "      <td>2016-12-06</td>\n",
       "      <td>12</td>\n",
       "    </tr>\n",
       "    <tr>\n",
       "      <th>540803</th>\n",
       "      <td>21485</td>\n",
       "      <td>0</td>\n",
       "      <td>2017-01-11 12:30:00</td>\n",
       "      <td>20348.0</td>\n",
       "      <td>Shop 0</td>\n",
       "      <td>0</td>\n",
       "      <td>2017-01-11</td>\n",
       "      <td>1</td>\n",
       "    </tr>\n",
       "    <tr>\n",
       "      <th>540524</th>\n",
       "      <td>21326</td>\n",
       "      <td>11</td>\n",
       "      <td>2017-01-09 12:53:00</td>\n",
       "      <td>22414.0</td>\n",
       "      <td>Shop 0</td>\n",
       "      <td>1</td>\n",
       "      <td>2017-01-09</td>\n",
       "      <td>1</td>\n",
       "    </tr>\n",
       "    <tr>\n",
       "      <th>537192</th>\n",
       "      <td>22585</td>\n",
       "      <td>0</td>\n",
       "      <td>2016-12-05 13:42:00</td>\n",
       "      <td>22081.0</td>\n",
       "      <td>Shop 0</td>\n",
       "      <td>1</td>\n",
       "      <td>2016-12-05</td>\n",
       "      <td>12</td>\n",
       "    </tr>\n",
       "    <tr>\n",
       "      <th>539739</th>\n",
       "      <td>22414</td>\n",
       "      <td>0</td>\n",
       "      <td>2016-12-21 15:19:00</td>\n",
       "      <td>NaN</td>\n",
       "      <td>Shop 0</td>\n",
       "      <td>0</td>\n",
       "      <td>2016-12-21</td>\n",
       "      <td>12</td>\n",
       "    </tr>\n",
       "  </tbody>\n",
       "</table>\n",
       "</div>"
      ],
      "text/plain": [
       "           item_id  quantity        purchasedate  customerid  shopid  \\\n",
       "purchaseid                                                             \n",
       "537265       21499        24 2016-12-06 11:26:00     21598.0  Shop 0   \n",
       "540803       21485         0 2017-01-11 12:30:00     20348.0  Shop 0   \n",
       "540524       21326        11 2017-01-09 12:53:00     22414.0  Shop 0   \n",
       "537192       22585         0 2016-12-05 13:42:00     22081.0  Shop 0   \n",
       "539739       22414         0 2016-12-21 15:19:00         NaN  Shop 0   \n",
       "\n",
       "            loyalty_program purchase_day  purchase_month  \n",
       "purchaseid                                                \n",
       "537265                    0   2016-12-06              12  \n",
       "540803                    0   2017-01-11               1  \n",
       "540524                    1   2017-01-09               1  \n",
       "537192                    1   2016-12-05              12  \n",
       "539739                    0   2016-12-21              12  "
      ]
     },
     "metadata": {},
     "output_type": "display_data"
    }
   ],
   "source": [
    "# Рассмотрим дубликаты в датафрейме retail_dataset\n",
    "print('Количество дубликатов в датафрейме retail_dataset: ',retail_dataset.duplicated().sum())\n",
    "display(retail_dataset[retail_dataset.duplicated()].head())"
   ]
  },
  {
   "cell_type": "code",
   "execution_count": 11,
   "metadata": {},
   "outputs": [],
   "source": [
    "retail_dataset = retail_dataset.drop_duplicates().reset_index()"
   ]
  },
  {
   "cell_type": "markdown",
   "metadata": {},
   "source": [
    "##### <a id=\"step24\"> Шаг 2.4. Исследовать пропущенные значения</a>"
   ]
  },
  {
   "cell_type": "code",
   "execution_count": 12,
   "metadata": {},
   "outputs": [
    {
     "name": "stdout",
     "output_type": "stream",
     "text": [
      "Количество пропусков в столбце customerid :  35988\n"
     ]
    }
   ],
   "source": [
    "print('Количество пропусков в столбце customerid : ',\n",
    "      retail_dataset[retail_dataset['customerid'].isna() == True].shape[0])"
   ]
  },
  {
   "cell_type": "markdown",
   "metadata": {},
   "source": [
    "Предположим, что пользователи, которые не имеют customerid являются неидентифицированными клиентами. Учитывая, что в большинстве случаев у нас 1 уникальный пользователь = 1 уникальный чек, заполним идентификатор значением с чека. "
   ]
  },
  {
   "cell_type": "code",
   "execution_count": 13,
   "metadata": {},
   "outputs": [
    {
     "data": {
      "text/html": [
       "<div>\n",
       "<style scoped>\n",
       "    .dataframe tbody tr th:only-of-type {\n",
       "        vertical-align: middle;\n",
       "    }\n",
       "\n",
       "    .dataframe tbody tr th {\n",
       "        vertical-align: top;\n",
       "    }\n",
       "\n",
       "    .dataframe thead th {\n",
       "        text-align: right;\n",
       "    }\n",
       "</style>\n",
       "<table border=\"1\" class=\"dataframe\">\n",
       "  <thead>\n",
       "    <tr style=\"text-align: right;\">\n",
       "      <th></th>\n",
       "      <th>purchaseid</th>\n",
       "      <th>item_id</th>\n",
       "      <th>quantity</th>\n",
       "      <th>purchasedate</th>\n",
       "      <th>customerid</th>\n",
       "      <th>shopid</th>\n",
       "      <th>loyalty_program</th>\n",
       "      <th>purchase_day</th>\n",
       "      <th>purchase_month</th>\n",
       "    </tr>\n",
       "  </thead>\n",
       "  <tbody>\n",
       "  </tbody>\n",
       "</table>\n",
       "</div>"
      ],
      "text/plain": [
       "Empty DataFrame\n",
       "Columns: [purchaseid, item_id, quantity, purchasedate, customerid, shopid, loyalty_program, purchase_day, purchase_month]\n",
       "Index: []"
      ]
     },
     "metadata": {},
     "output_type": "display_data"
    }
   ],
   "source": [
    "# Проверим, есть ли среди пропусков участники программы лояльности\n",
    "display(retail_dataset[(retail_dataset['customerid'].isna() == True) & (retail_dataset['loyalty_program']==1)])"
   ]
  },
  {
   "cell_type": "code",
   "execution_count": 14,
   "metadata": {},
   "outputs": [],
   "source": [
    "retail_dataset['customerid'] = retail_dataset['customerid'].fillna('CLIENT_'+retail_dataset['purchaseid'])"
   ]
  },
  {
   "cell_type": "markdown",
   "metadata": {},
   "source": [
    "#### Вывод\n",
    "На данном шаге мы привели к значения столбцов к нужному формату, переиндексировали датафремы и привели к нижнему регистру названия столбцов для удоства работы. \n",
    "\n",
    "Также мы заполнили пропуска в столбце `CustomerID` по такой теории: \n",
    "Если у нас не получилось идентифицировать пользователя по какой-то причине и, как мы проверили,  клиент не является участником программы лояльности, то присваиваем этому неидентифицированному пользователю идентификатор чека. "
   ]
  },
  {
   "cell_type": "markdown",
   "metadata": {},
   "source": [
    "## <a id=\"step3\"> Шаг 3. Исследовательский анализ данных</a>"
   ]
  },
  {
   "cell_type": "markdown",
   "metadata": {},
   "source": [
    "#### Объединим 2 датафрема"
   ]
  },
  {
   "cell_type": "code",
   "execution_count": 15,
   "metadata": {},
   "outputs": [],
   "source": [
    "data = retail_dataset.merge(product_codes_gr,how = 'left', left_on='item_id',right_on='productid')"
   ]
  },
  {
   "cell_type": "code",
   "execution_count": 16,
   "metadata": {},
   "outputs": [
    {
     "name": "stdout",
     "output_type": "stream",
     "text": [
      "<class 'pandas.core.frame.DataFrame'>\n",
      "Int64Index: 104139 entries, 0 to 104138\n",
      "Data columns (total 11 columns):\n",
      " #   Column           Non-Null Count   Dtype         \n",
      "---  ------           --------------   -----         \n",
      " 0   purchaseid       104139 non-null  object        \n",
      " 1   item_id          104139 non-null  object        \n",
      " 2   quantity         104139 non-null  int64         \n",
      " 3   purchasedate     104139 non-null  datetime64[ns]\n",
      " 4   customerid       104139 non-null  object        \n",
      " 5   shopid           104139 non-null  object        \n",
      " 6   loyalty_program  104139 non-null  int64         \n",
      " 7   purchase_day     104139 non-null  object        \n",
      " 8   purchase_month   104139 non-null  int64         \n",
      " 9   productid        104139 non-null  object        \n",
      " 10  price_per_one    104139 non-null  float64       \n",
      "dtypes: datetime64[ns](1), float64(1), int64(3), object(6)\n",
      "memory usage: 9.5+ MB\n"
     ]
    },
    {
     "data": {
      "text/plain": [
       "None"
      ]
     },
     "metadata": {},
     "output_type": "display_data"
    }
   ],
   "source": [
    "# Рассмотрим получившиеся данные\n",
    "display(data.info())"
   ]
  },
  {
   "cell_type": "code",
   "execution_count": 17,
   "metadata": {},
   "outputs": [
    {
     "data": {
      "text/plain": [
       "'Количество строк, где значение количества товара равно 0: '"
      ]
     },
     "metadata": {},
     "output_type": "display_data"
    },
    {
     "data": {
      "text/plain": [
       "32221"
      ]
     },
     "metadata": {},
     "output_type": "display_data"
    },
    {
     "data": {
      "text/plain": [
       "Shop 0     31901\n",
       "Shop 1        78\n",
       "Shop 8        50\n",
       "Shop 4        47\n",
       "Shop 18       40\n",
       "Shop 14       37\n",
       "Shop 6        33\n",
       "Shop 3         9\n",
       "Shop 12        8\n",
       "Shop 10        7\n",
       "Shop 22        2\n",
       "Shop 16        2\n",
       "Shop 20        2\n",
       "Shop 11        2\n",
       "Shop 19        1\n",
       "Shop 7         1\n",
       "Shop 5         1\n",
       "Name: shopid, dtype: int64"
      ]
     },
     "metadata": {},
     "output_type": "display_data"
    }
   ],
   "source": [
    "# Рассмотрим количество товаров равное 0\n",
    "display('Количество строк, где значение количества товара равно 0: ', data[data['quantity'] ==0].shape[0])\n",
    "display(data.loc[data['quantity'] ==0]['shopid'].value_counts())"
   ]
  },
  {
   "cell_type": "code",
   "execution_count": 18,
   "metadata": {},
   "outputs": [
    {
     "data": {
      "text/html": [
       "<div>\n",
       "<style scoped>\n",
       "    .dataframe tbody tr th:only-of-type {\n",
       "        vertical-align: middle;\n",
       "    }\n",
       "\n",
       "    .dataframe tbody tr th {\n",
       "        vertical-align: top;\n",
       "    }\n",
       "\n",
       "    .dataframe thead th {\n",
       "        text-align: right;\n",
       "    }\n",
       "</style>\n",
       "<table border=\"1\" class=\"dataframe\">\n",
       "  <thead>\n",
       "    <tr style=\"text-align: right;\">\n",
       "      <th></th>\n",
       "      <th>purchaseid</th>\n",
       "    </tr>\n",
       "    <tr>\n",
       "      <th>loyalty_program</th>\n",
       "      <th></th>\n",
       "    </tr>\n",
       "  </thead>\n",
       "  <tbody>\n",
       "    <tr>\n",
       "      <th>0</th>\n",
       "      <td>1222</td>\n",
       "    </tr>\n",
       "    <tr>\n",
       "      <th>1</th>\n",
       "      <td>517</td>\n",
       "    </tr>\n",
       "  </tbody>\n",
       "</table>\n",
       "</div>"
      ],
      "text/plain": [
       "                 purchaseid\n",
       "loyalty_program            \n",
       "0                      1222\n",
       "1                       517"
      ]
     },
     "metadata": {},
     "output_type": "display_data"
    }
   ],
   "source": [
    "display(data.loc[data['quantity'] ==0].groupby('loyalty_program').agg({'purchaseid':'nunique'}))"
   ]
  },
  {
   "cell_type": "markdown",
   "metadata": {},
   "source": [
    "#### Вывод\n",
    "Видим, что количество товаров равное 0 встречается во многих магазинах, причем таких строк в датафреме у нас 32221. Предположим, что данные товар участвовал в акции (Например: \"1+1\" или \"подарок при покупке ...\"). Также видим, что нулевые покупки встречаются как у клиентов программы лояльности, так и у обычных пользователей. "
   ]
  },
  {
   "cell_type": "code",
   "execution_count": 19,
   "metadata": {
    "scrolled": false
   },
   "outputs": [
    {
     "name": "stdout",
     "output_type": "stream",
     "text": [
      "Количество строк, где значение количества товара меньше 0:  2075\n"
     ]
    },
    {
     "data": {
      "text/html": [
       "<div>\n",
       "<style scoped>\n",
       "    .dataframe tbody tr th:only-of-type {\n",
       "        vertical-align: middle;\n",
       "    }\n",
       "\n",
       "    .dataframe tbody tr th {\n",
       "        vertical-align: top;\n",
       "    }\n",
       "\n",
       "    .dataframe thead th {\n",
       "        text-align: right;\n",
       "    }\n",
       "</style>\n",
       "<table border=\"1\" class=\"dataframe\">\n",
       "  <thead>\n",
       "    <tr style=\"text-align: right;\">\n",
       "      <th></th>\n",
       "      <th>purchaseid</th>\n",
       "      <th>item_id</th>\n",
       "      <th>quantity</th>\n",
       "      <th>purchasedate</th>\n",
       "      <th>customerid</th>\n",
       "      <th>shopid</th>\n",
       "      <th>loyalty_program</th>\n",
       "      <th>purchase_day</th>\n",
       "      <th>purchase_month</th>\n",
       "      <th>productid</th>\n",
       "      <th>price_per_one</th>\n",
       "    </tr>\n",
       "  </thead>\n",
       "  <tbody>\n",
       "    <tr>\n",
       "      <th>64</th>\n",
       "      <td>C539944</td>\n",
       "      <td>22776</td>\n",
       "      <td>-2</td>\n",
       "      <td>2016-12-23 11:38:00</td>\n",
       "      <td>20239</td>\n",
       "      <td>Shop 0</td>\n",
       "      <td>0</td>\n",
       "      <td>2016-12-23</td>\n",
       "      <td>12</td>\n",
       "      <td>22776</td>\n",
       "      <td>14.697500</td>\n",
       "    </tr>\n",
       "    <tr>\n",
       "      <th>109</th>\n",
       "      <td>C542910</td>\n",
       "      <td>20726</td>\n",
       "      <td>-2</td>\n",
       "      <td>2017-02-01 15:38:00</td>\n",
       "      <td>23190</td>\n",
       "      <td>Shop 0</td>\n",
       "      <td>1</td>\n",
       "      <td>2017-02-01</td>\n",
       "      <td>2</td>\n",
       "      <td>20726</td>\n",
       "      <td>3.065714</td>\n",
       "    </tr>\n",
       "    <tr>\n",
       "      <th>112</th>\n",
       "      <td>C542426</td>\n",
       "      <td>22418</td>\n",
       "      <td>-25</td>\n",
       "      <td>2017-01-28 09:32:00</td>\n",
       "      <td>19825</td>\n",
       "      <td>Shop 0</td>\n",
       "      <td>0</td>\n",
       "      <td>2017-01-28</td>\n",
       "      <td>1</td>\n",
       "      <td>22418</td>\n",
       "      <td>1.662500</td>\n",
       "    </tr>\n",
       "    <tr>\n",
       "      <th>253</th>\n",
       "      <td>C539726</td>\n",
       "      <td>22791</td>\n",
       "      <td>-11</td>\n",
       "      <td>2016-12-21 14:24:00</td>\n",
       "      <td>22686</td>\n",
       "      <td>Shop 0</td>\n",
       "      <td>1</td>\n",
       "      <td>2016-12-21</td>\n",
       "      <td>12</td>\n",
       "      <td>22791</td>\n",
       "      <td>1.820000</td>\n",
       "    </tr>\n",
       "    <tr>\n",
       "      <th>344</th>\n",
       "      <td>C544034</td>\n",
       "      <td>21878</td>\n",
       "      <td>-2</td>\n",
       "      <td>2017-02-15 11:28:00</td>\n",
       "      <td>20380</td>\n",
       "      <td>Shop 0</td>\n",
       "      <td>0</td>\n",
       "      <td>2017-02-15</td>\n",
       "      <td>2</td>\n",
       "      <td>21878</td>\n",
       "      <td>1.215000</td>\n",
       "    </tr>\n",
       "  </tbody>\n",
       "</table>\n",
       "</div>"
      ],
      "text/plain": [
       "    purchaseid item_id  quantity        purchasedate customerid  shopid  \\\n",
       "64     C539944   22776        -2 2016-12-23 11:38:00      20239  Shop 0   \n",
       "109    C542910   20726        -2 2017-02-01 15:38:00      23190  Shop 0   \n",
       "112    C542426   22418       -25 2017-01-28 09:32:00      19825  Shop 0   \n",
       "253    C539726   22791       -11 2016-12-21 14:24:00      22686  Shop 0   \n",
       "344    C544034   21878        -2 2017-02-15 11:28:00      20380  Shop 0   \n",
       "\n",
       "     loyalty_program purchase_day  purchase_month productid  price_per_one  \n",
       "64                 0   2016-12-23              12     22776      14.697500  \n",
       "109                1   2017-02-01               2     20726       3.065714  \n",
       "112                0   2017-01-28               1     22418       1.662500  \n",
       "253                1   2016-12-21              12     22791       1.820000  \n",
       "344                0   2017-02-15               2     21878       1.215000  "
      ]
     },
     "metadata": {},
     "output_type": "display_data"
    },
    {
     "data": {
      "text/plain": [
       "Shop 0     1788\n",
       "Shop 4      154\n",
       "Shop 6       53\n",
       "Shop 1       27\n",
       "Shop 12       8\n",
       "Shop 10       8\n",
       "Shop 11       8\n",
       "Shop 8        7\n",
       "Shop 2        5\n",
       "Shop 14       4\n",
       "Shop 21       2\n",
       "Shop 3        2\n",
       "Shop 19       2\n",
       "Shop 16       2\n",
       "Shop 7        2\n",
       "Shop 18       1\n",
       "Shop 23       1\n",
       "Shop 20       1\n",
       "Name: shopid, dtype: int64"
      ]
     },
     "metadata": {},
     "output_type": "display_data"
    }
   ],
   "source": [
    "# Рассмотрим количество товаров равное 0\n",
    "print('Количество строк, где значение количества товара меньше 0: ', data[data['quantity'] < 0].shape[0])\n",
    "display(data[data['quantity'] < 0].head())\n",
    "display(data.loc[data['quantity'] < 0]['shopid'].value_counts())"
   ]
  },
  {
   "cell_type": "markdown",
   "metadata": {},
   "source": [
    "#### Вывод\n",
    "Предположим, что отрицательное количество товара является возвратом. Оставим отрицательные значения для правильного расчета выручки магазина по месяцам"
   ]
  },
  {
   "cell_type": "code",
   "execution_count": 20,
   "metadata": {
    "scrolled": false
   },
   "outputs": [
    {
     "data": {
      "text/html": [
       "<div>\n",
       "<style scoped>\n",
       "    .dataframe tbody tr th:only-of-type {\n",
       "        vertical-align: middle;\n",
       "    }\n",
       "\n",
       "    .dataframe tbody tr th {\n",
       "        vertical-align: top;\n",
       "    }\n",
       "\n",
       "    .dataframe thead th {\n",
       "        text-align: right;\n",
       "    }\n",
       "</style>\n",
       "<table border=\"1\" class=\"dataframe\">\n",
       "  <thead>\n",
       "    <tr style=\"text-align: right;\">\n",
       "      <th></th>\n",
       "      <th>loyalty_program</th>\n",
       "      <th>shopid</th>\n",
       "      <th>purchaseid</th>\n",
       "    </tr>\n",
       "  </thead>\n",
       "  <tbody>\n",
       "    <tr>\n",
       "      <th>0</th>\n",
       "      <td>0</td>\n",
       "      <td>Shop 0</td>\n",
       "      <td>3133</td>\n",
       "    </tr>\n",
       "    <tr>\n",
       "      <th>1</th>\n",
       "      <td>0</td>\n",
       "      <td>Shop 1</td>\n",
       "      <td>90</td>\n",
       "    </tr>\n",
       "    <tr>\n",
       "      <th>2</th>\n",
       "      <td>0</td>\n",
       "      <td>Shop 10</td>\n",
       "      <td>15</td>\n",
       "    </tr>\n",
       "    <tr>\n",
       "      <th>3</th>\n",
       "      <td>0</td>\n",
       "      <td>Shop 11</td>\n",
       "      <td>10</td>\n",
       "    </tr>\n",
       "    <tr>\n",
       "      <th>4</th>\n",
       "      <td>0</td>\n",
       "      <td>Shop 12</td>\n",
       "      <td>21</td>\n",
       "    </tr>\n",
       "    <tr>\n",
       "      <th>5</th>\n",
       "      <td>0</td>\n",
       "      <td>Shop 13</td>\n",
       "      <td>4</td>\n",
       "    </tr>\n",
       "    <tr>\n",
       "      <th>6</th>\n",
       "      <td>0</td>\n",
       "      <td>Shop 14</td>\n",
       "      <td>6</td>\n",
       "    </tr>\n",
       "    <tr>\n",
       "      <th>7</th>\n",
       "      <td>0</td>\n",
       "      <td>Shop 15</td>\n",
       "      <td>2</td>\n",
       "    </tr>\n",
       "    <tr>\n",
       "      <th>8</th>\n",
       "      <td>0</td>\n",
       "      <td>Shop 16</td>\n",
       "      <td>4</td>\n",
       "    </tr>\n",
       "    <tr>\n",
       "      <th>9</th>\n",
       "      <td>0</td>\n",
       "      <td>Shop 17</td>\n",
       "      <td>2</td>\n",
       "    </tr>\n",
       "    <tr>\n",
       "      <th>10</th>\n",
       "      <td>0</td>\n",
       "      <td>Shop 18</td>\n",
       "      <td>9</td>\n",
       "    </tr>\n",
       "    <tr>\n",
       "      <th>11</th>\n",
       "      <td>0</td>\n",
       "      <td>Shop 19</td>\n",
       "      <td>3</td>\n",
       "    </tr>\n",
       "    <tr>\n",
       "      <th>12</th>\n",
       "      <td>0</td>\n",
       "      <td>Shop 2</td>\n",
       "      <td>19</td>\n",
       "    </tr>\n",
       "    <tr>\n",
       "      <th>13</th>\n",
       "      <td>0</td>\n",
       "      <td>Shop 20</td>\n",
       "      <td>4</td>\n",
       "    </tr>\n",
       "    <tr>\n",
       "      <th>14</th>\n",
       "      <td>0</td>\n",
       "      <td>Shop 21</td>\n",
       "      <td>3</td>\n",
       "    </tr>\n",
       "    <tr>\n",
       "      <th>15</th>\n",
       "      <td>0</td>\n",
       "      <td>Shop 22</td>\n",
       "      <td>4</td>\n",
       "    </tr>\n",
       "    <tr>\n",
       "      <th>16</th>\n",
       "      <td>0</td>\n",
       "      <td>Shop 23</td>\n",
       "      <td>2</td>\n",
       "    </tr>\n",
       "    <tr>\n",
       "      <th>17</th>\n",
       "      <td>0</td>\n",
       "      <td>Shop 24</td>\n",
       "      <td>1</td>\n",
       "    </tr>\n",
       "    <tr>\n",
       "      <th>18</th>\n",
       "      <td>0</td>\n",
       "      <td>Shop 25</td>\n",
       "      <td>1</td>\n",
       "    </tr>\n",
       "    <tr>\n",
       "      <th>19</th>\n",
       "      <td>0</td>\n",
       "      <td>Shop 26</td>\n",
       "      <td>1</td>\n",
       "    </tr>\n",
       "    <tr>\n",
       "      <th>20</th>\n",
       "      <td>0</td>\n",
       "      <td>Shop 27</td>\n",
       "      <td>1</td>\n",
       "    </tr>\n",
       "    <tr>\n",
       "      <th>21</th>\n",
       "      <td>0</td>\n",
       "      <td>Shop 29</td>\n",
       "      <td>1</td>\n",
       "    </tr>\n",
       "    <tr>\n",
       "      <th>22</th>\n",
       "      <td>0</td>\n",
       "      <td>Shop 3</td>\n",
       "      <td>15</td>\n",
       "    </tr>\n",
       "    <tr>\n",
       "      <th>23</th>\n",
       "      <td>0</td>\n",
       "      <td>Shop 30</td>\n",
       "      <td>1</td>\n",
       "    </tr>\n",
       "    <tr>\n",
       "      <th>24</th>\n",
       "      <td>0</td>\n",
       "      <td>Shop 4</td>\n",
       "      <td>114</td>\n",
       "    </tr>\n",
       "    <tr>\n",
       "      <th>25</th>\n",
       "      <td>0</td>\n",
       "      <td>Shop 5</td>\n",
       "      <td>4</td>\n",
       "    </tr>\n",
       "    <tr>\n",
       "      <th>26</th>\n",
       "      <td>0</td>\n",
       "      <td>Shop 6</td>\n",
       "      <td>46</td>\n",
       "    </tr>\n",
       "    <tr>\n",
       "      <th>27</th>\n",
       "      <td>0</td>\n",
       "      <td>Shop 7</td>\n",
       "      <td>11</td>\n",
       "    </tr>\n",
       "    <tr>\n",
       "      <th>28</th>\n",
       "      <td>0</td>\n",
       "      <td>Shop 8</td>\n",
       "      <td>18</td>\n",
       "    </tr>\n",
       "    <tr>\n",
       "      <th>29</th>\n",
       "      <td>0</td>\n",
       "      <td>Shop 9</td>\n",
       "      <td>4</td>\n",
       "    </tr>\n",
       "    <tr>\n",
       "      <th>30</th>\n",
       "      <td>1</td>\n",
       "      <td>Shop 0</td>\n",
       "      <td>1337</td>\n",
       "    </tr>\n",
       "    <tr>\n",
       "      <th>31</th>\n",
       "      <td>1</td>\n",
       "      <td>Shop 19</td>\n",
       "      <td>4</td>\n",
       "    </tr>\n",
       "    <tr>\n",
       "      <th>32</th>\n",
       "      <td>1</td>\n",
       "      <td>Shop 28</td>\n",
       "      <td>1</td>\n",
       "    </tr>\n",
       "    <tr>\n",
       "      <th>33</th>\n",
       "      <td>1</td>\n",
       "      <td>Shop 8</td>\n",
       "      <td>2</td>\n",
       "    </tr>\n",
       "  </tbody>\n",
       "</table>\n",
       "</div>"
      ],
      "text/plain": [
       "    loyalty_program   shopid  purchaseid\n",
       "0                 0   Shop 0        3133\n",
       "1                 0   Shop 1          90\n",
       "2                 0  Shop 10          15\n",
       "3                 0  Shop 11          10\n",
       "4                 0  Shop 12          21\n",
       "5                 0  Shop 13           4\n",
       "6                 0  Shop 14           6\n",
       "7                 0  Shop 15           2\n",
       "8                 0  Shop 16           4\n",
       "9                 0  Shop 17           2\n",
       "10                0  Shop 18           9\n",
       "11                0  Shop 19           3\n",
       "12                0   Shop 2          19\n",
       "13                0  Shop 20           4\n",
       "14                0  Shop 21           3\n",
       "15                0  Shop 22           4\n",
       "16                0  Shop 23           2\n",
       "17                0  Shop 24           1\n",
       "18                0  Shop 25           1\n",
       "19                0  Shop 26           1\n",
       "20                0  Shop 27           1\n",
       "21                0  Shop 29           1\n",
       "22                0   Shop 3          15\n",
       "23                0  Shop 30           1\n",
       "24                0   Shop 4         114\n",
       "25                0   Shop 5           4\n",
       "26                0   Shop 6          46\n",
       "27                0   Shop 7          11\n",
       "28                0   Shop 8          18\n",
       "29                0   Shop 9           4\n",
       "30                1   Shop 0        1337\n",
       "31                1  Shop 19           4\n",
       "32                1  Shop 28           1\n",
       "33                1   Shop 8           2"
      ]
     },
     "metadata": {},
     "output_type": "display_data"
    }
   ],
   "source": [
    "# Рассмотрим распределение участников лояльности по магазинам\n",
    "display(data.groupby(['loyalty_program','shopid']).agg({'purchaseid':'nunique'}).reset_index())"
   ]
  },
  {
   "cell_type": "markdown",
   "metadata": {},
   "source": [
    "#### Вывод\n",
    "Так как мы анализируем программу лояльности пользователей, то выберем только те магазины, где программа присутствует"
   ]
  },
  {
   "cell_type": "code",
   "execution_count": 21,
   "metadata": {},
   "outputs": [],
   "source": [
    "shop_other = ['Shop 19','Shop 28','Shop 8']\n",
    "shop_0 = 'Shop 0'\n",
    "data_shop_0= data.query(\"shopid == @shop_0\")\n",
    "data_shop_other = data.query(\"shopid in @shop_other\")"
   ]
  },
  {
   "cell_type": "code",
   "execution_count": 22,
   "metadata": {},
   "outputs": [
    {
     "name": "stdout",
     "output_type": "stream",
     "text": [
      "Количество строк в датафреме по магазину 0:  96207\n",
      "Количество строк в датафреме по магазинам с программы лояльности:  664\n"
     ]
    }
   ],
   "source": [
    "print('Количество строк в датафреме по магазину 0: ',data_shop_0.shape[0])\n",
    "print('Количество строк в датафреме по магазинам с программы лояльности: ',data_shop_other.shape[0])"
   ]
  },
  {
   "cell_type": "markdown",
   "metadata": {},
   "source": [
    "#### Вывод\n",
    "Мы определили список магазинов, в которые заходили наши клиенты программы лояльности. \n",
    "\n",
    "Далее будем работать с этим списком, так как в других магазинах мы прогрумму лояльности оценить не сможем.\n",
    "\n",
    "Также для удобства мы разбили наш датасет на `shop 0` и другие, чтобы строить красивые графики"
   ]
  },
  {
   "cell_type": "markdown",
   "metadata": {},
   "source": [
    "#### Добавим к датафрейму сумму покупки"
   ]
  },
  {
   "cell_type": "code",
   "execution_count": 23,
   "metadata": {},
   "outputs": [],
   "source": [
    "data['amount'] = data['quantity']* data['price_per_one']"
   ]
  },
  {
   "cell_type": "markdown",
   "metadata": {},
   "source": [
    "Мы же хотим посчитать выручку"
   ]
  },
  {
   "cell_type": "markdown",
   "metadata": {},
   "source": [
    "##### <a id=\"step31\"> Шаг 3.1. Диаграмма количества покупателей по магазинам по дням</a>"
   ]
  },
  {
   "cell_type": "code",
   "execution_count": 24,
   "metadata": {},
   "outputs": [],
   "source": [
    "# График мы строим только по уникальным пользователям, не рассматривая сейчас пользователей, \n",
    "# которых мы не смогли определить\n",
    "customer_count_date_0 = data_shop_0.groupby(['shopid','purchase_day']).agg({'customerid':'nunique','purchaseid':'nunique'}).reset_index()"
   ]
  },
  {
   "cell_type": "code",
   "execution_count": 25,
   "metadata": {},
   "outputs": [
    {
     "data": {
      "image/png": "[encoded data removed]",
      "text/plain": [
       "<Figure size 864x864 with 1 Axes>"
      ]
     },
     "metadata": {
      "needs_background": "light"
     },
     "output_type": "display_data"
    }
   ],
   "source": [
    "g = sns.catplot(x=\"purchase_day\", y='customerid', data=customer_count_date_0, height=12,\n",
    "                kind=\"bar\", palette=\"muted\")\n",
    "g.despine(left=True)\n",
    "g.set_xticklabels(rotation=90,horizontalalignment='right')\n",
    "g.set(title='Распределение покупателей по дням')\n",
    "g.set(xlabel='Дата', ylabel='Кол-во покупателей');\n"
   ]
  },
  {
   "cell_type": "markdown",
   "metadata": {},
   "source": [
    "Данных слишком много, поэтому далее в основном будем смотреть на распределение по месяцам"
   ]
  },
  {
   "cell_type": "code",
   "execution_count": 26,
   "metadata": {},
   "outputs": [],
   "source": [
    "customer_count_month_0 = data_shop_0.groupby(['shopid','purchase_month']).agg({'customerid':'nunique','purchaseid':'nunique'}).reset_index()"
   ]
  },
  {
   "cell_type": "code",
   "execution_count": 27,
   "metadata": {},
   "outputs": [
    {
     "data": {
      "image/png": "[encoded data removed]",
      "text/plain": [
       "<Figure size 432x432 with 1 Axes>"
      ]
     },
     "metadata": {
      "needs_background": "light"
     },
     "output_type": "display_data"
    }
   ],
   "source": [
    "g = sns.catplot(x=\"purchase_month\", y='customerid', data=customer_count_month_0,\n",
    "                 height=6,kind=\"bar\", palette=\"muted\")\n",
    "g.despine(left=True)\n",
    "g.set(title='Распределение покупателей по месяцам')\n",
    "g.set(xlabel='Месяц', ylabel='Кол-во покупателей');"
   ]
  },
  {
   "cell_type": "markdown",
   "metadata": {},
   "source": [
    "В декабре 2016г. количество покупателей было больше, нежели чем в январе и феврале. "
   ]
  },
  {
   "cell_type": "code",
   "execution_count": 28,
   "metadata": {},
   "outputs": [],
   "source": [
    "# Рассмотрим другие магазины\n",
    "customer_count_month_other = data_shop_other.groupby(['shopid','purchase_month']).agg({'customerid':'nunique','purchaseid':'nunique'}).reset_index()"
   ]
  },
  {
   "cell_type": "code",
   "execution_count": 29,
   "metadata": {},
   "outputs": [
    {
     "data": {
      "image/png": "[encoded data removed]",
      "text/plain": [
       "<Figure size 508.75x432 with 1 Axes>"
      ]
     },
     "metadata": {
      "needs_background": "light"
     },
     "output_type": "display_data"
    }
   ],
   "source": [
    "g = sns.catplot(x=\"purchase_month\", y='customerid', data=customer_count_month_other, height=6,\n",
    "                hue='shopid', kind=\"bar\", palette=\"muted\")\n",
    "g.despine(left=True)\n",
    "g.set(title='Распределение покупателей по месяцам')\n",
    "g.set(xlabel='Месяц', ylabel='Кол-во покупателей');"
   ]
  },
  {
   "cell_type": "code",
   "execution_count": 30,
   "metadata": {},
   "outputs": [],
   "source": [
    "customer_count_date_other = data_shop_other.groupby(['shopid','purchase_day']).agg({'customerid':'nunique'}).reset_index()"
   ]
  },
  {
   "cell_type": "code",
   "execution_count": 31,
   "metadata": {},
   "outputs": [
    {
     "data": {
      "image/png": "[encoded data removed]",
      "text/plain": [
       "<Figure size 508.75x432 with 1 Axes>"
      ]
     },
     "metadata": {
      "needs_background": "light"
     },
     "output_type": "display_data"
    }
   ],
   "source": [
    "g = sns.catplot(x=\"purchase_day\", y='customerid', data=customer_count_date_other.sort_values('purchase_day'), height=6,\n",
    "                hue='shopid',kind=\"bar\", palette=\"muted\")\n",
    "g.despine(left=True)\n",
    "g.set_xticklabels(rotation=90,horizontalalignment='right')\n",
    "g.set(title='Распределение покупателей по дням')\n",
    "g.set(xlabel='Дата', ylabel='Кол-во покупателей');"
   ]
  },
  {
   "cell_type": "markdown",
   "metadata": {},
   "source": [
    "#### Вывод\n",
    "Мы посмотрели на распределение количества уникальных пользователей  по дням в магазинах 0 и  19,28 и 8. С учетом небольшого количества пользователей в магазинах 19,28 и 8, мы не сможем проверить наши сформированные гипотезы. В дальнейшей работе мы будем рассматривать магазины 19,28 и 8 опционно, а основное внимание направим на магазин 0. \n",
    "\n",
    "Также из графиков можем сделать предположение, что магазин №28 был открыт только в феврале"
   ]
  },
  {
   "cell_type": "markdown",
   "metadata": {},
   "source": [
    "##### <a id=\"step32\"> Шаг 3.2. Диаграмма соотношение количества покупок по различным магазинам по месяцам/дням</a>"
   ]
  },
  {
   "cell_type": "markdown",
   "metadata": {},
   "source": [
    "##### Для магазина 0"
   ]
  },
  {
   "cell_type": "code",
   "execution_count": 32,
   "metadata": {},
   "outputs": [],
   "source": [
    "customer_purchaseid_shop_0 = (data_shop_0.loc[data_shop_0['quantity']>=0].groupby(['shopid','purchase_month'])\n",
    "                         .agg({'purchaseid':'nunique'}).reset_index())"
   ]
  },
  {
   "cell_type": "code",
   "execution_count": 33,
   "metadata": {
    "scrolled": true
   },
   "outputs": [
    {
     "data": {
      "image/png": "[encoded data removed]",
      "text/plain": [
       "<Figure size 432x432 with 1 Axes>"
      ]
     },
     "metadata": {
      "needs_background": "light"
     },
     "output_type": "display_data"
    }
   ],
   "source": [
    "g = sns.catplot(x=\"purchase_month\", y='purchaseid', data=customer_purchaseid_shop_0, height=6,\n",
    "                kind=\"bar\", palette=\"muted\")\n",
    "g.despine(left=True)\n",
    "g.set(title='Распределение количества покупок по месяцам')\n",
    "g.set(xlabel='Месяц', ylabel='Кол-во покупок');"
   ]
  },
  {
   "cell_type": "code",
   "execution_count": 34,
   "metadata": {},
   "outputs": [],
   "source": [
    "customer_purchaseid_shop_0_date = (data_shop_0.loc[data_shop_0['quantity']>=0].groupby(['shopid','purchase_day'])\n",
    "                         .agg({'purchaseid':'nunique'}).reset_index())"
   ]
  },
  {
   "cell_type": "code",
   "execution_count": 35,
   "metadata": {},
   "outputs": [
    {
     "data": {
      "image/png": "[encoded data removed]",
      "text/plain": [
       "<Figure size 864x864 with 1 Axes>"
      ]
     },
     "metadata": {
      "needs_background": "light"
     },
     "output_type": "display_data"
    }
   ],
   "source": [
    "g = sns.catplot(x=\"purchase_day\", y='purchaseid', data=customer_purchaseid_shop_0_date, height=12,\n",
    "                kind=\"bar\", palette=\"muted\")\n",
    "g.despine(left=True)\n",
    "g.set_xticklabels(rotation=90,horizontalalignment='right')\n",
    "g.set(title='Распределение количества покупок по дням')\n",
    "g.set(xlabel='Дата', ylabel='Кол-во покупок');"
   ]
  },
  {
   "cell_type": "markdown",
   "metadata": {},
   "source": [
    "##### Для магазинов 8, 19 и  28 "
   ]
  },
  {
   "cell_type": "code",
   "execution_count": 36,
   "metadata": {},
   "outputs": [],
   "source": [
    "customer_purchaseid_other = (data_shop_other.loc[data_shop_other['quantity']>=0].groupby(['shopid','purchase_month'])\n",
    "                         .agg({'purchaseid':'nunique'}).reset_index())"
   ]
  },
  {
   "cell_type": "code",
   "execution_count": 37,
   "metadata": {
    "scrolled": false
   },
   "outputs": [
    {
     "data": {
      "image/png": "[encoded data removed]",
      "text/plain": [
       "<Figure size 508.75x432 with 1 Axes>"
      ]
     },
     "metadata": {
      "needs_background": "light"
     },
     "output_type": "display_data"
    }
   ],
   "source": [
    "g = sns.catplot(x=\"purchase_month\", y='purchaseid', data=customer_purchaseid_other, height=6,\n",
    "                hue='shopid',kind=\"bar\", palette=\"muted\")\n",
    "g.despine(left=True)\n",
    "g.set(title='Распределение количества покупок по месяцам')\n",
    "g.set(xlabel='Дата', ylabel='Кол-во покупок');"
   ]
  },
  {
   "cell_type": "markdown",
   "metadata": {},
   "source": [
    "#### Посмотрим на возврат"
   ]
  },
  {
   "cell_type": "code",
   "execution_count": 38,
   "metadata": {},
   "outputs": [],
   "source": [
    "return_purchaseid_shop_0 = (data_shop_0.loc[data_shop_0['quantity']<0].groupby(['shopid','purchase_month'])\n",
    "                         .agg({'purchaseid':'nunique'}).reset_index())"
   ]
  },
  {
   "cell_type": "code",
   "execution_count": 39,
   "metadata": {},
   "outputs": [
    {
     "data": {
      "image/png": "[encoded data removed]",
      "text/plain": [
       "<Figure size 432x432 with 1 Axes>"
      ]
     },
     "metadata": {
      "needs_background": "light"
     },
     "output_type": "display_data"
    }
   ],
   "source": [
    "# На данном шаге исключать возвраты мы не будем\n",
    "g = sns.catplot(x=\"purchase_month\", y='purchaseid', data=return_purchaseid_shop_0, height=6,\n",
    "                kind=\"bar\", palette=\"muted\")\n",
    "g.despine(left=True)\n",
    "g.set(title='Распределение количества возвратов по месяцам для Shop_0')\n",
    "g.set(xlabel='Месяц', ylabel='Кол-во покупок');"
   ]
  },
  {
   "cell_type": "code",
   "execution_count": 40,
   "metadata": {},
   "outputs": [],
   "source": [
    "return_purchaseid_other=(data_shop_other.loc[data_shop_other['quantity']<0].groupby(['shopid','purchase_month'])\n",
    "                         .agg({'purchaseid':'nunique'}).reset_index())"
   ]
  },
  {
   "cell_type": "code",
   "execution_count": 41,
   "metadata": {},
   "outputs": [
    {
     "data": {
      "image/png": "[encoded data removed]",
      "text/plain": [
       "<Figure size 508.75x432 with 1 Axes>"
      ]
     },
     "metadata": {
      "needs_background": "light"
     },
     "output_type": "display_data"
    }
   ],
   "source": [
    "g = sns.catplot(x=\"purchase_month\", y='purchaseid', data=return_purchaseid_other, height=6,\n",
    "                hue='shopid',kind=\"bar\", palette=\"muted\")\n",
    "g.despine(left=True)\n",
    "g.set(title='Распределение количества возвратов по месяцам')\n",
    "g.set(xlabel='Дата', ylabel='Кол-во покупок');"
   ]
  },
  {
   "cell_type": "markdown",
   "metadata": {},
   "source": [
    "#### Вывод\n",
    "Видим, что в график распределения чеков(покупок) отличается от графика распределения клиентов. Все из-за того, что некоторые пользователи в день совершали несколько покупок. \n",
    "\n"
   ]
  },
  {
   "cell_type": "markdown",
   "metadata": {},
   "source": [
    "##### <a id=\"step33\"> Шаг 3.3. Распределение количества товаров по магазинам</a>"
   ]
  },
  {
   "cell_type": "code",
   "execution_count": 42,
   "metadata": {},
   "outputs": [],
   "source": [
    "item_group = data.groupby('shopid').agg({'item_id':'nunique'}).reset_index()"
   ]
  },
  {
   "cell_type": "code",
   "execution_count": 43,
   "metadata": {},
   "outputs": [
    {
     "data": {
      "image/png": "[encoded data removed]",
      "text/plain": [
       "<Figure size 576x576 with 1 Axes>"
      ]
     },
     "metadata": {
      "needs_background": "light"
     },
     "output_type": "display_data"
    }
   ],
   "source": [
    "g = sns.catplot(x=\"shopid\", y='item_id', data=item_group, height=8,\n",
    "                kind=\"bar\", palette=\"muted\")\n",
    "g.despine(left=True)\n",
    "g.set_xticklabels(rotation=45,horizontalalignment='right')\n",
    "g.set(title='Распределение товаров в чеках по магазинам')\n",
    "g.set(xlabel='Магазин', ylabel='Кол-во уникальных товаров');"
   ]
  },
  {
   "cell_type": "markdown",
   "metadata": {},
   "source": [
    "#### Вывод\n",
    "По причине, что у нас очень много покупателей в магазине №0,  мы имеем очень много уникальных позиций в чеке(ну конечно же, это еще заслуга магазина). Судить об уникальных товарах мы можем только по чекам клиентов, а в магазине №0 их значительно больше, чем во всех других магазинах.  "
   ]
  },
  {
   "cell_type": "markdown",
   "metadata": {},
   "source": [
    "##### <a id=\"step34\"> Шаг 3.4. Распределение количества покупок в корзине по магазинам по месяцам</a>"
   ]
  },
  {
   "cell_type": "code",
   "execution_count": 44,
   "metadata": {},
   "outputs": [],
   "source": [
    "data_shop_month_gr = data.groupby(['purchaseid','purchase_month','shopid']).agg({'quantity':'sum','amount':'sum'}).reset_index()"
   ]
  },
  {
   "cell_type": "code",
   "execution_count": 45,
   "metadata": {
    "scrolled": true
   },
   "outputs": [],
   "source": [
    "def plot_box(unit, title_name, xlabel, ylabel):\n",
    "    shop_list = ['Shop 0','Shop 19','Shop 28','Shop 8']\n",
    "    for shop in shop_list:\n",
    "        plt.figure(figsize=(6, 4))\n",
    "        tmp = \\\n",
    "        data_shop_month_gr[data_shop_month_gr['shopid']==shop].groupby('shopid', as_index=False).agg({unit:'median'})\n",
    "        sns.boxplot(x='shopid', y= unit, hue ='purchase_month',\n",
    "                    data=data_shop_month_gr[data_shop_month_gr['shopid']==shop], showfliers=False, order=tmp['shopid'].to_list())\n",
    "        title = title_name + shop\n",
    "        plt.title(title)\n",
    "        plt.xlabel(xlabel)\n",
    "        plt.ylabel(ylabel)\n",
    "        plt.grid(True)\n",
    "        plt.show()    "
   ]
  },
  {
   "cell_type": "code",
   "execution_count": 46,
   "metadata": {
    "scrolled": true
   },
   "outputs": [
    {
     "data": {
      "image/png": "[encoded data removed]",
      "text/plain": [
       "<Figure size 432x288 with 1 Axes>"
      ]
     },
     "metadata": {
      "needs_background": "light"
     },
     "output_type": "display_data"
    },
    {
     "data": {
      "image/png": "[encoded data removed]",
      "text/plain": [
       "<Figure size 432x288 with 1 Axes>"
      ]
     },
     "metadata": {
      "needs_background": "light"
     },
     "output_type": "display_data"
    },
    {
     "data": {
      "image/png": "[encoded data removed]",
      "text/plain": [
       "<Figure size 432x288 with 1 Axes>"
      ]
     },
     "metadata": {
      "needs_background": "light"
     },
     "output_type": "display_data"
    },
    {
     "data": {
      "image/png": "[encoded data removed]",
      "text/plain": [
       "<Figure size 432x288 with 1 Axes>"
      ]
     },
     "metadata": {
      "needs_background": "light"
     },
     "output_type": "display_data"
    }
   ],
   "source": [
    "plot_box('quantity','Распределение покупок для магазина: ','Наименование магазина','Кол-во покупок в корзине')"
   ]
  },
  {
   "cell_type": "code",
   "execution_count": 47,
   "metadata": {},
   "outputs": [
    {
     "data": {
      "text/html": [
       "<div>\n",
       "<style scoped>\n",
       "    .dataframe tbody tr th:only-of-type {\n",
       "        vertical-align: middle;\n",
       "    }\n",
       "\n",
       "    .dataframe tbody tr th {\n",
       "        vertical-align: top;\n",
       "    }\n",
       "\n",
       "    .dataframe thead th {\n",
       "        text-align: right;\n",
       "    }\n",
       "</style>\n",
       "<table border=\"1\" class=\"dataframe\">\n",
       "  <thead>\n",
       "    <tr style=\"text-align: right;\">\n",
       "      <th></th>\n",
       "      <th>purchase_month</th>\n",
       "      <th>quantity</th>\n",
       "      <th>amount</th>\n",
       "    </tr>\n",
       "  </thead>\n",
       "  <tbody>\n",
       "    <tr>\n",
       "      <th>count</th>\n",
       "      <td>4470.000000</td>\n",
       "      <td>4470.000000</td>\n",
       "      <td>4470.000000</td>\n",
       "    </tr>\n",
       "    <tr>\n",
       "      <th>mean</th>\n",
       "      <td>5.920358</td>\n",
       "      <td>148.140268</td>\n",
       "      <td>351.976771</td>\n",
       "    </tr>\n",
       "    <tr>\n",
       "      <th>std</th>\n",
       "      <td>5.206104</td>\n",
       "      <td>1618.370005</td>\n",
       "      <td>2372.994121</td>\n",
       "    </tr>\n",
       "    <tr>\n",
       "      <th>min</th>\n",
       "      <td>1.000000</td>\n",
       "      <td>-74216.000000</td>\n",
       "      <td>-77184.640000</td>\n",
       "    </tr>\n",
       "    <tr>\n",
       "      <th>25%</th>\n",
       "      <td>1.000000</td>\n",
       "      <td>1.000000</td>\n",
       "      <td>1.320250</td>\n",
       "    </tr>\n",
       "    <tr>\n",
       "      <th>50%</th>\n",
       "      <td>2.000000</td>\n",
       "      <td>63.000000</td>\n",
       "      <td>193.755083</td>\n",
       "    </tr>\n",
       "    <tr>\n",
       "      <th>75%</th>\n",
       "      <td>12.000000</td>\n",
       "      <td>171.000000</td>\n",
       "      <td>474.618914</td>\n",
       "    </tr>\n",
       "    <tr>\n",
       "      <th>max</th>\n",
       "      <td>12.000000</td>\n",
       "      <td>74214.000000</td>\n",
       "      <td>77182.560000</td>\n",
       "    </tr>\n",
       "  </tbody>\n",
       "</table>\n",
       "</div>"
      ],
      "text/plain": [
       "       purchase_month      quantity        amount\n",
       "count     4470.000000   4470.000000   4470.000000\n",
       "mean         5.920358    148.140268    351.976771\n",
       "std          5.206104   1618.370005   2372.994121\n",
       "min          1.000000 -74216.000000 -77184.640000\n",
       "25%          1.000000      1.000000      1.320250\n",
       "50%          2.000000     63.000000    193.755083\n",
       "75%         12.000000    171.000000    474.618914\n",
       "max         12.000000  74214.000000  77182.560000"
      ]
     },
     "metadata": {},
     "output_type": "display_data"
    },
    {
     "data": {
      "text/html": [
       "<div>\n",
       "<style scoped>\n",
       "    .dataframe tbody tr th:only-of-type {\n",
       "        vertical-align: middle;\n",
       "    }\n",
       "\n",
       "    .dataframe tbody tr th {\n",
       "        vertical-align: top;\n",
       "    }\n",
       "\n",
       "    .dataframe thead th {\n",
       "        text-align: right;\n",
       "    }\n",
       "</style>\n",
       "<table border=\"1\" class=\"dataframe\">\n",
       "  <thead>\n",
       "    <tr style=\"text-align: right;\">\n",
       "      <th></th>\n",
       "      <th>purchase_month</th>\n",
       "      <th>quantity</th>\n",
       "      <th>amount</th>\n",
       "    </tr>\n",
       "  </thead>\n",
       "  <tbody>\n",
       "    <tr>\n",
       "      <th>count</th>\n",
       "      <td>7.000000</td>\n",
       "      <td>7.000000</td>\n",
       "      <td>7.000000</td>\n",
       "    </tr>\n",
       "    <tr>\n",
       "      <th>mean</th>\n",
       "      <td>5.857143</td>\n",
       "      <td>998.000000</td>\n",
       "      <td>1447.419171</td>\n",
       "    </tr>\n",
       "    <tr>\n",
       "      <th>std</th>\n",
       "      <td>5.756983</td>\n",
       "      <td>1561.624795</td>\n",
       "      <td>2091.483944</td>\n",
       "    </tr>\n",
       "    <tr>\n",
       "      <th>min</th>\n",
       "      <td>1.000000</td>\n",
       "      <td>-241.000000</td>\n",
       "      <td>-739.066667</td>\n",
       "    </tr>\n",
       "    <tr>\n",
       "      <th>25%</th>\n",
       "      <td>1.000000</td>\n",
       "      <td>118.000000</td>\n",
       "      <td>304.583250</td>\n",
       "    </tr>\n",
       "    <tr>\n",
       "      <th>50%</th>\n",
       "      <td>2.000000</td>\n",
       "      <td>239.000000</td>\n",
       "      <td>707.591317</td>\n",
       "    </tr>\n",
       "    <tr>\n",
       "      <th>75%</th>\n",
       "      <td>12.000000</td>\n",
       "      <td>1531.500000</td>\n",
       "      <td>2546.060250</td>\n",
       "    </tr>\n",
       "    <tr>\n",
       "      <th>max</th>\n",
       "      <td>12.000000</td>\n",
       "      <td>3689.000000</td>\n",
       "      <td>4462.122548</td>\n",
       "    </tr>\n",
       "  </tbody>\n",
       "</table>\n",
       "</div>"
      ],
      "text/plain": [
       "       purchase_month     quantity       amount\n",
       "count        7.000000     7.000000     7.000000\n",
       "mean         5.857143   998.000000  1447.419171\n",
       "std          5.756983  1561.624795  2091.483944\n",
       "min          1.000000  -241.000000  -739.066667\n",
       "25%          1.000000   118.000000   304.583250\n",
       "50%          2.000000   239.000000   707.591317\n",
       "75%         12.000000  1531.500000  2546.060250\n",
       "max         12.000000  3689.000000  4462.122548"
      ]
     },
     "metadata": {},
     "output_type": "display_data"
    },
    {
     "data": {
      "text/html": [
       "<div>\n",
       "<style scoped>\n",
       "    .dataframe tbody tr th:only-of-type {\n",
       "        vertical-align: middle;\n",
       "    }\n",
       "\n",
       "    .dataframe tbody tr th {\n",
       "        vertical-align: top;\n",
       "    }\n",
       "\n",
       "    .dataframe thead th {\n",
       "        text-align: right;\n",
       "    }\n",
       "</style>\n",
       "<table border=\"1\" class=\"dataframe\">\n",
       "  <thead>\n",
       "    <tr style=\"text-align: right;\">\n",
       "      <th></th>\n",
       "      <th>purchase_month</th>\n",
       "      <th>quantity</th>\n",
       "      <th>amount</th>\n",
       "    </tr>\n",
       "  </thead>\n",
       "  <tbody>\n",
       "    <tr>\n",
       "      <th>count</th>\n",
       "      <td>1.0</td>\n",
       "      <td>1.0</td>\n",
       "      <td>1.000000</td>\n",
       "    </tr>\n",
       "    <tr>\n",
       "      <th>mean</th>\n",
       "      <td>2.0</td>\n",
       "      <td>466.0</td>\n",
       "      <td>1466.012385</td>\n",
       "    </tr>\n",
       "    <tr>\n",
       "      <th>std</th>\n",
       "      <td>NaN</td>\n",
       "      <td>NaN</td>\n",
       "      <td>NaN</td>\n",
       "    </tr>\n",
       "    <tr>\n",
       "      <th>min</th>\n",
       "      <td>2.0</td>\n",
       "      <td>466.0</td>\n",
       "      <td>1466.012385</td>\n",
       "    </tr>\n",
       "    <tr>\n",
       "      <th>25%</th>\n",
       "      <td>2.0</td>\n",
       "      <td>466.0</td>\n",
       "      <td>1466.012385</td>\n",
       "    </tr>\n",
       "    <tr>\n",
       "      <th>50%</th>\n",
       "      <td>2.0</td>\n",
       "      <td>466.0</td>\n",
       "      <td>1466.012385</td>\n",
       "    </tr>\n",
       "    <tr>\n",
       "      <th>75%</th>\n",
       "      <td>2.0</td>\n",
       "      <td>466.0</td>\n",
       "      <td>1466.012385</td>\n",
       "    </tr>\n",
       "    <tr>\n",
       "      <th>max</th>\n",
       "      <td>2.0</td>\n",
       "      <td>466.0</td>\n",
       "      <td>1466.012385</td>\n",
       "    </tr>\n",
       "  </tbody>\n",
       "</table>\n",
       "</div>"
      ],
      "text/plain": [
       "       purchase_month  quantity       amount\n",
       "count             1.0       1.0     1.000000\n",
       "mean              2.0     466.0  1466.012385\n",
       "std               NaN       NaN          NaN\n",
       "min               2.0     466.0  1466.012385\n",
       "25%               2.0     466.0  1466.012385\n",
       "50%               2.0     466.0  1466.012385\n",
       "75%               2.0     466.0  1466.012385\n",
       "max               2.0     466.0  1466.012385"
      ]
     },
     "metadata": {},
     "output_type": "display_data"
    },
    {
     "data": {
      "text/html": [
       "<div>\n",
       "<style scoped>\n",
       "    .dataframe tbody tr th:only-of-type {\n",
       "        vertical-align: middle;\n",
       "    }\n",
       "\n",
       "    .dataframe tbody tr th {\n",
       "        vertical-align: top;\n",
       "    }\n",
       "\n",
       "    .dataframe thead th {\n",
       "        text-align: right;\n",
       "    }\n",
       "</style>\n",
       "<table border=\"1\" class=\"dataframe\">\n",
       "  <thead>\n",
       "    <tr style=\"text-align: right;\">\n",
       "      <th></th>\n",
       "      <th>purchase_month</th>\n",
       "      <th>quantity</th>\n",
       "      <th>amount</th>\n",
       "    </tr>\n",
       "  </thead>\n",
       "  <tbody>\n",
       "    <tr>\n",
       "      <th>count</th>\n",
       "      <td>20.000000</td>\n",
       "      <td>20.000000</td>\n",
       "      <td>20.000000</td>\n",
       "    </tr>\n",
       "    <tr>\n",
       "      <th>mean</th>\n",
       "      <td>3.450000</td>\n",
       "      <td>250.500000</td>\n",
       "      <td>808.653633</td>\n",
       "    </tr>\n",
       "    <tr>\n",
       "      <th>std</th>\n",
       "      <td>4.406634</td>\n",
       "      <td>263.264026</td>\n",
       "      <td>1194.218392</td>\n",
       "    </tr>\n",
       "    <tr>\n",
       "      <th>min</th>\n",
       "      <td>1.000000</td>\n",
       "      <td>-8.000000</td>\n",
       "      <td>-507.531864</td>\n",
       "    </tr>\n",
       "    <tr>\n",
       "      <th>25%</th>\n",
       "      <td>1.000000</td>\n",
       "      <td>26.500000</td>\n",
       "      <td>128.218042</td>\n",
       "    </tr>\n",
       "    <tr>\n",
       "      <th>50%</th>\n",
       "      <td>1.000000</td>\n",
       "      <td>193.500000</td>\n",
       "      <td>541.574988</td>\n",
       "    </tr>\n",
       "    <tr>\n",
       "      <th>75%</th>\n",
       "      <td>2.000000</td>\n",
       "      <td>407.250000</td>\n",
       "      <td>1196.502500</td>\n",
       "    </tr>\n",
       "    <tr>\n",
       "      <th>max</th>\n",
       "      <td>12.000000</td>\n",
       "      <td>1004.000000</td>\n",
       "      <td>4939.925333</td>\n",
       "    </tr>\n",
       "  </tbody>\n",
       "</table>\n",
       "</div>"
      ],
      "text/plain": [
       "       purchase_month     quantity       amount\n",
       "count       20.000000    20.000000    20.000000\n",
       "mean         3.450000   250.500000   808.653633\n",
       "std          4.406634   263.264026  1194.218392\n",
       "min          1.000000    -8.000000  -507.531864\n",
       "25%          1.000000    26.500000   128.218042\n",
       "50%          1.000000   193.500000   541.574988\n",
       "75%          2.000000   407.250000  1196.502500\n",
       "max         12.000000  1004.000000  4939.925333"
      ]
     },
     "metadata": {},
     "output_type": "display_data"
    }
   ],
   "source": [
    " shop_list = ['Shop 0','Shop 19','Shop 28','Shop 8']\n",
    "for shop in shop_list:\n",
    "    display(data_shop_month_gr[data_shop_month_gr['shopid']==shop].describe())"
   ]
  },
  {
   "cell_type": "markdown",
   "metadata": {},
   "source": [
    "#### Вывод\n",
    "Медианное значение количества позиций в корзине в магазине №0 колеблится от 60 до 80. Более массово клиенты покупали в феврале 2017г. Что касается других рассмотренных магазинах (там имеются лояльные клиенты), сложно судить о количестве товаров в чеке, так как мы имеем малое количетсво покупателей. Но все равно стоит отметить, что медианное значение количества товаров в чеке там выше, чем в магазине №0"
   ]
  },
  {
   "cell_type": "markdown",
   "metadata": {},
   "source": [
    "##### <a id=\"step35\"> Шаг 3.5. Распределение выручки по магазинам по месяцам</a>"
   ]
  },
  {
   "cell_type": "code",
   "execution_count": 48,
   "metadata": {
    "scrolled": false
   },
   "outputs": [
    {
     "data": {
      "image/png": "[encoded data removed]",
      "text/plain": [
       "<Figure size 432x288 with 1 Axes>"
      ]
     },
     "metadata": {
      "needs_background": "light"
     },
     "output_type": "display_data"
    },
    {
     "data": {
      "image/png": "[encoded data removed]",
      "text/plain": [
       "<Figure size 432x288 with 1 Axes>"
      ]
     },
     "metadata": {
      "needs_background": "light"
     },
     "output_type": "display_data"
    },
    {
     "data": {
      "image/png": "[encoded data removed]",
      "text/plain": [
       "<Figure size 432x288 with 1 Axes>"
      ]
     },
     "metadata": {
      "needs_background": "light"
     },
     "output_type": "display_data"
    },
    {
     "data": {
      "image/png": "[encoded data removed]",
      "text/plain": [
       "<Figure size 432x288 with 1 Axes>"
      ]
     },
     "metadata": {
      "needs_background": "light"
     },
     "output_type": "display_data"
    }
   ],
   "source": [
    "# Посмотрим стоимость одной корзины по месяцам\n",
    "plot_box('amount','Распределение выручки для магазина: ','Наименование магазина','Стоимость корзины')"
   ]
  },
  {
   "cell_type": "code",
   "execution_count": 49,
   "metadata": {
    "scrolled": true
   },
   "outputs": [
    {
     "data": {
      "text/html": [
       "<div>\n",
       "<style scoped>\n",
       "    .dataframe tbody tr th:only-of-type {\n",
       "        vertical-align: middle;\n",
       "    }\n",
       "\n",
       "    .dataframe tbody tr th {\n",
       "        vertical-align: top;\n",
       "    }\n",
       "\n",
       "    .dataframe thead th {\n",
       "        text-align: right;\n",
       "    }\n",
       "</style>\n",
       "<table border=\"1\" class=\"dataframe\">\n",
       "  <thead>\n",
       "    <tr style=\"text-align: right;\">\n",
       "      <th></th>\n",
       "      <th>purchaseid</th>\n",
       "      <th>purchase_month</th>\n",
       "      <th>shopid</th>\n",
       "      <th>quantity</th>\n",
       "      <th>amount</th>\n",
       "    </tr>\n",
       "  </thead>\n",
       "  <tbody>\n",
       "    <tr>\n",
       "      <th>128</th>\n",
       "      <td>536589</td>\n",
       "      <td>12</td>\n",
       "      <td>Shop 0</td>\n",
       "      <td>-11</td>\n",
       "      <td>-43.725000</td>\n",
       "    </tr>\n",
       "    <tr>\n",
       "      <th>221</th>\n",
       "      <td>536764</td>\n",
       "      <td>12</td>\n",
       "      <td>Shop 0</td>\n",
       "      <td>-39</td>\n",
       "      <td>-156.624000</td>\n",
       "    </tr>\n",
       "    <tr>\n",
       "      <th>343</th>\n",
       "      <td>536996</td>\n",
       "      <td>12</td>\n",
       "      <td>Shop 0</td>\n",
       "      <td>-21</td>\n",
       "      <td>-11.025000</td>\n",
       "    </tr>\n",
       "    <tr>\n",
       "      <th>344</th>\n",
       "      <td>536997</td>\n",
       "      <td>12</td>\n",
       "      <td>Shop 0</td>\n",
       "      <td>-21</td>\n",
       "      <td>-10.332000</td>\n",
       "    </tr>\n",
       "    <tr>\n",
       "      <th>345</th>\n",
       "      <td>536998</td>\n",
       "      <td>12</td>\n",
       "      <td>Shop 0</td>\n",
       "      <td>-7</td>\n",
       "      <td>-83.766667</td>\n",
       "    </tr>\n",
       "  </tbody>\n",
       "</table>\n",
       "</div>"
      ],
      "text/plain": [
       "    purchaseid  purchase_month  shopid  quantity      amount\n",
       "128     536589              12  Shop 0       -11  -43.725000\n",
       "221     536764              12  Shop 0       -39 -156.624000\n",
       "343     536996              12  Shop 0       -21  -11.025000\n",
       "344     536997              12  Shop 0       -21  -10.332000\n",
       "345     536998              12  Shop 0        -7  -83.766667"
      ]
     },
     "execution_count": 49,
     "metadata": {},
     "output_type": "execute_result"
    }
   ],
   "source": [
    "# Рассмотрим строчки с отрицательной стоимостью корзины (возврат) \n",
    "data_shop_month_gr[data_shop_month_gr['amount']<0].head()"
   ]
  },
  {
   "cell_type": "code",
   "execution_count": 50,
   "metadata": {},
   "outputs": [],
   "source": [
    "# Сгруппируем по магазинам и по месяцу для расчеты выручки\n",
    "data_amount = data_shop_month_gr.groupby(['shopid','purchase_month']).agg({'amount':'sum'}).reset_index()\n",
    "# Выберем нужные нам магазины \n",
    "data_amount_list = data_amount.query(\"shopid in @shop_list\")"
   ]
  },
  {
   "cell_type": "code",
   "execution_count": 51,
   "metadata": {
    "scrolled": false
   },
   "outputs": [
    {
     "data": {
      "image/png": "[encoded data removed]",
      "text/plain": [
       "<Figure size 432x432 with 1 Axes>"
      ]
     },
     "metadata": {
      "needs_background": "light"
     },
     "output_type": "display_data"
    },
    {
     "data": {
      "image/png": "[encoded data removed]",
      "text/plain": [
       "<Figure size 432x432 with 1 Axes>"
      ]
     },
     "metadata": {
      "needs_background": "light"
     },
     "output_type": "display_data"
    },
    {
     "data": {
      "image/png": "[encoded data removed]",
      "text/plain": [
       "<Figure size 432x432 with 1 Axes>"
      ]
     },
     "metadata": {
      "needs_background": "light"
     },
     "output_type": "display_data"
    },
    {
     "data": {
      "image/png": "[encoded data removed]",
      "text/plain": [
       "<Figure size 432x432 with 1 Axes>"
      ]
     },
     "metadata": {
      "needs_background": "light"
     },
     "output_type": "display_data"
    }
   ],
   "source": [
    "# Построим график выручки по месяцам\n",
    "for shop in shop_list:\n",
    "    g = sns.catplot(x=\"purchase_month\", y='amount', data=data_amount[data_amount['shopid'] == shop],\n",
    "                    height=6, kind=\"bar\", palette=\"muted\")\n",
    "    g.despine(left=True)\n",
    "    title_name = 'Распределение выручки по месяцам для магазина: ' + shop\n",
    "    g.set(title=title_name)\n",
    "    g.set(xlabel='Месяц', ylabel='Выручка');"
   ]
  },
  {
   "cell_type": "markdown",
   "metadata": {},
   "source": [
    "#### Вывод\n",
    "В декабре 2016г. у магазина №0 выручка выше,чем в январе и феврале. Выручка подтверждается графиком распределения количества уникальных покупателей(в декабре пользователей было больше).  "
   ]
  },
  {
   "cell_type": "markdown",
   "metadata": {},
   "source": [
    "##### <a id=\"step36\"> Шаг 3.6. Отношение количества участников программы лояльности к общему количеству клиентов по магазинам</a>"
   ]
  },
  {
   "cell_type": "code",
   "execution_count": 52,
   "metadata": {},
   "outputs": [],
   "source": [
    "data_loyalty=data.groupby(['shopid','loyalty_program']).agg({'customerid':'nunique'}).reset_index()\n",
    "data_loyalty_shop = data_loyalty.query(\"shopid in @shop_list\")"
   ]
  },
  {
   "cell_type": "code",
   "execution_count": 53,
   "metadata": {},
   "outputs": [
    {
     "data": {
      "image/png": "[encoded data removed]",
      "text/plain": [
       "<Figure size 520.875x432 with 1 Axes>"
      ]
     },
     "metadata": {
      "needs_background": "light"
     },
     "output_type": "display_data"
    }
   ],
   "source": [
    "g = sns.catplot(x=\"shopid\", y='customerid', data=data_loyalty_shop,hue='loyalty_program',\n",
    "                    height=6, kind=\"bar\", palette=\"muted\") \n",
    "g.despine(left=True)\n",
    "title_name = 'Распределение количества участников лояльности'\n",
    "g.set(title=title_name)\n",
    "g.set(xlabel='Магазины', ylabel='Кол-во участников');"
   ]
  },
  {
   "cell_type": "code",
   "execution_count": 54,
   "metadata": {},
   "outputs": [
    {
     "data": {
      "text/html": [
       "<div>\n",
       "<style scoped>\n",
       "    .dataframe tbody tr th:only-of-type {\n",
       "        vertical-align: middle;\n",
       "    }\n",
       "\n",
       "    .dataframe tbody tr th {\n",
       "        vertical-align: top;\n",
       "    }\n",
       "\n",
       "    .dataframe thead th {\n",
       "        text-align: right;\n",
       "    }\n",
       "</style>\n",
       "<table border=\"1\" class=\"dataframe\">\n",
       "  <thead>\n",
       "    <tr style=\"text-align: right;\">\n",
       "      <th></th>\n",
       "      <th>shopid</th>\n",
       "      <th>loyalty_0</th>\n",
       "      <th>loyalty_1</th>\n",
       "      <th>fraction</th>\n",
       "    </tr>\n",
       "  </thead>\n",
       "  <tbody>\n",
       "    <tr>\n",
       "      <th>0</th>\n",
       "      <td>Shop 0</td>\n",
       "      <td>1723.0</td>\n",
       "      <td>584.0</td>\n",
       "      <td>0.253143</td>\n",
       "    </tr>\n",
       "    <tr>\n",
       "      <th>1</th>\n",
       "      <td>Shop 19</td>\n",
       "      <td>2.0</td>\n",
       "      <td>1.0</td>\n",
       "      <td>0.333333</td>\n",
       "    </tr>\n",
       "    <tr>\n",
       "      <th>2</th>\n",
       "      <td>Shop 28</td>\n",
       "      <td>0.0</td>\n",
       "      <td>1.0</td>\n",
       "      <td>1.000000</td>\n",
       "    </tr>\n",
       "    <tr>\n",
       "      <th>3</th>\n",
       "      <td>Shop 8</td>\n",
       "      <td>11.0</td>\n",
       "      <td>1.0</td>\n",
       "      <td>0.083333</td>\n",
       "    </tr>\n",
       "  </tbody>\n",
       "</table>\n",
       "</div>"
      ],
      "text/plain": [
       "    shopid  loyalty_0  loyalty_1  fraction\n",
       "0   Shop 0     1723.0      584.0  0.253143\n",
       "1  Shop 19        2.0        1.0  0.333333\n",
       "2  Shop 28        0.0        1.0  1.000000\n",
       "3   Shop 8       11.0        1.0  0.083333"
      ]
     },
     "metadata": {},
     "output_type": "display_data"
    }
   ],
   "source": [
    "data_loyalty_pivot = data_loyalty_shop.pivot_table(index='shopid', columns ='loyalty_program',\n",
    "                                                   values = 'customerid').reset_index()\n",
    "data_loyalty_pivot.columns=['shopid', 'loyalty_0','loyalty_1']\n",
    "data_loyalty_pivot= data_loyalty_pivot.fillna(0)\n",
    "data_loyalty_pivot['fraction']= data_loyalty_pivot['loyalty_1'] / (data_loyalty_pivot['loyalty_1']+data_loyalty_pivot['loyalty_0'])\n",
    "display(data_loyalty_pivot)"
   ]
  },
  {
   "cell_type": "markdown",
   "metadata": {},
   "source": [
    "#### Вывод\n",
    "В магазине №0 25,3% покупателей являются участниками программы лояльности. В других магазинах слишком маленькое количество участников за весь период. \n"
   ]
  },
  {
   "cell_type": "markdown",
   "metadata": {},
   "source": [
    "##### <a id=\"step37\"> Шаг 3.7. Распределение количества товаров лояльных и нелояльных пользователей по месяцам</a>"
   ]
  },
  {
   "cell_type": "code",
   "execution_count": 55,
   "metadata": {},
   "outputs": [],
   "source": [
    "# Сгруппируем и получим количество товаров в корзине\n",
    "data_quantity_month=data.groupby(['shopid','purchaseid','loyalty_program','purchase_month']).agg({'quantity':'sum'}).reset_index()\n",
    "shop_0 = 'Shop 0'\n",
    "data_quantity_month_shop_0 = data_quantity_month.query(\"shopid in @shop_0\")"
   ]
  },
  {
   "cell_type": "code",
   "execution_count": 56,
   "metadata": {
    "scrolled": false
   },
   "outputs": [
    {
     "data": {
      "image/png": "[encoded data removed]",
      "text/plain": [
       "<Figure size 864x432 with 1 Axes>"
      ]
     },
     "metadata": {
      "needs_background": "light"
     },
     "output_type": "display_data"
    }
   ],
   "source": [
    "# Построим распределение товаров в корзинах\n",
    "plt.figure(figsize=(12, 6))\n",
    "tmp = \\\n",
    "data_quantity_month_shop_0.groupby('loyalty_program', as_index=False).agg({'quantity':'median'})\n",
    "sns.boxplot(x='loyalty_program', y= 'quantity', hue ='purchase_month',\n",
    "            data=data_quantity_month_shop_0, showfliers=False, order=tmp['loyalty_program'].to_list())\n",
    "\n",
    "plt.title('Распределение количества товаров в корзинах лояльных и нелояльных пользователей по месяцам')\n",
    "plt.xlabel('Лояльность клиета')\n",
    "plt.ylabel('Кол-во товаров в корзине')\n",
    "plt.grid(True)\n",
    "plt.show()   "
   ]
  },
  {
   "cell_type": "code",
   "execution_count": 57,
   "metadata": {},
   "outputs": [
    {
     "data": {
      "text/html": [
       "<div>\n",
       "<style scoped>\n",
       "    .dataframe tbody tr th:only-of-type {\n",
       "        vertical-align: middle;\n",
       "    }\n",
       "\n",
       "    .dataframe tbody tr th {\n",
       "        vertical-align: top;\n",
       "    }\n",
       "\n",
       "    .dataframe thead th {\n",
       "        text-align: right;\n",
       "    }\n",
       "</style>\n",
       "<table border=\"1\" class=\"dataframe\">\n",
       "  <thead>\n",
       "    <tr style=\"text-align: right;\">\n",
       "      <th></th>\n",
       "      <th>loyalty_program</th>\n",
       "      <th>quantity</th>\n",
       "    </tr>\n",
       "  </thead>\n",
       "  <tbody>\n",
       "    <tr>\n",
       "      <th>0</th>\n",
       "      <td>0</td>\n",
       "      <td>56</td>\n",
       "    </tr>\n",
       "    <tr>\n",
       "      <th>1</th>\n",
       "      <td>1</td>\n",
       "      <td>76</td>\n",
       "    </tr>\n",
       "  </tbody>\n",
       "</table>\n",
       "</div>"
      ],
      "text/plain": [
       "   loyalty_program  quantity\n",
       "0                0        56\n",
       "1                1        76"
      ]
     },
     "metadata": {},
     "output_type": "display_data"
    }
   ],
   "source": [
    "display(tmp)"
   ]
  },
  {
   "cell_type": "markdown",
   "metadata": {},
   "source": [
    "#### Вывод\n",
    "Количество товаров в корзине лояльных пользователей больше, чем у клиентов, которые не участвуют в программе лояльности. Это подтверждает значение медианы"
   ]
  },
  {
   "cell_type": "markdown",
   "metadata": {},
   "source": [
    "##### <a id=\"step38\"> Шаг 3.8. Распределение выручки лояльных и нелояльных клиентов по месяцам</a>"
   ]
  },
  {
   "cell_type": "code",
   "execution_count": 58,
   "metadata": {},
   "outputs": [],
   "source": [
    "data_amount_loyalty = data.groupby(['shopid','purchase_month','loyalty_program']).agg({'amount':'sum'}).reset_index()\n",
    "shop_list = ['Shop 0','Shop 19','Shop 28','Shop 8']\n",
    "data_amount_list = data_amount_loyalty.query(\"shopid in @shop_list\")"
   ]
  },
  {
   "cell_type": "code",
   "execution_count": 59,
   "metadata": {
    "scrolled": true
   },
   "outputs": [
    {
     "data": {
      "image/png": "[encoded data removed]",
      "text/plain": [
       "<Figure size 520.875x432 with 1 Axes>"
      ]
     },
     "metadata": {
      "needs_background": "light"
     },
     "output_type": "display_data"
    },
    {
     "data": {
      "image/png": "[encoded data removed]",
      "text/plain": [
       "<Figure size 520.875x432 with 1 Axes>"
      ]
     },
     "metadata": {
      "needs_background": "light"
     },
     "output_type": "display_data"
    },
    {
     "data": {
      "image/png": "[encoded data removed]",
      "text/plain": [
       "<Figure size 520.875x432 with 1 Axes>"
      ]
     },
     "metadata": {
      "needs_background": "light"
     },
     "output_type": "display_data"
    },
    {
     "data": {
      "image/png": "[encoded data removed]",
      "text/plain": [
       "<Figure size 520.875x432 with 1 Axes>"
      ]
     },
     "metadata": {
      "needs_background": "light"
     },
     "output_type": "display_data"
    }
   ],
   "source": [
    "for shop in shop_list:\n",
    "    g = sns.catplot(x=\"purchase_month\", y='amount', data=data_amount_list[data_amount_list['shopid'] == shop],\n",
    "                    hue='loyalty_program',height=6, kind=\"bar\", palette=\"muted\")\n",
    "    g.despine(left=True)\n",
    "    title_name = 'Распределение выручки по месяцам для магазина: ' + shop\n",
    "    g.set(title=title_name)\n",
    "    g.set(xlabel='Месяц', ylabel='Выручка');"
   ]
  },
  {
   "cell_type": "code",
   "execution_count": 60,
   "metadata": {},
   "outputs": [
    {
     "data": {
      "text/html": [
       "<div>\n",
       "<style scoped>\n",
       "    .dataframe tbody tr th:only-of-type {\n",
       "        vertical-align: middle;\n",
       "    }\n",
       "\n",
       "    .dataframe tbody tr th {\n",
       "        vertical-align: top;\n",
       "    }\n",
       "\n",
       "    .dataframe thead th {\n",
       "        text-align: right;\n",
       "    }\n",
       "</style>\n",
       "<table border=\"1\" class=\"dataframe\">\n",
       "  <thead>\n",
       "    <tr style=\"text-align: right;\">\n",
       "      <th></th>\n",
       "      <th>shopid</th>\n",
       "      <th>loyalty_0</th>\n",
       "      <th>loyalty_1</th>\n",
       "      <th>fraction</th>\n",
       "    </tr>\n",
       "  </thead>\n",
       "  <tbody>\n",
       "    <tr>\n",
       "      <th>0</th>\n",
       "      <td>Shop 0</td>\n",
       "      <td>320593.875610</td>\n",
       "      <td>203851.513030</td>\n",
       "      <td>0.388699</td>\n",
       "    </tr>\n",
       "    <tr>\n",
       "      <th>1</th>\n",
       "      <td>Shop 19</td>\n",
       "      <td>658.378909</td>\n",
       "      <td>4407.588190</td>\n",
       "      <td>0.870039</td>\n",
       "    </tr>\n",
       "    <tr>\n",
       "      <th>2</th>\n",
       "      <td>Shop 28</td>\n",
       "      <td>0.000000</td>\n",
       "      <td>1466.012385</td>\n",
       "      <td>1.000000</td>\n",
       "    </tr>\n",
       "    <tr>\n",
       "      <th>3</th>\n",
       "      <td>Shop 8</td>\n",
       "      <td>5311.152885</td>\n",
       "      <td>119.807000</td>\n",
       "      <td>0.022060</td>\n",
       "    </tr>\n",
       "  </tbody>\n",
       "</table>\n",
       "</div>"
      ],
      "text/plain": [
       "    shopid      loyalty_0      loyalty_1  fraction\n",
       "0   Shop 0  320593.875610  203851.513030  0.388699\n",
       "1  Shop 19     658.378909    4407.588190  0.870039\n",
       "2  Shop 28       0.000000    1466.012385  1.000000\n",
       "3   Shop 8    5311.152885     119.807000  0.022060"
      ]
     },
     "metadata": {},
     "output_type": "display_data"
    }
   ],
   "source": [
    "# Посчитаем долю выручки лояльных пользователей\n",
    "data_amount_pivot = data_amount_list.pivot_table(index='shopid', columns ='loyalty_program',\n",
    "                                                   values = 'amount').reset_index()\n",
    "data_amount_pivot.columns=['shopid', 'loyalty_0','loyalty_1']\n",
    "data_amount_pivot= data_amount_pivot.fillna(0)\n",
    "data_amount_pivot['fraction']= data_amount_pivot['loyalty_1'] / (data_amount_pivot['loyalty_1']+data_amount_pivot['loyalty_0'])\n",
    "display(data_amount_pivot)"
   ]
  },
  {
   "cell_type": "markdown",
   "metadata": {},
   "source": [
    "#### Вывод\n",
    "В Магазине №0  выручка клиентов программы лояльности составляет 38,8% от общей выручки. Поспешных выводов делать не будем, но похоже участники программы лояльности любят тратить деньги. "
   ]
  },
  {
   "cell_type": "markdown",
   "metadata": {},
   "source": [
    "##### <a id=\"step39\"> Шаг 3.9. Стандартное отклонение и дисперсия корзины для лояльных и нелояльных клиентов за весь период</a>"
   ]
  },
  {
   "cell_type": "code",
   "execution_count": 61,
   "metadata": {},
   "outputs": [
    {
     "name": "stdout",
     "output_type": "stream",
     "text": [
      "Дисперсия\n"
     ]
    },
    {
     "data": {
      "text/html": [
       "<div>\n",
       "<style scoped>\n",
       "    .dataframe tbody tr th:only-of-type {\n",
       "        vertical-align: middle;\n",
       "    }\n",
       "\n",
       "    .dataframe tbody tr th {\n",
       "        vertical-align: top;\n",
       "    }\n",
       "\n",
       "    .dataframe thead th {\n",
       "        text-align: right;\n",
       "    }\n",
       "</style>\n",
       "<table border=\"1\" class=\"dataframe\">\n",
       "  <thead>\n",
       "    <tr style=\"text-align: right;\">\n",
       "      <th></th>\n",
       "      <th>loyalty_program</th>\n",
       "      <th>amount</th>\n",
       "    </tr>\n",
       "  </thead>\n",
       "  <tbody>\n",
       "    <tr>\n",
       "      <th>0</th>\n",
       "      <td>0</td>\n",
       "      <td>7,203,818.09</td>\n",
       "    </tr>\n",
       "    <tr>\n",
       "      <th>1</th>\n",
       "      <td>1</td>\n",
       "      <td>1,932,506.42</td>\n",
       "    </tr>\n",
       "  </tbody>\n",
       "</table>\n",
       "</div>"
      ],
      "text/plain": [
       "   loyalty_program        amount\n",
       "0                0  7,203,818.09\n",
       "1                1  1,932,506.42"
      ]
     },
     "metadata": {},
     "output_type": "display_data"
    },
    {
     "name": "stdout",
     "output_type": "stream",
     "text": [
      "Стандартное отклонение\n"
     ]
    },
    {
     "data": {
      "text/html": [
       "<div>\n",
       "<style scoped>\n",
       "    .dataframe tbody tr th:only-of-type {\n",
       "        vertical-align: middle;\n",
       "    }\n",
       "\n",
       "    .dataframe tbody tr th {\n",
       "        vertical-align: top;\n",
       "    }\n",
       "\n",
       "    .dataframe thead th {\n",
       "        text-align: right;\n",
       "    }\n",
       "</style>\n",
       "<table border=\"1\" class=\"dataframe\">\n",
       "  <thead>\n",
       "    <tr style=\"text-align: right;\">\n",
       "      <th></th>\n",
       "      <th>loyalty_program</th>\n",
       "      <th>amount</th>\n",
       "    </tr>\n",
       "  </thead>\n",
       "  <tbody>\n",
       "    <tr>\n",
       "      <th>0</th>\n",
       "      <td>0</td>\n",
       "      <td>2683.992937</td>\n",
       "    </tr>\n",
       "    <tr>\n",
       "      <th>1</th>\n",
       "      <td>1</td>\n",
       "      <td>1390.146187</td>\n",
       "    </tr>\n",
       "  </tbody>\n",
       "</table>\n",
       "</div>"
      ],
      "text/plain": [
       "   loyalty_program       amount\n",
       "0                0  2683.992937\n",
       "1                1  1390.146187"
      ]
     },
     "metadata": {},
     "output_type": "display_data"
    },
    {
     "name": "stdout",
     "output_type": "stream",
     "text": [
      "Среднее значение\n"
     ]
    },
    {
     "data": {
      "text/html": [
       "<div>\n",
       "<style scoped>\n",
       "    .dataframe tbody tr th:only-of-type {\n",
       "        vertical-align: middle;\n",
       "    }\n",
       "\n",
       "    .dataframe tbody tr th {\n",
       "        vertical-align: top;\n",
       "    }\n",
       "\n",
       "    .dataframe thead th {\n",
       "        text-align: right;\n",
       "    }\n",
       "</style>\n",
       "<table border=\"1\" class=\"dataframe\">\n",
       "  <thead>\n",
       "    <tr style=\"text-align: right;\">\n",
       "      <th></th>\n",
       "      <th>loyalty_program</th>\n",
       "      <th>amount</th>\n",
       "    </tr>\n",
       "  </thead>\n",
       "  <tbody>\n",
       "    <tr>\n",
       "      <th>0</th>\n",
       "      <td>0</td>\n",
       "      <td>306.984241</td>\n",
       "    </tr>\n",
       "    <tr>\n",
       "      <th>1</th>\n",
       "      <td>1</td>\n",
       "      <td>457.408032</td>\n",
       "    </tr>\n",
       "  </tbody>\n",
       "</table>\n",
       "</div>"
      ],
      "text/plain": [
       "   loyalty_program      amount\n",
       "0                0  306.984241\n",
       "1                1  457.408032"
      ]
     },
     "metadata": {},
     "output_type": "display_data"
    },
    {
     "name": "stdout",
     "output_type": "stream",
     "text": [
      "Значение медианы\n"
     ]
    },
    {
     "data": {
      "text/html": [
       "<div>\n",
       "<style scoped>\n",
       "    .dataframe tbody tr th:only-of-type {\n",
       "        vertical-align: middle;\n",
       "    }\n",
       "\n",
       "    .dataframe tbody tr th {\n",
       "        vertical-align: top;\n",
       "    }\n",
       "\n",
       "    .dataframe thead th {\n",
       "        text-align: right;\n",
       "    }\n",
       "</style>\n",
       "<table border=\"1\" class=\"dataframe\">\n",
       "  <thead>\n",
       "    <tr style=\"text-align: right;\">\n",
       "      <th></th>\n",
       "      <th>loyalty_program</th>\n",
       "      <th>amount</th>\n",
       "    </tr>\n",
       "  </thead>\n",
       "  <tbody>\n",
       "    <tr>\n",
       "      <th>0</th>\n",
       "      <td>0</td>\n",
       "      <td>176.087500</td>\n",
       "    </tr>\n",
       "    <tr>\n",
       "      <th>1</th>\n",
       "      <td>1</td>\n",
       "      <td>222.455167</td>\n",
       "    </tr>\n",
       "  </tbody>\n",
       "</table>\n",
       "</div>"
      ],
      "text/plain": [
       "   loyalty_program      amount\n",
       "0                0  176.087500\n",
       "1                1  222.455167"
      ]
     },
     "metadata": {},
     "output_type": "display_data"
    }
   ],
   "source": [
    "shop = 'Shop 0'\n",
    "shop_0 = data.query(\"shopid == @shop\")\n",
    "purchase_shop_0 = shop_0.groupby(['purchaseid','loyalty_program']).agg({'amount':'sum'}).reset_index()\n",
    "shop_0_var = purchase_shop_0.groupby(['loyalty_program'])['amount'].agg('var', ddof=1).reset_index()\n",
    "shop_0_var['amount'] = shop_0_var['amount'].map('{:,.2f}'.format)\n",
    "print('Дисперсия')\n",
    "display(shop_0_var)\n",
    "\n",
    "shop_0_std = purchase_shop_0.groupby(['loyalty_program'])['amount'].agg('std', ddof=1).reset_index()\n",
    "print('Стандартное отклонение')\n",
    "display(shop_0_std)\n",
    "\n",
    "shop_0_mean = purchase_shop_0.groupby(['loyalty_program'])['amount'].agg('mean').reset_index()\n",
    "print('Среднее значение')\n",
    "display(shop_0_mean)\n",
    "\n",
    "shop_0_median = purchase_shop_0.groupby(['loyalty_program'])['amount'].agg('median').reset_index()\n",
    "print('Значение медианы')\n",
    "display(shop_0_median)"
   ]
  },
  {
   "cell_type": "code",
   "execution_count": 62,
   "metadata": {},
   "outputs": [
    {
     "data": {
      "image/png": "[encoded data removed]",
      "text/plain": [
       "<Figure size 1080x360 with 2 Axes>"
      ]
     },
     "metadata": {
      "needs_background": "light"
     },
     "output_type": "display_data"
    }
   ],
   "source": [
    "fig, ax = plt.subplots(nrows=1, ncols=2, figsize = (15,5))\n",
    "fig.subplots_adjust(wspace=0.5, hspace = 0.5)\n",
    "ax[0].hist(purchase_shop_0.loc[purchase_shop_0['loyalty_program'] == 0, 'amount'], bins=300)\n",
    "ax[0].set_title('Не участник программы лояльности')\n",
    "ax[1].hist(purchase_shop_0.loc[purchase_shop_0['loyalty_program'] == 1, 'amount'], bins=300)\n",
    "ax[1].set_title('Участник программы лояльности')\n",
    "plt.show()\n"
   ]
  },
  {
   "cell_type": "markdown",
   "metadata": {},
   "source": [
    "#### Вывод\n",
    "Видим, что наш датасет по двум тарифам скошен вправо(имеет положительную скошенность). \n",
    "\n",
    "Это подтверждает и значения медианы и среднего(медиана < среднего)"
   ]
  },
  {
   "cell_type": "markdown",
   "metadata": {},
   "source": [
    "## <a id=\"step4\"> Шаг 4. Проверка гипотез</a>"
   ]
  },
  {
   "cell_type": "code",
   "execution_count": 63,
   "metadata": {},
   "outputs": [],
   "source": [
    "# Сгруппируем и получим количество товаров в корзине\n",
    "data_quantity=data.groupby(['shopid','purchaseid','loyalty_program']).agg({'quantity':'sum'}).reset_index()\n",
    "shop_0 = 'Shop 0'\n",
    "data_quantity_shop_0 = data_quantity.query(\"shopid in @shop_0\")"
   ]
  },
  {
   "cell_type": "code",
   "execution_count": 64,
   "metadata": {},
   "outputs": [],
   "source": [
    "# Сгруппируем и получим выручку пользователей\n",
    "data_amount=data.groupby(['shopid','customerid','loyalty_program']).agg({'amount':'sum'}).reset_index()\n",
    "data_amount_shop_0 = data_amount.query(\"shopid in @shop_0\")"
   ]
  },
  {
   "cell_type": "markdown",
   "metadata": {},
   "source": [
    "##### Отдельно создадим датафрейс с учетом подписки на программу лояльности"
   ]
  },
  {
   "cell_type": "code",
   "execution_count": 65,
   "metadata": {},
   "outputs": [],
   "source": [
    "# Сгруппируем по магазинам, программе лояльности, клиентам и месяцам \n",
    "data_amount_month = data.groupby(['shopid','customerid','loyalty_program','purchase_month']).agg({'amount':'sum'}).reset_index()\n",
    "data_amount_month_shop_0 = data_amount_month.query(\"shopid in @shop_0\")"
   ]
  },
  {
   "cell_type": "code",
   "execution_count": 66,
   "metadata": {},
   "outputs": [],
   "source": [
    "# Функция, которая прибавляет 200р за подписку\n",
    "def loyalty_payment(amount):\n",
    "    return amount + 200"
   ]
  },
  {
   "cell_type": "code",
   "execution_count": 67,
   "metadata": {},
   "outputs": [],
   "source": [
    "# К пользователям с программы лояльности применим функцию (они платят по месяцам)\n",
    "data_amount_month_shop_0.loc[data_amount_month_shop_0['loyalty_program'] == 1,'amount'] = (\n",
    "    data_amount_month_shop_0.loc[data_amount_month_shop_0['loyalty_program'] == 1,'amount']\n",
    "    .apply(loyalty_payment))"
   ]
  },
  {
   "cell_type": "code",
   "execution_count": 68,
   "metadata": {},
   "outputs": [],
   "source": [
    "# Найдем выручку для каждого клиента за весь период \n",
    "data_amount_loyalty_shop_0 = (data_amount_month_shop_0.groupby(['customerid','loyalty_program'])\n",
    "                              .agg({'amount':'sum'}).reset_index())"
   ]
  },
  {
   "cell_type": "code",
   "execution_count": 69,
   "metadata": {},
   "outputs": [],
   "source": [
    "# Функция для проверки гипотез\n",
    "def check_hypothesis(df1,df2):\n",
    "    results = st.ttest_ind(df1,df2)\n",
    "\n",
    "    alpha = .05 # критический уровень статистической значимости\n",
    "    print('p-значение: {:,.7f}'.format(results.pvalue))\n",
    "    if (results.pvalue < alpha):\n",
    "        print(\"Отвергаем нулевую гипотезу\")\n",
    "    else:\n",
    "        print(\"Не получилось отвергнуть нулевую гипотезу\")"
   ]
  },
  {
   "cell_type": "markdown",
   "metadata": {},
   "source": [
    "##### <a id=\"step41\"> Гипотеза 1. Среднее количество товаров в корзине у участников программы лояльности и \"рядовых\" клиентов отличается</a>"
   ]
  },
  {
   "cell_type": "markdown",
   "metadata": {},
   "source": [
    "Переформулируем гипотезу: Среднее число товаров в корзине у генеральной совокупности по клиентам программы лояльности равно среднему числу товаров генеральной совокупности покупателей, которые в программе лояльности не участвуют"
   ]
  },
  {
   "cell_type": "code",
   "execution_count": 70,
   "metadata": {},
   "outputs": [
    {
     "name": "stdout",
     "output_type": "stream",
     "text": [
      "p-значение: 0.6332693\n",
      "Не получилось отвергнуть нулевую гипотезу\n"
     ]
    }
   ],
   "source": [
    "#проверим гипотезу о равенстве среднего двух генеральных совокупностей по взятым из них выборкам\n",
    "check_hypothesis(data_quantity_shop_0.loc[data_quantity_shop_0['loyalty_program'] == 0, 'quantity'],\n",
    "                data_quantity_shop_0.loc[data_quantity_shop_0['loyalty_program'] == 1, 'quantity'])"
   ]
  },
  {
   "cell_type": "markdown",
   "metadata": {},
   "source": [
    "##### <a id=\"step42\"> Гипотеза 2. Средняя выручка участника программы лояльности и пользователя, который не входит в программу лояльности различаются</a>"
   ]
  },
  {
   "cell_type": "markdown",
   "metadata": {},
   "source": [
    "Переформулируем гипотезу: Средняя выручка генеральной совокупности клиентов программы лояльности равна средней выручке генеральной совокупности покупателей, которые в программе лояльности не участвуют"
   ]
  },
  {
   "cell_type": "code",
   "execution_count": 71,
   "metadata": {},
   "outputs": [
    {
     "name": "stdout",
     "output_type": "stream",
     "text": [
      "p-значение: 0.0015940\n",
      "Отвергаем нулевую гипотезу\n"
     ]
    }
   ],
   "source": [
    "check_hypothesis(data_amount_shop_0.loc[data_amount_shop_0['loyalty_program'] == 0, 'amount'], \n",
    "    data_amount_shop_0.loc[data_amount_shop_0['loyalty_program'] == 1, 'amount'])\n"
   ]
  },
  {
   "cell_type": "markdown",
   "metadata": {},
   "source": [
    "Проверим на данных с учетом подписки на программу лояльности"
   ]
  },
  {
   "cell_type": "code",
   "execution_count": 72,
   "metadata": {},
   "outputs": [
    {
     "name": "stdout",
     "output_type": "stream",
     "text": [
      "p-значение: 0.0000006\n",
      "Отвергаем нулевую гипотезу\n"
     ]
    }
   ],
   "source": [
    "check_hypothesis(data_amount_loyalty_shop_0.loc[data_amount_loyalty_shop_0['loyalty_program'] == 0, 'amount'], \n",
    "    data_amount_loyalty_shop_0.loc[data_amount_loyalty_shop_0['loyalty_program'] == 1, 'amount'])"
   ]
  },
  {
   "cell_type": "markdown",
   "metadata": {},
   "source": [
    "#### Вывод\n",
    "При проверки гипотезы №1 мы получили значение p-value = 0.63. Это слишком большая вероятность, чтобы делать вывод о различии корзин пользователей программы лояльности и \"рядовых\" пользователей.\n",
    "\n",
    "Но при проверки гипотезы №2 мы с точностью можем сказать, что выручка участника программы лояльности и пользователя, который не входит в программу лояльности различается. \n"
   ]
  },
  {
   "cell_type": "markdown",
   "metadata": {},
   "source": [
    "## <a id=\"step5\"> Шаг 5. Общий вывод</a>"
   ]
  },
  {
   "cell_type": "markdown",
   "metadata": {},
   "source": [
    "В данной работе мы получили датасет с данными о покупках в магазине строительных материалов «Строили, строили и наконец построили». \n",
    "\n",
    "Наша задача была: проанализировать систему лояльности. \n",
    "\n",
    "Первыми шагами было обработка пропусков, приведения к нуному типу данных и удаление дубликатов. \n",
    "\n",
    "Исследовательский анализ данных показал нам, что клиенты программы лояльности имеются только в четырех магазинах. Соответственно почти вся работа была сконцентрирована на них. Правда, сразу же был обнаружен дисбаланс в данных по этим магазинам. Основным магазином для исследования был выбран Shop 0.\n",
    "\n",
    "Отрицательные значения в поле `Quantity`(количество товаров) мы приняли за возврат товара, что в последующем учли при определении выручки за месяц.\n",
    "\n",
    "Мы выяснили, что из доля участников программы лояльности в магазине №0 составляет - 25,3% к общему числу пользователей. При этом их корзина имеет большее количество товаров, а также данные пользователи приносят нам больше денег. \n",
    "\n",
    "Мы выдвинули 2 гипотезы: \n",
    "- Гипотеза 1. Среднее количество товаров в корзине у участников программы лояльности и \"рядовых\" клиентов отличается \n",
    "- Гипотеза 2. Средняя выручка участника программы лояльности и пользователя, который не входит в программу лояльности различаются.\n",
    "\n",
    "На базе этих гипотез были сформированы нулевые гипотезы. В результате нельзя сказать, что наполняемость корзины как-то зависит от программы лояльности, но мы можем сказать, что выручка у лояльных и нелояльных клиентов различается. \n",
    "\n"
   ]
  }
 ],
 "metadata": {
  "kernelspec": {
   "display_name": "Python 3",
   "language": "python",
   "name": "python3"
  },
  "language_info": {
   "codemirror_mode": {
    "name": "ipython",
    "version": 3
   },
   "file_extension": ".py",
   "mimetype": "text/x-python",
   "name": "python",
   "nbconvert_exporter": "python",
   "pygments_lexer": "ipython3",
   "version": "3.7.7"
  }
 },
 "nbformat": 4,
 "nbformat_minor": 2
}
