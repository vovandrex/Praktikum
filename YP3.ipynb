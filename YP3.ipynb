{
 "cells": [
  {
   "cell_type": "markdown",
   "metadata": {},
   "source": [
    "# Определение перспективного тарифа для телеком компании\n",
    "\n",
    "Мы аналитики компании «Мегалайн» — федерального оператора сотовой связи. Клиентам предлагают два тарифных плана: «Смарт» и «Ультра». Чтобы скорректировать рекламный бюджет, коммерческий департамент хочет понять, какой тариф приносит больше денег.\n",
    "Нам предстоит сделать предварительный анализ тарифов на небольшой выборке клиентов. В нашем распоряжении данные 500 пользователей «Мегалайна»: кто они, откуда, каким тарифом пользуются, сколько звонков и сообщений каждый отправил за 2018 год. Нужно проанализировать поведение клиентов и сделать вывод — какой тариф лучше."
   ]
  },
  {
   "cell_type": "markdown",
   "metadata": {},
   "source": [
    "# План выполнения работ\n",
    "### [Шаг 1. Откройте файл с данными и изучите общую информацию. ](#step1)\n",
    "### [Шаг 2. Подготовка данных](#step2)\n",
    "### [Шаг 3. Проанализируйте данные](#step3)\n",
    "### [Шаг 4. Проверка гипотез](#step4)\n",
    "\n"
   ]
  },
  {
   "cell_type": "markdown",
   "metadata": {},
   "source": [
    "## <a id=\"step1\">Шаг 1. Откройте файл с данными и изучите общую информацию </a>"
   ]
  },
  {
   "cell_type": "markdown",
   "metadata": {},
   "source": [
    "### Импортируем библиотеки"
   ]
  },
  {
   "cell_type": "code",
   "execution_count": 1,
   "metadata": {},
   "outputs": [],
   "source": [
    "import pandas as pd\n",
    "import matplotlib.pyplot as plt\n",
    "import numpy as np\n",
    "import warnings \n",
    "import seaborn as sns\n",
    "from scipy import stats as st\n",
    "warnings.simplefilter(\"ignore\")\n",
    "pd.set_option('display.max_columns', 500)"
   ]
  },
  {
   "cell_type": "markdown",
   "metadata": {},
   "source": [
    "### Посмотрим на файлы"
   ]
  },
  {
   "cell_type": "markdown",
   "metadata": {},
   "source": [
    "#### Прочитаем методом read_csv файлы"
   ]
  },
  {
   "cell_type": "code",
   "execution_count": 2,
   "metadata": {
    "scrolled": true
   },
   "outputs": [],
   "source": [
    "calls_data = pd.read_csv('/Users/vladimrogulo/PycharmProjects/Praktikum3/calls.csv')\n",
    "internet_data = pd.read_csv('/Users/vladimrogulo/PycharmProjects/Praktikum3/internet.csv')\n",
    "messages_data = pd.read_csv('/Users/vladimrogulo/PycharmProjects/Praktikum3/messages.csv')\n",
    "tariffs_data = pd.read_csv('/Users/vladimrogulo/PycharmProjects/Praktikum3/tariffs.csv')\n",
    "users_data = pd.read_csv('/Users/vladimrogulo/PycharmProjects/Praktikum3/users.csv')\n",
    "#calls_data = pd.read_csv('/datasets/calls.csv')\n",
    "#internet_data = pd.read_csv('/datasets/internet.csv')\n",
    "#messages_data = pd.read_csv('/datasets/messages.csv')\n",
    "#tariffs_data = pd.read_csv('/datasets//datasets/tariffs.csv')\n",
    "#users_data = pd.read_csv('/datasets/users.csv')"
   ]
  },
  {
   "cell_type": "markdown",
   "metadata": {},
   "source": [
    "#####  Рассмотрим файл calls"
   ]
  },
  {
   "cell_type": "code",
   "execution_count": 3,
   "metadata": {},
   "outputs": [
    {
     "name": "stdout",
     "output_type": "stream",
     "text": [
      "\n",
      "Рассмотрим общую информацию\n",
      "<class 'pandas.core.frame.DataFrame'>\n",
      "RangeIndex: 202607 entries, 0 to 202606\n",
      "Data columns (total 4 columns):\n",
      " #   Column     Non-Null Count   Dtype  \n",
      "---  ------     --------------   -----  \n",
      " 0   id         202607 non-null  object \n",
      " 1   call_date  202607 non-null  object \n",
      " 2   duration   202607 non-null  float64\n",
      " 3   user_id    202607 non-null  int64  \n",
      "dtypes: float64(1), int64(1), object(2)\n",
      "memory usage: 6.2+ MB\n",
      "\n",
      "Рассмотрим первые 5 строк\n"
     ]
    },
    {
     "data": {
      "text/html": [
       "<div>\n",
       "<style scoped>\n",
       "    .dataframe tbody tr th:only-of-type {\n",
       "        vertical-align: middle;\n",
       "    }\n",
       "\n",
       "    .dataframe tbody tr th {\n",
       "        vertical-align: top;\n",
       "    }\n",
       "\n",
       "    .dataframe thead th {\n",
       "        text-align: right;\n",
       "    }\n",
       "</style>\n",
       "<table border=\"1\" class=\"dataframe\">\n",
       "  <thead>\n",
       "    <tr style=\"text-align: right;\">\n",
       "      <th></th>\n",
       "      <th>id</th>\n",
       "      <th>call_date</th>\n",
       "      <th>duration</th>\n",
       "      <th>user_id</th>\n",
       "    </tr>\n",
       "  </thead>\n",
       "  <tbody>\n",
       "    <tr>\n",
       "      <th>0</th>\n",
       "      <td>1000_0</td>\n",
       "      <td>2018-07-25</td>\n",
       "      <td>0.00</td>\n",
       "      <td>1000</td>\n",
       "    </tr>\n",
       "    <tr>\n",
       "      <th>1</th>\n",
       "      <td>1000_1</td>\n",
       "      <td>2018-08-17</td>\n",
       "      <td>0.00</td>\n",
       "      <td>1000</td>\n",
       "    </tr>\n",
       "    <tr>\n",
       "      <th>2</th>\n",
       "      <td>1000_2</td>\n",
       "      <td>2018-06-11</td>\n",
       "      <td>2.85</td>\n",
       "      <td>1000</td>\n",
       "    </tr>\n",
       "    <tr>\n",
       "      <th>3</th>\n",
       "      <td>1000_3</td>\n",
       "      <td>2018-09-21</td>\n",
       "      <td>13.80</td>\n",
       "      <td>1000</td>\n",
       "    </tr>\n",
       "    <tr>\n",
       "      <th>4</th>\n",
       "      <td>1000_4</td>\n",
       "      <td>2018-12-15</td>\n",
       "      <td>5.18</td>\n",
       "      <td>1000</td>\n",
       "    </tr>\n",
       "  </tbody>\n",
       "</table>\n",
       "</div>"
      ],
      "text/plain": [
       "       id   call_date  duration  user_id\n",
       "0  1000_0  2018-07-25      0.00     1000\n",
       "1  1000_1  2018-08-17      0.00     1000\n",
       "2  1000_2  2018-06-11      2.85     1000\n",
       "3  1000_3  2018-09-21     13.80     1000\n",
       "4  1000_4  2018-12-15      5.18     1000"
      ]
     },
     "metadata": {},
     "output_type": "display_data"
    },
    {
     "name": "stdout",
     "output_type": "stream",
     "text": [
      "\n",
      "Рассмотрим описательную статистику нашего DataFrame\n"
     ]
    },
    {
     "data": {
      "text/html": [
       "<div>\n",
       "<style scoped>\n",
       "    .dataframe tbody tr th:only-of-type {\n",
       "        vertical-align: middle;\n",
       "    }\n",
       "\n",
       "    .dataframe tbody tr th {\n",
       "        vertical-align: top;\n",
       "    }\n",
       "\n",
       "    .dataframe thead th {\n",
       "        text-align: right;\n",
       "    }\n",
       "</style>\n",
       "<table border=\"1\" class=\"dataframe\">\n",
       "  <thead>\n",
       "    <tr style=\"text-align: right;\">\n",
       "      <th></th>\n",
       "      <th>duration</th>\n",
       "      <th>user_id</th>\n",
       "    </tr>\n",
       "  </thead>\n",
       "  <tbody>\n",
       "    <tr>\n",
       "      <th>count</th>\n",
       "      <td>202607.000000</td>\n",
       "      <td>202607.000000</td>\n",
       "    </tr>\n",
       "    <tr>\n",
       "      <th>mean</th>\n",
       "      <td>6.755887</td>\n",
       "      <td>1253.940619</td>\n",
       "    </tr>\n",
       "    <tr>\n",
       "      <th>std</th>\n",
       "      <td>5.843365</td>\n",
       "      <td>144.722751</td>\n",
       "    </tr>\n",
       "    <tr>\n",
       "      <th>min</th>\n",
       "      <td>0.000000</td>\n",
       "      <td>1000.000000</td>\n",
       "    </tr>\n",
       "    <tr>\n",
       "      <th>25%</th>\n",
       "      <td>1.300000</td>\n",
       "      <td>1126.000000</td>\n",
       "    </tr>\n",
       "    <tr>\n",
       "      <th>50%</th>\n",
       "      <td>6.000000</td>\n",
       "      <td>1260.000000</td>\n",
       "    </tr>\n",
       "    <tr>\n",
       "      <th>75%</th>\n",
       "      <td>10.700000</td>\n",
       "      <td>1379.000000</td>\n",
       "    </tr>\n",
       "    <tr>\n",
       "      <th>max</th>\n",
       "      <td>38.000000</td>\n",
       "      <td>1499.000000</td>\n",
       "    </tr>\n",
       "  </tbody>\n",
       "</table>\n",
       "</div>"
      ],
      "text/plain": [
       "            duration        user_id\n",
       "count  202607.000000  202607.000000\n",
       "mean        6.755887    1253.940619\n",
       "std         5.843365     144.722751\n",
       "min         0.000000    1000.000000\n",
       "25%         1.300000    1126.000000\n",
       "50%         6.000000    1260.000000\n",
       "75%        10.700000    1379.000000\n",
       "max        38.000000    1499.000000"
      ]
     },
     "execution_count": 3,
     "metadata": {},
     "output_type": "execute_result"
    }
   ],
   "source": [
    "print('\\nРассмотрим общую информацию')\n",
    "calls_data.info()\n",
    "print('\\nРассмотрим первые 5 строк')\n",
    "display(calls_data.head())\n",
    "print('\\nРассмотрим описательную статистику нашего DataFrame')\n",
    "calls_data.describe()"
   ]
  },
  {
   "cell_type": "markdown",
   "metadata": {},
   "source": [
    "##### Описание полей calls\n",
    "Таблица `calls` (информация о звонках):\n",
    "\n",
    "`id` — уникальный номер звонка\n",
    "\n",
    "`call_date` — дата звонка\n",
    "\n",
    "`duration` — длительность звонка в минутах\n",
    "\n",
    "`user_id`  — идентификатор пользователя, сделавшего звонок"
   ]
  },
  {
   "cell_type": "markdown",
   "metadata": {},
   "source": [
    "#####  Рассмотрим файл internet"
   ]
  },
  {
   "cell_type": "code",
   "execution_count": 4,
   "metadata": {
    "scrolled": true
   },
   "outputs": [
    {
     "name": "stdout",
     "output_type": "stream",
     "text": [
      "\n",
      "Рассмотрим общую информацию\n",
      "<class 'pandas.core.frame.DataFrame'>\n",
      "RangeIndex: 149396 entries, 0 to 149395\n",
      "Data columns (total 5 columns):\n",
      " #   Column        Non-Null Count   Dtype  \n",
      "---  ------        --------------   -----  \n",
      " 0   Unnamed: 0    149396 non-null  int64  \n",
      " 1   id            149396 non-null  object \n",
      " 2   mb_used       149396 non-null  float64\n",
      " 3   session_date  149396 non-null  object \n",
      " 4   user_id       149396 non-null  int64  \n",
      "dtypes: float64(1), int64(2), object(2)\n",
      "memory usage: 5.7+ MB\n",
      "\n",
      "Рассмотрим первые 5 строк\n"
     ]
    },
    {
     "data": {
      "text/html": [
       "<div>\n",
       "<style scoped>\n",
       "    .dataframe tbody tr th:only-of-type {\n",
       "        vertical-align: middle;\n",
       "    }\n",
       "\n",
       "    .dataframe tbody tr th {\n",
       "        vertical-align: top;\n",
       "    }\n",
       "\n",
       "    .dataframe thead th {\n",
       "        text-align: right;\n",
       "    }\n",
       "</style>\n",
       "<table border=\"1\" class=\"dataframe\">\n",
       "  <thead>\n",
       "    <tr style=\"text-align: right;\">\n",
       "      <th></th>\n",
       "      <th>Unnamed: 0</th>\n",
       "      <th>id</th>\n",
       "      <th>mb_used</th>\n",
       "      <th>session_date</th>\n",
       "      <th>user_id</th>\n",
       "    </tr>\n",
       "  </thead>\n",
       "  <tbody>\n",
       "    <tr>\n",
       "      <th>0</th>\n",
       "      <td>0</td>\n",
       "      <td>1000_0</td>\n",
       "      <td>112.95</td>\n",
       "      <td>2018-11-25</td>\n",
       "      <td>1000</td>\n",
       "    </tr>\n",
       "    <tr>\n",
       "      <th>1</th>\n",
       "      <td>1</td>\n",
       "      <td>1000_1</td>\n",
       "      <td>1052.81</td>\n",
       "      <td>2018-09-07</td>\n",
       "      <td>1000</td>\n",
       "    </tr>\n",
       "    <tr>\n",
       "      <th>2</th>\n",
       "      <td>2</td>\n",
       "      <td>1000_2</td>\n",
       "      <td>1197.26</td>\n",
       "      <td>2018-06-25</td>\n",
       "      <td>1000</td>\n",
       "    </tr>\n",
       "    <tr>\n",
       "      <th>3</th>\n",
       "      <td>3</td>\n",
       "      <td>1000_3</td>\n",
       "      <td>550.27</td>\n",
       "      <td>2018-08-22</td>\n",
       "      <td>1000</td>\n",
       "    </tr>\n",
       "    <tr>\n",
       "      <th>4</th>\n",
       "      <td>4</td>\n",
       "      <td>1000_4</td>\n",
       "      <td>302.56</td>\n",
       "      <td>2018-09-24</td>\n",
       "      <td>1000</td>\n",
       "    </tr>\n",
       "  </tbody>\n",
       "</table>\n",
       "</div>"
      ],
      "text/plain": [
       "   Unnamed: 0      id  mb_used session_date  user_id\n",
       "0           0  1000_0   112.95   2018-11-25     1000\n",
       "1           1  1000_1  1052.81   2018-09-07     1000\n",
       "2           2  1000_2  1197.26   2018-06-25     1000\n",
       "3           3  1000_3   550.27   2018-08-22     1000\n",
       "4           4  1000_4   302.56   2018-09-24     1000"
      ]
     },
     "metadata": {},
     "output_type": "display_data"
    },
    {
     "name": "stdout",
     "output_type": "stream",
     "text": [
      "\n",
      "Рассмотрим описательную статистику нашего DataFrame\n"
     ]
    },
    {
     "data": {
      "text/html": [
       "<div>\n",
       "<style scoped>\n",
       "    .dataframe tbody tr th:only-of-type {\n",
       "        vertical-align: middle;\n",
       "    }\n",
       "\n",
       "    .dataframe tbody tr th {\n",
       "        vertical-align: top;\n",
       "    }\n",
       "\n",
       "    .dataframe thead th {\n",
       "        text-align: right;\n",
       "    }\n",
       "</style>\n",
       "<table border=\"1\" class=\"dataframe\">\n",
       "  <thead>\n",
       "    <tr style=\"text-align: right;\">\n",
       "      <th></th>\n",
       "      <th>Unnamed: 0</th>\n",
       "      <th>mb_used</th>\n",
       "      <th>user_id</th>\n",
       "    </tr>\n",
       "  </thead>\n",
       "  <tbody>\n",
       "    <tr>\n",
       "      <th>count</th>\n",
       "      <td>149396.000000</td>\n",
       "      <td>149396.000000</td>\n",
       "      <td>149396.000000</td>\n",
       "    </tr>\n",
       "    <tr>\n",
       "      <th>mean</th>\n",
       "      <td>74697.500000</td>\n",
       "      <td>370.192426</td>\n",
       "      <td>1252.099842</td>\n",
       "    </tr>\n",
       "    <tr>\n",
       "      <th>std</th>\n",
       "      <td>43127.054745</td>\n",
       "      <td>278.300951</td>\n",
       "      <td>144.050823</td>\n",
       "    </tr>\n",
       "    <tr>\n",
       "      <th>min</th>\n",
       "      <td>0.000000</td>\n",
       "      <td>0.000000</td>\n",
       "      <td>1000.000000</td>\n",
       "    </tr>\n",
       "    <tr>\n",
       "      <th>25%</th>\n",
       "      <td>37348.750000</td>\n",
       "      <td>138.187500</td>\n",
       "      <td>1130.000000</td>\n",
       "    </tr>\n",
       "    <tr>\n",
       "      <th>50%</th>\n",
       "      <td>74697.500000</td>\n",
       "      <td>348.015000</td>\n",
       "      <td>1251.000000</td>\n",
       "    </tr>\n",
       "    <tr>\n",
       "      <th>75%</th>\n",
       "      <td>112046.250000</td>\n",
       "      <td>559.552500</td>\n",
       "      <td>1380.000000</td>\n",
       "    </tr>\n",
       "    <tr>\n",
       "      <th>max</th>\n",
       "      <td>149395.000000</td>\n",
       "      <td>1724.830000</td>\n",
       "      <td>1499.000000</td>\n",
       "    </tr>\n",
       "  </tbody>\n",
       "</table>\n",
       "</div>"
      ],
      "text/plain": [
       "          Unnamed: 0        mb_used        user_id\n",
       "count  149396.000000  149396.000000  149396.000000\n",
       "mean    74697.500000     370.192426    1252.099842\n",
       "std     43127.054745     278.300951     144.050823\n",
       "min         0.000000       0.000000    1000.000000\n",
       "25%     37348.750000     138.187500    1130.000000\n",
       "50%     74697.500000     348.015000    1251.000000\n",
       "75%    112046.250000     559.552500    1380.000000\n",
       "max    149395.000000    1724.830000    1499.000000"
      ]
     },
     "execution_count": 4,
     "metadata": {},
     "output_type": "execute_result"
    }
   ],
   "source": [
    "print('\\nРассмотрим общую информацию')\n",
    "internet_data.info()\n",
    "print('\\nРассмотрим первые 5 строк')\n",
    "display(internet_data.head())\n",
    "print('\\nРассмотрим описательную статистику нашего DataFrame')\n",
    "internet_data.describe()"
   ]
  },
  {
   "cell_type": "markdown",
   "metadata": {},
   "source": [
    "##### Описание полей internet\n",
    "Таблица `internet` (информация об интернет-сессиях):\n",
    "\n",
    "`id` — уникальный номер сессии\n",
    "\n",
    "`mb_used` — объём потраченного за сессию интернет-трафика (в мегабайтах)\n",
    "\n",
    "`session_date` — дата интернет-сессии\n",
    "\n",
    "`user_id` — идентификатор пользователя\n",
    "\n",
    "\n",
    "\n",
    "Видим столбец `Unnamed: 0`, который дублирует индексы. Обрабатывать его не будем, так как в последующей группировке он не будет использоваться\t"
   ]
  },
  {
   "cell_type": "markdown",
   "metadata": {},
   "source": [
    "#####  Рассмотрим файл messages"
   ]
  },
  {
   "cell_type": "code",
   "execution_count": 5,
   "metadata": {},
   "outputs": [
    {
     "name": "stdout",
     "output_type": "stream",
     "text": [
      "\n",
      "Рассмотрим общую информацию\n",
      "<class 'pandas.core.frame.DataFrame'>\n",
      "RangeIndex: 123036 entries, 0 to 123035\n",
      "Data columns (total 3 columns):\n",
      " #   Column        Non-Null Count   Dtype \n",
      "---  ------        --------------   ----- \n",
      " 0   id            123036 non-null  object\n",
      " 1   message_date  123036 non-null  object\n",
      " 2   user_id       123036 non-null  int64 \n",
      "dtypes: int64(1), object(2)\n",
      "memory usage: 2.8+ MB\n",
      "\n",
      "Рассмотрим первые 5 строк\n"
     ]
    },
    {
     "data": {
      "text/html": [
       "<div>\n",
       "<style scoped>\n",
       "    .dataframe tbody tr th:only-of-type {\n",
       "        vertical-align: middle;\n",
       "    }\n",
       "\n",
       "    .dataframe tbody tr th {\n",
       "        vertical-align: top;\n",
       "    }\n",
       "\n",
       "    .dataframe thead th {\n",
       "        text-align: right;\n",
       "    }\n",
       "</style>\n",
       "<table border=\"1\" class=\"dataframe\">\n",
       "  <thead>\n",
       "    <tr style=\"text-align: right;\">\n",
       "      <th></th>\n",
       "      <th>id</th>\n",
       "      <th>message_date</th>\n",
       "      <th>user_id</th>\n",
       "    </tr>\n",
       "  </thead>\n",
       "  <tbody>\n",
       "    <tr>\n",
       "      <th>0</th>\n",
       "      <td>1000_0</td>\n",
       "      <td>2018-06-27</td>\n",
       "      <td>1000</td>\n",
       "    </tr>\n",
       "    <tr>\n",
       "      <th>1</th>\n",
       "      <td>1000_1</td>\n",
       "      <td>2018-10-08</td>\n",
       "      <td>1000</td>\n",
       "    </tr>\n",
       "    <tr>\n",
       "      <th>2</th>\n",
       "      <td>1000_2</td>\n",
       "      <td>2018-08-04</td>\n",
       "      <td>1000</td>\n",
       "    </tr>\n",
       "    <tr>\n",
       "      <th>3</th>\n",
       "      <td>1000_3</td>\n",
       "      <td>2018-06-16</td>\n",
       "      <td>1000</td>\n",
       "    </tr>\n",
       "    <tr>\n",
       "      <th>4</th>\n",
       "      <td>1000_4</td>\n",
       "      <td>2018-12-05</td>\n",
       "      <td>1000</td>\n",
       "    </tr>\n",
       "  </tbody>\n",
       "</table>\n",
       "</div>"
      ],
      "text/plain": [
       "       id message_date  user_id\n",
       "0  1000_0   2018-06-27     1000\n",
       "1  1000_1   2018-10-08     1000\n",
       "2  1000_2   2018-08-04     1000\n",
       "3  1000_3   2018-06-16     1000\n",
       "4  1000_4   2018-12-05     1000"
      ]
     },
     "metadata": {},
     "output_type": "display_data"
    },
    {
     "name": "stdout",
     "output_type": "stream",
     "text": [
      "\n",
      "Рассмотрим описательную статистику нашего DataFrame\n"
     ]
    },
    {
     "data": {
      "text/html": [
       "<div>\n",
       "<style scoped>\n",
       "    .dataframe tbody tr th:only-of-type {\n",
       "        vertical-align: middle;\n",
       "    }\n",
       "\n",
       "    .dataframe tbody tr th {\n",
       "        vertical-align: top;\n",
       "    }\n",
       "\n",
       "    .dataframe thead th {\n",
       "        text-align: right;\n",
       "    }\n",
       "</style>\n",
       "<table border=\"1\" class=\"dataframe\">\n",
       "  <thead>\n",
       "    <tr style=\"text-align: right;\">\n",
       "      <th></th>\n",
       "      <th>user_id</th>\n",
       "    </tr>\n",
       "  </thead>\n",
       "  <tbody>\n",
       "    <tr>\n",
       "      <th>count</th>\n",
       "      <td>123036.000000</td>\n",
       "    </tr>\n",
       "    <tr>\n",
       "      <th>mean</th>\n",
       "      <td>1256.989410</td>\n",
       "    </tr>\n",
       "    <tr>\n",
       "      <th>std</th>\n",
       "      <td>143.523967</td>\n",
       "    </tr>\n",
       "    <tr>\n",
       "      <th>min</th>\n",
       "      <td>1000.000000</td>\n",
       "    </tr>\n",
       "    <tr>\n",
       "      <th>25%</th>\n",
       "      <td>1134.000000</td>\n",
       "    </tr>\n",
       "    <tr>\n",
       "      <th>50%</th>\n",
       "      <td>1271.000000</td>\n",
       "    </tr>\n",
       "    <tr>\n",
       "      <th>75%</th>\n",
       "      <td>1381.000000</td>\n",
       "    </tr>\n",
       "    <tr>\n",
       "      <th>max</th>\n",
       "      <td>1499.000000</td>\n",
       "    </tr>\n",
       "  </tbody>\n",
       "</table>\n",
       "</div>"
      ],
      "text/plain": [
       "             user_id\n",
       "count  123036.000000\n",
       "mean     1256.989410\n",
       "std       143.523967\n",
       "min      1000.000000\n",
       "25%      1134.000000\n",
       "50%      1271.000000\n",
       "75%      1381.000000\n",
       "max      1499.000000"
      ]
     },
     "execution_count": 5,
     "metadata": {},
     "output_type": "execute_result"
    }
   ],
   "source": [
    "print('\\nРассмотрим общую информацию')\n",
    "messages_data.info()\n",
    "print('\\nРассмотрим первые 5 строк')\n",
    "display(messages_data.head())\n",
    "print('\\nРассмотрим описательную статистику нашего DataFrame')\n",
    "messages_data.describe()"
   ]
  },
  {
   "cell_type": "markdown",
   "metadata": {},
   "source": [
    "##### Описание полей messages\n",
    "Таблица `messages` (информация о сообщениях):\n",
    "\n",
    "`id` — уникальный номер сообщения\n",
    "\n",
    "`message_date` — дата сообщения\n",
    "\n",
    "`user_id` — идентификатор пользователя, отправившего сообщение"
   ]
  },
  {
   "cell_type": "markdown",
   "metadata": {},
   "source": [
    "#####  Рассмотрим файл users"
   ]
  },
  {
   "cell_type": "code",
   "execution_count": 6,
   "metadata": {},
   "outputs": [
    {
     "name": "stdout",
     "output_type": "stream",
     "text": [
      "\n",
      "Рассмотрим общую информацию\n",
      "<class 'pandas.core.frame.DataFrame'>\n",
      "RangeIndex: 500 entries, 0 to 499\n",
      "Data columns (total 8 columns):\n",
      " #   Column      Non-Null Count  Dtype \n",
      "---  ------      --------------  ----- \n",
      " 0   user_id     500 non-null    int64 \n",
      " 1   age         500 non-null    int64 \n",
      " 2   churn_date  38 non-null     object\n",
      " 3   city        500 non-null    object\n",
      " 4   first_name  500 non-null    object\n",
      " 5   last_name   500 non-null    object\n",
      " 6   reg_date    500 non-null    object\n",
      " 7   tariff      500 non-null    object\n",
      "dtypes: int64(2), object(6)\n",
      "memory usage: 31.4+ KB\n",
      "\n",
      "Рассмотрим первые 5 строк\n"
     ]
    },
    {
     "data": {
      "text/html": [
       "<div>\n",
       "<style scoped>\n",
       "    .dataframe tbody tr th:only-of-type {\n",
       "        vertical-align: middle;\n",
       "    }\n",
       "\n",
       "    .dataframe tbody tr th {\n",
       "        vertical-align: top;\n",
       "    }\n",
       "\n",
       "    .dataframe thead th {\n",
       "        text-align: right;\n",
       "    }\n",
       "</style>\n",
       "<table border=\"1\" class=\"dataframe\">\n",
       "  <thead>\n",
       "    <tr style=\"text-align: right;\">\n",
       "      <th></th>\n",
       "      <th>user_id</th>\n",
       "      <th>age</th>\n",
       "      <th>churn_date</th>\n",
       "      <th>city</th>\n",
       "      <th>first_name</th>\n",
       "      <th>last_name</th>\n",
       "      <th>reg_date</th>\n",
       "      <th>tariff</th>\n",
       "    </tr>\n",
       "  </thead>\n",
       "  <tbody>\n",
       "    <tr>\n",
       "      <th>0</th>\n",
       "      <td>1000</td>\n",
       "      <td>52</td>\n",
       "      <td>NaN</td>\n",
       "      <td>Краснодар</td>\n",
       "      <td>Рафаил</td>\n",
       "      <td>Верещагин</td>\n",
       "      <td>2018-05-25</td>\n",
       "      <td>ultra</td>\n",
       "    </tr>\n",
       "    <tr>\n",
       "      <th>1</th>\n",
       "      <td>1001</td>\n",
       "      <td>41</td>\n",
       "      <td>NaN</td>\n",
       "      <td>Москва</td>\n",
       "      <td>Иван</td>\n",
       "      <td>Ежов</td>\n",
       "      <td>2018-11-01</td>\n",
       "      <td>smart</td>\n",
       "    </tr>\n",
       "    <tr>\n",
       "      <th>2</th>\n",
       "      <td>1002</td>\n",
       "      <td>59</td>\n",
       "      <td>NaN</td>\n",
       "      <td>Стерлитамак</td>\n",
       "      <td>Евгений</td>\n",
       "      <td>Абрамович</td>\n",
       "      <td>2018-06-17</td>\n",
       "      <td>smart</td>\n",
       "    </tr>\n",
       "    <tr>\n",
       "      <th>3</th>\n",
       "      <td>1003</td>\n",
       "      <td>23</td>\n",
       "      <td>NaN</td>\n",
       "      <td>Москва</td>\n",
       "      <td>Белла</td>\n",
       "      <td>Белякова</td>\n",
       "      <td>2018-08-17</td>\n",
       "      <td>ultra</td>\n",
       "    </tr>\n",
       "    <tr>\n",
       "      <th>4</th>\n",
       "      <td>1004</td>\n",
       "      <td>68</td>\n",
       "      <td>NaN</td>\n",
       "      <td>Новокузнецк</td>\n",
       "      <td>Татьяна</td>\n",
       "      <td>Авдеенко</td>\n",
       "      <td>2018-05-14</td>\n",
       "      <td>ultra</td>\n",
       "    </tr>\n",
       "  </tbody>\n",
       "</table>\n",
       "</div>"
      ],
      "text/plain": [
       "   user_id  age churn_date         city first_name  last_name    reg_date  \\\n",
       "0     1000   52        NaN    Краснодар     Рафаил  Верещагин  2018-05-25   \n",
       "1     1001   41        NaN       Москва       Иван       Ежов  2018-11-01   \n",
       "2     1002   59        NaN  Стерлитамак    Евгений  Абрамович  2018-06-17   \n",
       "3     1003   23        NaN       Москва      Белла   Белякова  2018-08-17   \n",
       "4     1004   68        NaN  Новокузнецк    Татьяна   Авдеенко  2018-05-14   \n",
       "\n",
       "  tariff  \n",
       "0  ultra  \n",
       "1  smart  \n",
       "2  smart  \n",
       "3  ultra  \n",
       "4  ultra  "
      ]
     },
     "metadata": {},
     "output_type": "display_data"
    },
    {
     "name": "stdout",
     "output_type": "stream",
     "text": [
      "\n",
      "Рассмотрим описательную статистику нашего DataFrame\n"
     ]
    },
    {
     "data": {
      "text/html": [
       "<div>\n",
       "<style scoped>\n",
       "    .dataframe tbody tr th:only-of-type {\n",
       "        vertical-align: middle;\n",
       "    }\n",
       "\n",
       "    .dataframe tbody tr th {\n",
       "        vertical-align: top;\n",
       "    }\n",
       "\n",
       "    .dataframe thead th {\n",
       "        text-align: right;\n",
       "    }\n",
       "</style>\n",
       "<table border=\"1\" class=\"dataframe\">\n",
       "  <thead>\n",
       "    <tr style=\"text-align: right;\">\n",
       "      <th></th>\n",
       "      <th>user_id</th>\n",
       "      <th>age</th>\n",
       "    </tr>\n",
       "  </thead>\n",
       "  <tbody>\n",
       "    <tr>\n",
       "      <th>count</th>\n",
       "      <td>500.000000</td>\n",
       "      <td>500.00000</td>\n",
       "    </tr>\n",
       "    <tr>\n",
       "      <th>mean</th>\n",
       "      <td>1249.500000</td>\n",
       "      <td>46.58800</td>\n",
       "    </tr>\n",
       "    <tr>\n",
       "      <th>std</th>\n",
       "      <td>144.481833</td>\n",
       "      <td>16.66763</td>\n",
       "    </tr>\n",
       "    <tr>\n",
       "      <th>min</th>\n",
       "      <td>1000.000000</td>\n",
       "      <td>18.00000</td>\n",
       "    </tr>\n",
       "    <tr>\n",
       "      <th>25%</th>\n",
       "      <td>1124.750000</td>\n",
       "      <td>32.00000</td>\n",
       "    </tr>\n",
       "    <tr>\n",
       "      <th>50%</th>\n",
       "      <td>1249.500000</td>\n",
       "      <td>46.00000</td>\n",
       "    </tr>\n",
       "    <tr>\n",
       "      <th>75%</th>\n",
       "      <td>1374.250000</td>\n",
       "      <td>62.00000</td>\n",
       "    </tr>\n",
       "    <tr>\n",
       "      <th>max</th>\n",
       "      <td>1499.000000</td>\n",
       "      <td>75.00000</td>\n",
       "    </tr>\n",
       "  </tbody>\n",
       "</table>\n",
       "</div>"
      ],
      "text/plain": [
       "           user_id        age\n",
       "count   500.000000  500.00000\n",
       "mean   1249.500000   46.58800\n",
       "std     144.481833   16.66763\n",
       "min    1000.000000   18.00000\n",
       "25%    1124.750000   32.00000\n",
       "50%    1249.500000   46.00000\n",
       "75%    1374.250000   62.00000\n",
       "max    1499.000000   75.00000"
      ]
     },
     "execution_count": 6,
     "metadata": {},
     "output_type": "execute_result"
    }
   ],
   "source": [
    "print('\\nРассмотрим общую информацию')\n",
    "users_data.info()\n",
    "print('\\nРассмотрим первые 5 строк')\n",
    "display(users_data.head())\n",
    "print('\\nРассмотрим описательную статистику нашего DataFrame')\n",
    "users_data.describe()"
   ]
  },
  {
   "cell_type": "markdown",
   "metadata": {},
   "source": [
    "##### Описание полей users\n",
    "Таблица `users` (информация о пользователях):\n",
    "\n",
    "`user_id` — уникальный идентификатор пользователя\n",
    "\n",
    "`first_name` — имя пользователя\n",
    "\n",
    "`last_name` — фамилия пользователя\n",
    "\n",
    "`age` — возраст пользователя (годы)\n",
    "\n",
    "`reg_date` — дата подключения тарифа (день, месяц, год)\n",
    "\n",
    "`churn_date` — дата прекращения пользования тарифом (если значение пропущено, то тариф ещё действовал на момент выгрузки данных)\n",
    "\n",
    "`city` — город проживания пользователя\n",
    "\n",
    "`tariff` — название тарифного плана"
   ]
  },
  {
   "cell_type": "markdown",
   "metadata": {},
   "source": [
    "#####  Рассмотрим файл tariffs"
   ]
  },
  {
   "cell_type": "code",
   "execution_count": 7,
   "metadata": {},
   "outputs": [
    {
     "name": "stdout",
     "output_type": "stream",
     "text": [
      "\n",
      "Рассмотрим общую информацию\n",
      "<class 'pandas.core.frame.DataFrame'>\n",
      "RangeIndex: 2 entries, 0 to 1\n",
      "Data columns (total 8 columns):\n",
      " #   Column                 Non-Null Count  Dtype \n",
      "---  ------                 --------------  ----- \n",
      " 0   messages_included      2 non-null      int64 \n",
      " 1   mb_per_month_included  2 non-null      int64 \n",
      " 2   minutes_included       2 non-null      int64 \n",
      " 3   rub_monthly_fee        2 non-null      int64 \n",
      " 4   rub_per_gb             2 non-null      int64 \n",
      " 5   rub_per_message        2 non-null      int64 \n",
      " 6   rub_per_minute         2 non-null      int64 \n",
      " 7   tariff_name            2 non-null      object\n",
      "dtypes: int64(7), object(1)\n",
      "memory usage: 256.0+ bytes\n",
      "\n",
      "Рассмотрим строки\n"
     ]
    },
    {
     "data": {
      "text/html": [
       "<div>\n",
       "<style scoped>\n",
       "    .dataframe tbody tr th:only-of-type {\n",
       "        vertical-align: middle;\n",
       "    }\n",
       "\n",
       "    .dataframe tbody tr th {\n",
       "        vertical-align: top;\n",
       "    }\n",
       "\n",
       "    .dataframe thead th {\n",
       "        text-align: right;\n",
       "    }\n",
       "</style>\n",
       "<table border=\"1\" class=\"dataframe\">\n",
       "  <thead>\n",
       "    <tr style=\"text-align: right;\">\n",
       "      <th></th>\n",
       "      <th>messages_included</th>\n",
       "      <th>mb_per_month_included</th>\n",
       "      <th>minutes_included</th>\n",
       "      <th>rub_monthly_fee</th>\n",
       "      <th>rub_per_gb</th>\n",
       "      <th>rub_per_message</th>\n",
       "      <th>rub_per_minute</th>\n",
       "      <th>tariff_name</th>\n",
       "    </tr>\n",
       "  </thead>\n",
       "  <tbody>\n",
       "    <tr>\n",
       "      <th>0</th>\n",
       "      <td>50</td>\n",
       "      <td>15360</td>\n",
       "      <td>500</td>\n",
       "      <td>550</td>\n",
       "      <td>200</td>\n",
       "      <td>3</td>\n",
       "      <td>3</td>\n",
       "      <td>smart</td>\n",
       "    </tr>\n",
       "    <tr>\n",
       "      <th>1</th>\n",
       "      <td>1000</td>\n",
       "      <td>30720</td>\n",
       "      <td>3000</td>\n",
       "      <td>1950</td>\n",
       "      <td>150</td>\n",
       "      <td>1</td>\n",
       "      <td>1</td>\n",
       "      <td>ultra</td>\n",
       "    </tr>\n",
       "  </tbody>\n",
       "</table>\n",
       "</div>"
      ],
      "text/plain": [
       "   messages_included  mb_per_month_included  minutes_included  \\\n",
       "0                 50                  15360               500   \n",
       "1               1000                  30720              3000   \n",
       "\n",
       "   rub_monthly_fee  rub_per_gb  rub_per_message  rub_per_minute tariff_name  \n",
       "0              550         200                3               3       smart  \n",
       "1             1950         150                1               1       ultra  "
      ]
     },
     "metadata": {},
     "output_type": "display_data"
    },
    {
     "name": "stdout",
     "output_type": "stream",
     "text": [
      "\n",
      "Рассмотрим описательную статистику нашего DataFrame\n"
     ]
    },
    {
     "data": {
      "text/html": [
       "<div>\n",
       "<style scoped>\n",
       "    .dataframe tbody tr th:only-of-type {\n",
       "        vertical-align: middle;\n",
       "    }\n",
       "\n",
       "    .dataframe tbody tr th {\n",
       "        vertical-align: top;\n",
       "    }\n",
       "\n",
       "    .dataframe thead th {\n",
       "        text-align: right;\n",
       "    }\n",
       "</style>\n",
       "<table border=\"1\" class=\"dataframe\">\n",
       "  <thead>\n",
       "    <tr style=\"text-align: right;\">\n",
       "      <th></th>\n",
       "      <th>messages_included</th>\n",
       "      <th>mb_per_month_included</th>\n",
       "      <th>minutes_included</th>\n",
       "      <th>rub_monthly_fee</th>\n",
       "      <th>rub_per_gb</th>\n",
       "      <th>rub_per_message</th>\n",
       "      <th>rub_per_minute</th>\n",
       "    </tr>\n",
       "  </thead>\n",
       "  <tbody>\n",
       "    <tr>\n",
       "      <th>count</th>\n",
       "      <td>2.000000</td>\n",
       "      <td>2.000000</td>\n",
       "      <td>2.000000</td>\n",
       "      <td>2.000000</td>\n",
       "      <td>2.000000</td>\n",
       "      <td>2.000000</td>\n",
       "      <td>2.000000</td>\n",
       "    </tr>\n",
       "    <tr>\n",
       "      <th>mean</th>\n",
       "      <td>525.000000</td>\n",
       "      <td>23040.000000</td>\n",
       "      <td>1750.000000</td>\n",
       "      <td>1250.000000</td>\n",
       "      <td>175.000000</td>\n",
       "      <td>2.000000</td>\n",
       "      <td>2.000000</td>\n",
       "    </tr>\n",
       "    <tr>\n",
       "      <th>std</th>\n",
       "      <td>671.751442</td>\n",
       "      <td>10861.160159</td>\n",
       "      <td>1767.766953</td>\n",
       "      <td>989.949494</td>\n",
       "      <td>35.355339</td>\n",
       "      <td>1.414214</td>\n",
       "      <td>1.414214</td>\n",
       "    </tr>\n",
       "    <tr>\n",
       "      <th>min</th>\n",
       "      <td>50.000000</td>\n",
       "      <td>15360.000000</td>\n",
       "      <td>500.000000</td>\n",
       "      <td>550.000000</td>\n",
       "      <td>150.000000</td>\n",
       "      <td>1.000000</td>\n",
       "      <td>1.000000</td>\n",
       "    </tr>\n",
       "    <tr>\n",
       "      <th>25%</th>\n",
       "      <td>287.500000</td>\n",
       "      <td>19200.000000</td>\n",
       "      <td>1125.000000</td>\n",
       "      <td>900.000000</td>\n",
       "      <td>162.500000</td>\n",
       "      <td>1.500000</td>\n",
       "      <td>1.500000</td>\n",
       "    </tr>\n",
       "    <tr>\n",
       "      <th>50%</th>\n",
       "      <td>525.000000</td>\n",
       "      <td>23040.000000</td>\n",
       "      <td>1750.000000</td>\n",
       "      <td>1250.000000</td>\n",
       "      <td>175.000000</td>\n",
       "      <td>2.000000</td>\n",
       "      <td>2.000000</td>\n",
       "    </tr>\n",
       "    <tr>\n",
       "      <th>75%</th>\n",
       "      <td>762.500000</td>\n",
       "      <td>26880.000000</td>\n",
       "      <td>2375.000000</td>\n",
       "      <td>1600.000000</td>\n",
       "      <td>187.500000</td>\n",
       "      <td>2.500000</td>\n",
       "      <td>2.500000</td>\n",
       "    </tr>\n",
       "    <tr>\n",
       "      <th>max</th>\n",
       "      <td>1000.000000</td>\n",
       "      <td>30720.000000</td>\n",
       "      <td>3000.000000</td>\n",
       "      <td>1950.000000</td>\n",
       "      <td>200.000000</td>\n",
       "      <td>3.000000</td>\n",
       "      <td>3.000000</td>\n",
       "    </tr>\n",
       "  </tbody>\n",
       "</table>\n",
       "</div>"
      ],
      "text/plain": [
       "       messages_included  mb_per_month_included  minutes_included  \\\n",
       "count           2.000000               2.000000          2.000000   \n",
       "mean          525.000000           23040.000000       1750.000000   \n",
       "std           671.751442           10861.160159       1767.766953   \n",
       "min            50.000000           15360.000000        500.000000   \n",
       "25%           287.500000           19200.000000       1125.000000   \n",
       "50%           525.000000           23040.000000       1750.000000   \n",
       "75%           762.500000           26880.000000       2375.000000   \n",
       "max          1000.000000           30720.000000       3000.000000   \n",
       "\n",
       "       rub_monthly_fee  rub_per_gb  rub_per_message  rub_per_minute  \n",
       "count         2.000000    2.000000         2.000000        2.000000  \n",
       "mean       1250.000000  175.000000         2.000000        2.000000  \n",
       "std         989.949494   35.355339         1.414214        1.414214  \n",
       "min         550.000000  150.000000         1.000000        1.000000  \n",
       "25%         900.000000  162.500000         1.500000        1.500000  \n",
       "50%        1250.000000  175.000000         2.000000        2.000000  \n",
       "75%        1600.000000  187.500000         2.500000        2.500000  \n",
       "max        1950.000000  200.000000         3.000000        3.000000  "
      ]
     },
     "execution_count": 7,
     "metadata": {},
     "output_type": "execute_result"
    }
   ],
   "source": [
    "print('\\nРассмотрим общую информацию')\n",
    "tariffs_data.info()\n",
    "print('\\nРассмотрим строки')\n",
    "display(tariffs_data.head())\n",
    "print('\\nРассмотрим описательную статистику нашего DataFrame')\n",
    "tariffs_data.describe()"
   ]
  },
  {
   "cell_type": "markdown",
   "metadata": {},
   "source": [
    "##### Описание полей tariffs\n",
    "Таблица `tariffs` (информация о тарифах):\n",
    "\n",
    "`tariff_name` — название тарифа\n",
    "\n",
    "`rub_monthly_fee` — ежемесячная абонентская плата в рублях\n",
    "\n",
    "`minutes_included` — количество минут разговора в месяц, включённых в абонентскую плату\n",
    "\n",
    "`messages_included` — количество сообщений в месяц, включённых в абонентскую плату\n",
    "\n",
    "`mb_per_month_included` — объём интернет-трафика, включённого в абонентскую плату (в мегабайтах)\n",
    "\n",
    "`rub_per_minute` — стоимость минуты разговора сверх тарифного пакета (например, если в тарифе 100 минут разговора в месяц, то со 101 минуты будет взиматься плата)\n",
    "\n",
    "`rub_per_message` — стоимость отправки сообщения сверх тарифного пакета\n",
    "\n",
    "`rub_per_gb` — стоимость дополнительного гигабайта интернет-трафика сверх тарифного пакета (1 гигабайт = 1024 мегабайта)"
   ]
  },
  {
   "cell_type": "markdown",
   "metadata": {},
   "source": [
    "### Вывод\n",
    "Рассмотрев полученные данные, заметим, что имеются пропуски в таблице `users` в столбце `churn_date` — дата прекращения пользования тарифом (если значение пропущено, то тариф ещё действовал на момент выгрузки данных).\n",
    "Учтем пользователей, которые прекратили пользоваться тарифом.\n",
    "\n",
    "`mb_used`(кол-во Мб) `duration`(кол-во минут) требуется округлить в большую сторону и поменять тип данных на int.\n",
    "\n",
    "Требуется перевести имеющиеся даты к формату даты"
   ]
  },
  {
   "cell_type": "markdown",
   "metadata": {},
   "source": [
    "## <a id=\"step2\">Шаг 2. Подготовка данных </a>"
   ]
  },
  {
   "cell_type": "markdown",
   "metadata": {},
   "source": [
    "#### Рассмотрим нулевые значения в данных calls_data и internet_data"
   ]
  },
  {
   "cell_type": "code",
   "execution_count": 8,
   "metadata": {},
   "outputs": [
    {
     "name": "stdout",
     "output_type": "stream",
     "text": [
      "Количество нулевых значений в calls_data: 39613 из 202607\n",
      "Количество нулевых значений в internet_data: 19598 из 149396\n"
     ]
    }
   ],
   "source": [
    "print('Количество нулевых значений в calls_data:',\n",
    "      calls_data[calls_data['duration'] == 0]['id'].count(), 'из', calls_data['id'].count())\n",
    "print('Количество нулевых значений в internet_data:',\n",
    "      internet_data[internet_data['mb_used'] == 0]['id'].count(), 'из', internet_data['id'].count())\n",
    "# Так как у мы работаем с хитрыми тарифными планами, то такие нулевые знаяения примем за короткие сеансы\n",
    "# Заменим данные значения на 1\n",
    "calls_data['duration'].replace(0.0,1,inplace = True)\n",
    "internet_data['mb_used'].replace(0.0,1,inplace = True)"
   ]
  },
  {
   "cell_type": "markdown",
   "metadata": {},
   "source": [
    "#### Приведем столбец city в users_data к нижнему регистру"
   ]
  },
  {
   "cell_type": "code",
   "execution_count": 9,
   "metadata": {},
   "outputs": [
    {
     "name": "stdout",
     "output_type": "stream",
     "text": [
      "москва             99\n",
      "санкт-петербург    39\n",
      "новосибирск        16\n",
      "казань             14\n",
      "омск               14\n",
      "                   ..\n",
      "нижневартовск       1\n",
      "иваново             1\n",
      "архангельск         1\n",
      "химки               1\n",
      "подольск            1\n",
      "Name: city, Length: 76, dtype: int64\n"
     ]
    }
   ],
   "source": [
    "users_data['city'] = users_data['city'].str.lower()\n",
    "print(users_data['city'].value_counts())"
   ]
  },
  {
   "cell_type": "markdown",
   "metadata": {},
   "source": [
    "#### Округли значения calls_data и internet_data"
   ]
  },
  {
   "cell_type": "code",
   "execution_count": 10,
   "metadata": {},
   "outputs": [
    {
     "data": {
      "text/html": [
       "<div>\n",
       "<style scoped>\n",
       "    .dataframe tbody tr th:only-of-type {\n",
       "        vertical-align: middle;\n",
       "    }\n",
       "\n",
       "    .dataframe tbody tr th {\n",
       "        vertical-align: top;\n",
       "    }\n",
       "\n",
       "    .dataframe thead th {\n",
       "        text-align: right;\n",
       "    }\n",
       "</style>\n",
       "<table border=\"1\" class=\"dataframe\">\n",
       "  <thead>\n",
       "    <tr style=\"text-align: right;\">\n",
       "      <th></th>\n",
       "      <th>Unnamed: 0</th>\n",
       "      <th>id</th>\n",
       "      <th>mb_used</th>\n",
       "      <th>session_date</th>\n",
       "      <th>user_id</th>\n",
       "    </tr>\n",
       "  </thead>\n",
       "  <tbody>\n",
       "    <tr>\n",
       "      <th>0</th>\n",
       "      <td>0</td>\n",
       "      <td>1000_0</td>\n",
       "      <td>113.0</td>\n",
       "      <td>2018-11-25</td>\n",
       "      <td>1000</td>\n",
       "    </tr>\n",
       "    <tr>\n",
       "      <th>1</th>\n",
       "      <td>1</td>\n",
       "      <td>1000_1</td>\n",
       "      <td>1053.0</td>\n",
       "      <td>2018-09-07</td>\n",
       "      <td>1000</td>\n",
       "    </tr>\n",
       "    <tr>\n",
       "      <th>2</th>\n",
       "      <td>2</td>\n",
       "      <td>1000_2</td>\n",
       "      <td>1198.0</td>\n",
       "      <td>2018-06-25</td>\n",
       "      <td>1000</td>\n",
       "    </tr>\n",
       "    <tr>\n",
       "      <th>3</th>\n",
       "      <td>3</td>\n",
       "      <td>1000_3</td>\n",
       "      <td>551.0</td>\n",
       "      <td>2018-08-22</td>\n",
       "      <td>1000</td>\n",
       "    </tr>\n",
       "    <tr>\n",
       "      <th>4</th>\n",
       "      <td>4</td>\n",
       "      <td>1000_4</td>\n",
       "      <td>303.0</td>\n",
       "      <td>2018-09-24</td>\n",
       "      <td>1000</td>\n",
       "    </tr>\n",
       "  </tbody>\n",
       "</table>\n",
       "</div>"
      ],
      "text/plain": [
       "   Unnamed: 0      id  mb_used session_date  user_id\n",
       "0           0  1000_0    113.0   2018-11-25     1000\n",
       "1           1  1000_1   1053.0   2018-09-07     1000\n",
       "2           2  1000_2   1198.0   2018-06-25     1000\n",
       "3           3  1000_3    551.0   2018-08-22     1000\n",
       "4           4  1000_4    303.0   2018-09-24     1000"
      ]
     },
     "metadata": {},
     "output_type": "display_data"
    },
    {
     "data": {
      "text/html": [
       "<div>\n",
       "<style scoped>\n",
       "    .dataframe tbody tr th:only-of-type {\n",
       "        vertical-align: middle;\n",
       "    }\n",
       "\n",
       "    .dataframe tbody tr th {\n",
       "        vertical-align: top;\n",
       "    }\n",
       "\n",
       "    .dataframe thead th {\n",
       "        text-align: right;\n",
       "    }\n",
       "</style>\n",
       "<table border=\"1\" class=\"dataframe\">\n",
       "  <thead>\n",
       "    <tr style=\"text-align: right;\">\n",
       "      <th></th>\n",
       "      <th>id</th>\n",
       "      <th>call_date</th>\n",
       "      <th>duration</th>\n",
       "      <th>user_id</th>\n",
       "    </tr>\n",
       "  </thead>\n",
       "  <tbody>\n",
       "    <tr>\n",
       "      <th>0</th>\n",
       "      <td>1000_0</td>\n",
       "      <td>2018-07-25</td>\n",
       "      <td>1.0</td>\n",
       "      <td>1000</td>\n",
       "    </tr>\n",
       "    <tr>\n",
       "      <th>1</th>\n",
       "      <td>1000_1</td>\n",
       "      <td>2018-08-17</td>\n",
       "      <td>1.0</td>\n",
       "      <td>1000</td>\n",
       "    </tr>\n",
       "    <tr>\n",
       "      <th>2</th>\n",
       "      <td>1000_2</td>\n",
       "      <td>2018-06-11</td>\n",
       "      <td>3.0</td>\n",
       "      <td>1000</td>\n",
       "    </tr>\n",
       "    <tr>\n",
       "      <th>3</th>\n",
       "      <td>1000_3</td>\n",
       "      <td>2018-09-21</td>\n",
       "      <td>14.0</td>\n",
       "      <td>1000</td>\n",
       "    </tr>\n",
       "    <tr>\n",
       "      <th>4</th>\n",
       "      <td>1000_4</td>\n",
       "      <td>2018-12-15</td>\n",
       "      <td>6.0</td>\n",
       "      <td>1000</td>\n",
       "    </tr>\n",
       "  </tbody>\n",
       "</table>\n",
       "</div>"
      ],
      "text/plain": [
       "       id   call_date  duration  user_id\n",
       "0  1000_0  2018-07-25       1.0     1000\n",
       "1  1000_1  2018-08-17       1.0     1000\n",
       "2  1000_2  2018-06-11       3.0     1000\n",
       "3  1000_3  2018-09-21      14.0     1000\n",
       "4  1000_4  2018-12-15       6.0     1000"
      ]
     },
     "metadata": {},
     "output_type": "display_data"
    }
   ],
   "source": [
    "calls_data['duration'] = np.ceil(calls_data['duration'])\n",
    "internet_data['mb_used'] = np.ceil(internet_data['mb_used'])\n",
    "display(internet_data.head())\n",
    "display(calls_data.head())"
   ]
  },
  {
   "cell_type": "markdown",
   "metadata": {},
   "source": [
    "#### Заменим формат данных"
   ]
  },
  {
   "cell_type": "code",
   "execution_count": 11,
   "metadata": {},
   "outputs": [],
   "source": [
    "# Замена формата данных для calls_data\n",
    "calls_data['duration'] = calls_data['duration'].astype(int)\n",
    "calls_data['call_date'] = pd.to_datetime(calls_data['call_date'], format='%Y-%m-%d')\n",
    "# Замена формата данных для internet_data\n",
    "internet_data['mb_used'] = internet_data['mb_used'].astype(int)\n",
    "internet_data['session_date'] = pd.to_datetime(internet_data['session_date'], format='%Y-%m-%d')\n",
    "# Замена формата данных для users_data\n",
    "users_data['reg_date'] = pd.to_datetime(users_data['reg_date'], format='%Y-%m-%d')\n",
    "users_data['churn_date'] = pd.to_datetime(users_data['churn_date'], format='%Y-%m-%d')\n",
    "# Замена формата данных для messages_data\n",
    "messages_data['message_date'] = pd.to_datetime(messages_data['message_date'], format='%Y-%m-%d')"
   ]
  },
  {
   "cell_type": "markdown",
   "metadata": {},
   "source": [
    "#### Выделим с даты месяцы с каждой таблицы"
   ]
  },
  {
   "cell_type": "code",
   "execution_count": 12,
   "metadata": {},
   "outputs": [],
   "source": [
    "calls_data['month'] = calls_data['call_date'].dt.month\n",
    "internet_data['month'] = internet_data['session_date'].dt.month\n",
    "users_data['reg_month'] = users_data['reg_date'].dt.month\n",
    "messages_data['month'] = messages_data['message_date'].dt.month\n",
    "\n",
    "\n"
   ]
  },
  {
   "cell_type": "markdown",
   "metadata": {},
   "source": [
    "#### Объединим таблицы и посмотрим"
   ]
  },
  {
   "cell_type": "code",
   "execution_count": 13,
   "metadata": {
    "scrolled": true
   },
   "outputs": [],
   "source": [
    "# Для того, чтобы объединить методом merge исходные таблицы, заменим в tariffs_data \n",
    "# название колонки tariff_name на tariff\n",
    "tariffs_data.columns = ['messages_included', 'mb_per_month_included', 'minutes_included', 'rub_monthly_fee',\n",
    "                       'rub_per_gb', 'rub_per_message', 'rub_per_minute', 'tariff']\n",
    "\n",
    "# Сведем таблицу для звонков\n",
    "users_calls = calls_data.merge(users_data, how='left')\n",
    "# Сведем таблицу для интернета\n",
    "users_internet = internet_data.merge(users_data, how='left')\n",
    "# Сведем таблицу для сообщений\n",
    "users_messages = messages_data.merge(users_data, how='left')\n"
   ]
  },
  {
   "cell_type": "markdown",
   "metadata": {},
   "source": [
    "#### Количество сделанных звонков и израсходованных минут разговора по месяцам для каждого пользователя"
   ]
  },
  {
   "cell_type": "code",
   "execution_count": 14,
   "metadata": {},
   "outputs": [
    {
     "name": "stdout",
     "output_type": "stream",
     "text": [
      "Израсходованных минут разговора для каждого пользователя за месяц\n"
     ]
    },
    {
     "data": {
      "text/plain": [
       "(3174, 6)"
      ]
     },
     "metadata": {},
     "output_type": "display_data"
    }
   ],
   "source": [
    "# Общая сводная таблица\n",
    "#display(db_calls.pivot_table(index='user_id', columns = 'call_month', aggfunc={'duration':'sum', 'id':'count'}))\n",
    "# Отдельные таблицы\n",
    "print('Израсходованных минут разговора для каждого пользователя за месяц')\n",
    "db_calls_piv = users_calls.pivot_table(index =['user_id', 'city', 'tariff','month'], aggfunc={'duration':'sum','id':'count'}).reset_index()\n",
    "db_calls_piv.columns = ['user_id', 'city', 'tariff', 'month', 'duration','call_count']\n",
    "display(db_calls_piv.shape)\n",
    "\n"
   ]
  },
  {
   "cell_type": "markdown",
   "metadata": {},
   "source": [
    "#### Количество отправленных сообщений по месяцам для каждого пользователя"
   ]
  },
  {
   "cell_type": "code",
   "execution_count": 15,
   "metadata": {},
   "outputs": [
    {
     "name": "stdout",
     "output_type": "stream",
     "text": [
      "Количество отправленных сообщений для каждого пользователя за месяц\n"
     ]
    },
    {
     "data": {
      "text/html": [
       "<div>\n",
       "<style scoped>\n",
       "    .dataframe tbody tr th:only-of-type {\n",
       "        vertical-align: middle;\n",
       "    }\n",
       "\n",
       "    .dataframe tbody tr th {\n",
       "        vertical-align: top;\n",
       "    }\n",
       "\n",
       "    .dataframe thead th {\n",
       "        text-align: right;\n",
       "    }\n",
       "</style>\n",
       "<table border=\"1\" class=\"dataframe\">\n",
       "  <thead>\n",
       "    <tr style=\"text-align: right;\">\n",
       "      <th></th>\n",
       "      <th>user_id</th>\n",
       "      <th>city</th>\n",
       "      <th>tariff</th>\n",
       "      <th>month</th>\n",
       "      <th>message_count</th>\n",
       "    </tr>\n",
       "  </thead>\n",
       "  <tbody>\n",
       "    <tr>\n",
       "      <th>0</th>\n",
       "      <td>1000</td>\n",
       "      <td>краснодар</td>\n",
       "      <td>ultra</td>\n",
       "      <td>5</td>\n",
       "      <td>22</td>\n",
       "    </tr>\n",
       "    <tr>\n",
       "      <th>1</th>\n",
       "      <td>1000</td>\n",
       "      <td>краснодар</td>\n",
       "      <td>ultra</td>\n",
       "      <td>6</td>\n",
       "      <td>60</td>\n",
       "    </tr>\n",
       "    <tr>\n",
       "      <th>2</th>\n",
       "      <td>1000</td>\n",
       "      <td>краснодар</td>\n",
       "      <td>ultra</td>\n",
       "      <td>7</td>\n",
       "      <td>75</td>\n",
       "    </tr>\n",
       "    <tr>\n",
       "      <th>3</th>\n",
       "      <td>1000</td>\n",
       "      <td>краснодар</td>\n",
       "      <td>ultra</td>\n",
       "      <td>8</td>\n",
       "      <td>81</td>\n",
       "    </tr>\n",
       "    <tr>\n",
       "      <th>4</th>\n",
       "      <td>1000</td>\n",
       "      <td>краснодар</td>\n",
       "      <td>ultra</td>\n",
       "      <td>9</td>\n",
       "      <td>57</td>\n",
       "    </tr>\n",
       "  </tbody>\n",
       "</table>\n",
       "</div>"
      ],
      "text/plain": [
       "   user_id       city tariff  month  message_count\n",
       "0     1000  краснодар  ultra      5             22\n",
       "1     1000  краснодар  ultra      6             60\n",
       "2     1000  краснодар  ultra      7             75\n",
       "3     1000  краснодар  ultra      8             81\n",
       "4     1000  краснодар  ultra      9             57"
      ]
     },
     "metadata": {},
     "output_type": "display_data"
    }
   ],
   "source": [
    "print('Количество отправленных сообщений для каждого пользователя за месяц')\n",
    "db_messages_piv = users_messages.pivot_table(index=['user_id','city', 'tariff','month'], aggfunc={'id':'count'}).reset_index()\n",
    "db_messages_piv.columns = ['user_id', 'city', 'tariff', 'month', 'message_count']\n",
    "display(db_messages_piv.head())\n",
    "\n"
   ]
  },
  {
   "cell_type": "markdown",
   "metadata": {},
   "source": [
    "#### Объем израсходованного интернет-трафика по месяцам для каждого пользователя"
   ]
  },
  {
   "cell_type": "code",
   "execution_count": 16,
   "metadata": {},
   "outputs": [
    {
     "name": "stdout",
     "output_type": "stream",
     "text": [
      "Объем израсходованного интернет-трафика для каждого пользователя за месяц\n"
     ]
    },
    {
     "data": {
      "text/html": [
       "<div>\n",
       "<style scoped>\n",
       "    .dataframe tbody tr th:only-of-type {\n",
       "        vertical-align: middle;\n",
       "    }\n",
       "\n",
       "    .dataframe tbody tr th {\n",
       "        vertical-align: top;\n",
       "    }\n",
       "\n",
       "    .dataframe thead th {\n",
       "        text-align: right;\n",
       "    }\n",
       "</style>\n",
       "<table border=\"1\" class=\"dataframe\">\n",
       "  <thead>\n",
       "    <tr style=\"text-align: right;\">\n",
       "      <th></th>\n",
       "      <th>user_id</th>\n",
       "      <th>city</th>\n",
       "      <th>tariff</th>\n",
       "      <th>month</th>\n",
       "      <th>mb_used</th>\n",
       "    </tr>\n",
       "  </thead>\n",
       "  <tbody>\n",
       "    <tr>\n",
       "      <th>0</th>\n",
       "      <td>1000</td>\n",
       "      <td>краснодар</td>\n",
       "      <td>ultra</td>\n",
       "      <td>5</td>\n",
       "      <td>2257</td>\n",
       "    </tr>\n",
       "    <tr>\n",
       "      <th>1</th>\n",
       "      <td>1000</td>\n",
       "      <td>краснодар</td>\n",
       "      <td>ultra</td>\n",
       "      <td>6</td>\n",
       "      <td>23262</td>\n",
       "    </tr>\n",
       "    <tr>\n",
       "      <th>2</th>\n",
       "      <td>1000</td>\n",
       "      <td>краснодар</td>\n",
       "      <td>ultra</td>\n",
       "      <td>7</td>\n",
       "      <td>14017</td>\n",
       "    </tr>\n",
       "    <tr>\n",
       "      <th>3</th>\n",
       "      <td>1000</td>\n",
       "      <td>краснодар</td>\n",
       "      <td>ultra</td>\n",
       "      <td>8</td>\n",
       "      <td>14072</td>\n",
       "    </tr>\n",
       "    <tr>\n",
       "      <th>4</th>\n",
       "      <td>1000</td>\n",
       "      <td>краснодар</td>\n",
       "      <td>ultra</td>\n",
       "      <td>9</td>\n",
       "      <td>14583</td>\n",
       "    </tr>\n",
       "    <tr>\n",
       "      <th>...</th>\n",
       "      <td>...</td>\n",
       "      <td>...</td>\n",
       "      <td>...</td>\n",
       "      <td>...</td>\n",
       "      <td>...</td>\n",
       "    </tr>\n",
       "    <tr>\n",
       "      <th>3198</th>\n",
       "      <td>1498</td>\n",
       "      <td>владикавказ</td>\n",
       "      <td>smart</td>\n",
       "      <td>10</td>\n",
       "      <td>20614</td>\n",
       "    </tr>\n",
       "    <tr>\n",
       "      <th>3199</th>\n",
       "      <td>1499</td>\n",
       "      <td>пермь</td>\n",
       "      <td>smart</td>\n",
       "      <td>9</td>\n",
       "      <td>1849</td>\n",
       "    </tr>\n",
       "    <tr>\n",
       "      <th>3200</th>\n",
       "      <td>1499</td>\n",
       "      <td>пермь</td>\n",
       "      <td>smart</td>\n",
       "      <td>10</td>\n",
       "      <td>17824</td>\n",
       "    </tr>\n",
       "    <tr>\n",
       "      <th>3201</th>\n",
       "      <td>1499</td>\n",
       "      <td>пермь</td>\n",
       "      <td>smart</td>\n",
       "      <td>11</td>\n",
       "      <td>17994</td>\n",
       "    </tr>\n",
       "    <tr>\n",
       "      <th>3202</th>\n",
       "      <td>1499</td>\n",
       "      <td>пермь</td>\n",
       "      <td>smart</td>\n",
       "      <td>12</td>\n",
       "      <td>13082</td>\n",
       "    </tr>\n",
       "  </tbody>\n",
       "</table>\n",
       "<p>3203 rows × 5 columns</p>\n",
       "</div>"
      ],
      "text/plain": [
       "      user_id         city tariff  month  mb_used\n",
       "0        1000    краснодар  ultra      5     2257\n",
       "1        1000    краснодар  ultra      6    23262\n",
       "2        1000    краснодар  ultra      7    14017\n",
       "3        1000    краснодар  ultra      8    14072\n",
       "4        1000    краснодар  ultra      9    14583\n",
       "...       ...          ...    ...    ...      ...\n",
       "3198     1498  владикавказ  smart     10    20614\n",
       "3199     1499        пермь  smart      9     1849\n",
       "3200     1499        пермь  smart     10    17824\n",
       "3201     1499        пермь  smart     11    17994\n",
       "3202     1499        пермь  smart     12    13082\n",
       "\n",
       "[3203 rows x 5 columns]"
      ]
     },
     "metadata": {},
     "output_type": "display_data"
    }
   ],
   "source": [
    "print('Объем израсходованного интернет-трафика для каждого пользователя за месяц')\n",
    "db_internet_piv = users_internet.pivot_table(index=['user_id','city', 'tariff','month'], aggfunc={'mb_used':'sum'}).reset_index()\n",
    "db_internet_piv.columns = ['user_id','city', 'tariff', 'month', 'mb_used']\n",
    "display(db_internet_piv)"
   ]
  },
  {
   "cell_type": "markdown",
   "metadata": {},
   "source": [
    "#### Объединим полученные таблицы и добавим информацию по тарифам"
   ]
  },
  {
   "cell_type": "code",
   "execution_count": 17,
   "metadata": {},
   "outputs": [
    {
     "data": {
      "text/html": [
       "<div>\n",
       "<style scoped>\n",
       "    .dataframe tbody tr th:only-of-type {\n",
       "        vertical-align: middle;\n",
       "    }\n",
       "\n",
       "    .dataframe tbody tr th {\n",
       "        vertical-align: top;\n",
       "    }\n",
       "\n",
       "    .dataframe thead th {\n",
       "        text-align: right;\n",
       "    }\n",
       "</style>\n",
       "<table border=\"1\" class=\"dataframe\">\n",
       "  <thead>\n",
       "    <tr style=\"text-align: right;\">\n",
       "      <th></th>\n",
       "      <th>user_id</th>\n",
       "      <th>city</th>\n",
       "      <th>tariff</th>\n",
       "      <th>month</th>\n",
       "      <th>duration</th>\n",
       "      <th>call_count</th>\n",
       "      <th>message_count</th>\n",
       "      <th>mb_used</th>\n",
       "      <th>messages_included</th>\n",
       "      <th>mb_per_month_included</th>\n",
       "      <th>minutes_included</th>\n",
       "      <th>rub_monthly_fee</th>\n",
       "      <th>rub_per_gb</th>\n",
       "      <th>rub_per_message</th>\n",
       "      <th>rub_per_minute</th>\n",
       "    </tr>\n",
       "  </thead>\n",
       "  <tbody>\n",
       "    <tr>\n",
       "      <th>0</th>\n",
       "      <td>1000</td>\n",
       "      <td>краснодар</td>\n",
       "      <td>ultra</td>\n",
       "      <td>5</td>\n",
       "      <td>164.0</td>\n",
       "      <td>22.0</td>\n",
       "      <td>22.0</td>\n",
       "      <td>2257.0</td>\n",
       "      <td>1000</td>\n",
       "      <td>30720</td>\n",
       "      <td>3000</td>\n",
       "      <td>1950</td>\n",
       "      <td>150</td>\n",
       "      <td>1</td>\n",
       "      <td>1</td>\n",
       "    </tr>\n",
       "    <tr>\n",
       "      <th>1</th>\n",
       "      <td>1000</td>\n",
       "      <td>краснодар</td>\n",
       "      <td>ultra</td>\n",
       "      <td>6</td>\n",
       "      <td>187.0</td>\n",
       "      <td>43.0</td>\n",
       "      <td>60.0</td>\n",
       "      <td>23262.0</td>\n",
       "      <td>1000</td>\n",
       "      <td>30720</td>\n",
       "      <td>3000</td>\n",
       "      <td>1950</td>\n",
       "      <td>150</td>\n",
       "      <td>1</td>\n",
       "      <td>1</td>\n",
       "    </tr>\n",
       "    <tr>\n",
       "      <th>2</th>\n",
       "      <td>1000</td>\n",
       "      <td>краснодар</td>\n",
       "      <td>ultra</td>\n",
       "      <td>7</td>\n",
       "      <td>346.0</td>\n",
       "      <td>47.0</td>\n",
       "      <td>75.0</td>\n",
       "      <td>14017.0</td>\n",
       "      <td>1000</td>\n",
       "      <td>30720</td>\n",
       "      <td>3000</td>\n",
       "      <td>1950</td>\n",
       "      <td>150</td>\n",
       "      <td>1</td>\n",
       "      <td>1</td>\n",
       "    </tr>\n",
       "    <tr>\n",
       "      <th>3</th>\n",
       "      <td>1000</td>\n",
       "      <td>краснодар</td>\n",
       "      <td>ultra</td>\n",
       "      <td>8</td>\n",
       "      <td>418.0</td>\n",
       "      <td>52.0</td>\n",
       "      <td>81.0</td>\n",
       "      <td>14072.0</td>\n",
       "      <td>1000</td>\n",
       "      <td>30720</td>\n",
       "      <td>3000</td>\n",
       "      <td>1950</td>\n",
       "      <td>150</td>\n",
       "      <td>1</td>\n",
       "      <td>1</td>\n",
       "    </tr>\n",
       "    <tr>\n",
       "      <th>4</th>\n",
       "      <td>1000</td>\n",
       "      <td>краснодар</td>\n",
       "      <td>ultra</td>\n",
       "      <td>9</td>\n",
       "      <td>478.0</td>\n",
       "      <td>58.0</td>\n",
       "      <td>57.0</td>\n",
       "      <td>14583.0</td>\n",
       "      <td>1000</td>\n",
       "      <td>30720</td>\n",
       "      <td>3000</td>\n",
       "      <td>1950</td>\n",
       "      <td>150</td>\n",
       "      <td>1</td>\n",
       "      <td>1</td>\n",
       "    </tr>\n",
       "  </tbody>\n",
       "</table>\n",
       "</div>"
      ],
      "text/plain": [
       "   user_id       city tariff  month  duration  call_count  message_count  \\\n",
       "0     1000  краснодар  ultra      5     164.0        22.0           22.0   \n",
       "1     1000  краснодар  ultra      6     187.0        43.0           60.0   \n",
       "2     1000  краснодар  ultra      7     346.0        47.0           75.0   \n",
       "3     1000  краснодар  ultra      8     418.0        52.0           81.0   \n",
       "4     1000  краснодар  ultra      9     478.0        58.0           57.0   \n",
       "\n",
       "   mb_used  messages_included  mb_per_month_included  minutes_included  \\\n",
       "0   2257.0               1000                  30720              3000   \n",
       "1  23262.0               1000                  30720              3000   \n",
       "2  14017.0               1000                  30720              3000   \n",
       "3  14072.0               1000                  30720              3000   \n",
       "4  14583.0               1000                  30720              3000   \n",
       "\n",
       "   rub_monthly_fee  rub_per_gb  rub_per_message  rub_per_minute  \n",
       "0             1950         150                1               1  \n",
       "1             1950         150                1               1  \n",
       "2             1950         150                1               1  \n",
       "3             1950         150                1               1  \n",
       "4             1950         150                1               1  "
      ]
     },
     "metadata": {},
     "output_type": "display_data"
    },
    {
     "name": "stdout",
     "output_type": "stream",
     "text": [
      "<class 'pandas.core.frame.DataFrame'>\n",
      "Int64Index: 3214 entries, 0 to 3213\n",
      "Data columns (total 15 columns):\n",
      " #   Column                 Non-Null Count  Dtype  \n",
      "---  ------                 --------------  -----  \n",
      " 0   user_id                3214 non-null   int64  \n",
      " 1   city                   3214 non-null   object \n",
      " 2   tariff                 3214 non-null   object \n",
      " 3   month                  3214 non-null   int64  \n",
      " 4   duration               3174 non-null   float64\n",
      " 5   call_count             3174 non-null   float64\n",
      " 6   message_count          2717 non-null   float64\n",
      " 7   mb_used                3203 non-null   float64\n",
      " 8   messages_included      3214 non-null   int64  \n",
      " 9   mb_per_month_included  3214 non-null   int64  \n",
      " 10  minutes_included       3214 non-null   int64  \n",
      " 11  rub_monthly_fee        3214 non-null   int64  \n",
      " 12  rub_per_gb             3214 non-null   int64  \n",
      " 13  rub_per_message        3214 non-null   int64  \n",
      " 14  rub_per_minute         3214 non-null   int64  \n",
      "dtypes: float64(4), int64(9), object(2)\n",
      "memory usage: 401.8+ KB\n"
     ]
    }
   ],
   "source": [
    "db_calls_messages_piv = db_calls_piv.merge(db_messages_piv, on= ['user_id','city','tariff','month'], how = 'outer')\n",
    "db_calls_messages_internet_piv = db_calls_messages_piv.merge(db_internet_piv, on= ['user_id','city','tariff','month'], how ='outer')\n",
    "# Добавим информацию по тарифам\n",
    "db_all = db_calls_messages_internet_piv.merge(tariffs_data, on=['tariff'], how ='left')\n",
    "display(db_all.head())\n",
    "db_all.info()"
   ]
  },
  {
   "cell_type": "markdown",
   "metadata": {},
   "source": [
    "#### Помесячная выручка с каждого пользователя"
   ]
  },
  {
   "cell_type": "code",
   "execution_count": 18,
   "metadata": {},
   "outputs": [
    {
     "data": {
      "text/html": [
       "<div>\n",
       "<style scoped>\n",
       "    .dataframe tbody tr th:only-of-type {\n",
       "        vertical-align: middle;\n",
       "    }\n",
       "\n",
       "    .dataframe tbody tr th {\n",
       "        vertical-align: top;\n",
       "    }\n",
       "\n",
       "    .dataframe thead th {\n",
       "        text-align: right;\n",
       "    }\n",
       "</style>\n",
       "<table border=\"1\" class=\"dataframe\">\n",
       "  <thead>\n",
       "    <tr style=\"text-align: right;\">\n",
       "      <th></th>\n",
       "      <th>user_id</th>\n",
       "      <th>city</th>\n",
       "      <th>tariff</th>\n",
       "      <th>month</th>\n",
       "      <th>duration</th>\n",
       "      <th>call_count</th>\n",
       "      <th>message_count</th>\n",
       "      <th>mb_used</th>\n",
       "      <th>messages_included</th>\n",
       "      <th>mb_per_month_included</th>\n",
       "      <th>minutes_included</th>\n",
       "      <th>rub_monthly_fee</th>\n",
       "      <th>rub_per_gb</th>\n",
       "      <th>rub_per_message</th>\n",
       "      <th>rub_per_minute</th>\n",
       "      <th>month_profit</th>\n",
       "    </tr>\n",
       "  </thead>\n",
       "  <tbody>\n",
       "    <tr>\n",
       "      <th>0</th>\n",
       "      <td>1000</td>\n",
       "      <td>краснодар</td>\n",
       "      <td>ultra</td>\n",
       "      <td>5</td>\n",
       "      <td>164.0</td>\n",
       "      <td>22.0</td>\n",
       "      <td>22.0</td>\n",
       "      <td>2257.0</td>\n",
       "      <td>1000</td>\n",
       "      <td>30720</td>\n",
       "      <td>3000</td>\n",
       "      <td>1950</td>\n",
       "      <td>150</td>\n",
       "      <td>1</td>\n",
       "      <td>1</td>\n",
       "      <td>1950.0</td>\n",
       "    </tr>\n",
       "    <tr>\n",
       "      <th>1</th>\n",
       "      <td>1000</td>\n",
       "      <td>краснодар</td>\n",
       "      <td>ultra</td>\n",
       "      <td>6</td>\n",
       "      <td>187.0</td>\n",
       "      <td>43.0</td>\n",
       "      <td>60.0</td>\n",
       "      <td>23262.0</td>\n",
       "      <td>1000</td>\n",
       "      <td>30720</td>\n",
       "      <td>3000</td>\n",
       "      <td>1950</td>\n",
       "      <td>150</td>\n",
       "      <td>1</td>\n",
       "      <td>1</td>\n",
       "      <td>1950.0</td>\n",
       "    </tr>\n",
       "    <tr>\n",
       "      <th>2</th>\n",
       "      <td>1000</td>\n",
       "      <td>краснодар</td>\n",
       "      <td>ultra</td>\n",
       "      <td>7</td>\n",
       "      <td>346.0</td>\n",
       "      <td>47.0</td>\n",
       "      <td>75.0</td>\n",
       "      <td>14017.0</td>\n",
       "      <td>1000</td>\n",
       "      <td>30720</td>\n",
       "      <td>3000</td>\n",
       "      <td>1950</td>\n",
       "      <td>150</td>\n",
       "      <td>1</td>\n",
       "      <td>1</td>\n",
       "      <td>1950.0</td>\n",
       "    </tr>\n",
       "    <tr>\n",
       "      <th>3</th>\n",
       "      <td>1000</td>\n",
       "      <td>краснодар</td>\n",
       "      <td>ultra</td>\n",
       "      <td>8</td>\n",
       "      <td>418.0</td>\n",
       "      <td>52.0</td>\n",
       "      <td>81.0</td>\n",
       "      <td>14072.0</td>\n",
       "      <td>1000</td>\n",
       "      <td>30720</td>\n",
       "      <td>3000</td>\n",
       "      <td>1950</td>\n",
       "      <td>150</td>\n",
       "      <td>1</td>\n",
       "      <td>1</td>\n",
       "      <td>1950.0</td>\n",
       "    </tr>\n",
       "    <tr>\n",
       "      <th>4</th>\n",
       "      <td>1000</td>\n",
       "      <td>краснодар</td>\n",
       "      <td>ultra</td>\n",
       "      <td>9</td>\n",
       "      <td>478.0</td>\n",
       "      <td>58.0</td>\n",
       "      <td>57.0</td>\n",
       "      <td>14583.0</td>\n",
       "      <td>1000</td>\n",
       "      <td>30720</td>\n",
       "      <td>3000</td>\n",
       "      <td>1950</td>\n",
       "      <td>150</td>\n",
       "      <td>1</td>\n",
       "      <td>1</td>\n",
       "      <td>1950.0</td>\n",
       "    </tr>\n",
       "  </tbody>\n",
       "</table>\n",
       "</div>"
      ],
      "text/plain": [
       "   user_id       city tariff  month  duration  call_count  message_count  \\\n",
       "0     1000  краснодар  ultra      5     164.0        22.0           22.0   \n",
       "1     1000  краснодар  ultra      6     187.0        43.0           60.0   \n",
       "2     1000  краснодар  ultra      7     346.0        47.0           75.0   \n",
       "3     1000  краснодар  ultra      8     418.0        52.0           81.0   \n",
       "4     1000  краснодар  ultra      9     478.0        58.0           57.0   \n",
       "\n",
       "   mb_used  messages_included  mb_per_month_included  minutes_included  \\\n",
       "0   2257.0               1000                  30720              3000   \n",
       "1  23262.0               1000                  30720              3000   \n",
       "2  14017.0               1000                  30720              3000   \n",
       "3  14072.0               1000                  30720              3000   \n",
       "4  14583.0               1000                  30720              3000   \n",
       "\n",
       "   rub_monthly_fee  rub_per_gb  rub_per_message  rub_per_minute  month_profit  \n",
       "0             1950         150                1               1        1950.0  \n",
       "1             1950         150                1               1        1950.0  \n",
       "2             1950         150                1               1        1950.0  \n",
       "3             1950         150                1               1        1950.0  \n",
       "4             1950         150                1               1        1950.0  "
      ]
     },
     "metadata": {},
     "output_type": "display_data"
    },
    {
     "name": "stdout",
     "output_type": "stream",
     "text": [
      "<class 'pandas.core.frame.DataFrame'>\n",
      "Int64Index: 3214 entries, 0 to 3213\n",
      "Data columns (total 16 columns):\n",
      " #   Column                 Non-Null Count  Dtype  \n",
      "---  ------                 --------------  -----  \n",
      " 0   user_id                3214 non-null   int64  \n",
      " 1   city                   3214 non-null   object \n",
      " 2   tariff                 3214 non-null   object \n",
      " 3   month                  3214 non-null   int64  \n",
      " 4   duration               3174 non-null   float64\n",
      " 5   call_count             3174 non-null   float64\n",
      " 6   message_count          2717 non-null   float64\n",
      " 7   mb_used                3203 non-null   float64\n",
      " 8   messages_included      3214 non-null   int64  \n",
      " 9   mb_per_month_included  3214 non-null   int64  \n",
      " 10  minutes_included       3214 non-null   int64  \n",
      " 11  rub_monthly_fee        3214 non-null   int64  \n",
      " 12  rub_per_gb             3214 non-null   int64  \n",
      " 13  rub_per_message        3214 non-null   int64  \n",
      " 14  rub_per_minute         3214 non-null   int64  \n",
      " 15  month_profit           3214 non-null   float64\n",
      "dtypes: float64(5), int64(9), object(2)\n",
      "memory usage: 426.9+ KB\n"
     ]
    },
    {
     "data": {
      "text/plain": [
       "None"
      ]
     },
     "metadata": {},
     "output_type": "display_data"
    }
   ],
   "source": [
    "#Напишем функцию подсчета \n",
    "def month_profit(row):\n",
    "    minutes_lim = 0\n",
    "    mb_lim = 0\n",
    "    message_lim = 0\n",
    "    minutes_lim = row['duration'] - row['minutes_included'] \n",
    "    if minutes_lim > 0:\n",
    "        minutes_lim = minutes_lim * row['rub_per_minute']\n",
    "    else:\n",
    "        minutes_lim = 0   \n",
    "    message_lim = row['message_count'] - row['messages_included'] \n",
    "    if message_lim > 0:\n",
    "        message_lim = message_lim * row['rub_per_message']\n",
    "    else:\n",
    "        message_lim = 0\n",
    "\n",
    "    mb_lim = row['mb_used'] - row['mb_per_month_included'] \n",
    "    if mb_lim > 0:\n",
    "        mb_lim = (mb_lim//1024 + 1) * row['rub_per_gb']\n",
    "    else:\n",
    "        mb_lim = 0\n",
    "    fee = row['rub_monthly_fee']\n",
    "    profit = fee + minutes_lim + message_lim + mb_lim\n",
    "    return profit\n",
    "# Построчно применим функцию \n",
    "db_all['month_profit']= db_all.apply(month_profit, axis = 1)\n",
    "display(db_all.head())\n",
    "display(db_all.info())"
   ]
  },
  {
   "cell_type": "markdown",
   "metadata": {},
   "source": [
    "## <a id=\"step3\">Шаг 3. Проанализируйте данные </a>\n"
   ]
  },
  {
   "cell_type": "markdown",
   "metadata": {},
   "source": [
    "#### Нарисуем распределение потраченных минут, отправленных сообщений и интернет-трафика пользователями по месяцам"
   ]
  },
  {
   "cell_type": "code",
   "execution_count": 19,
   "metadata": {},
   "outputs": [
    {
     "data": {
      "image/png": "[encoded data removed]",
      "text/plain": [
       "<Figure size 600x450 with 1 Axes>"
      ]
     },
     "metadata": {
      "needs_background": "light"
     },
     "output_type": "display_data"
    },
    {
     "data": {
      "image/png": "[encoded data removed]",
      "text/plain": [
       "<Figure size 600x450 with 1 Axes>"
      ]
     },
     "metadata": {
      "needs_background": "light"
     },
     "output_type": "display_data"
    },
    {
     "data": {
      "image/png": "[encoded data removed]",
      "text/plain": [
       "<Figure size 600x450 with 1 Axes>"
      ]
     },
     "metadata": {
      "needs_background": "light"
     },
     "output_type": "display_data"
    }
   ],
   "source": [
    "def plot_box(df, unit, title):\n",
    "    plt.figure(figsize=(8, 6), dpi=75)\n",
    "    tmp = \\\n",
    "    df.groupby('month', as_index=False).agg({unit:'median'})\n",
    "    sns.boxplot(x='month', y= unit, data=df, showfliers=False, order=tmp['month'].to_list())\n",
    "    plt.title(title)\n",
    "    plt.grid(True)\n",
    "    plt.show()    \n",
    "plot_box(db_all, 'duration', 'Распределение количества потраченных минут пользователями по месяцам')\n",
    "plot_box(db_all, 'message_count', 'Распределение количества отправленных сообщений пользователями по месяцам')\n",
    "plot_box(db_all, 'mb_used', 'Распределение количества использованного интернет-трафика пользователями по месяцам')"
   ]
  },
  {
   "cell_type": "markdown",
   "metadata": {},
   "source": [
    " Видим, что пользователи более активны в декабре. Это может быть связано с Новогодними праздниками"
   ]
  },
  {
   "cell_type": "markdown",
   "metadata": {},
   "source": [
    "\n",
    "#### Нарисуем распределение среднего количества потраченных минут, отправленных сообщений и использованного интернет-трафика пользователями по месяцам для каждого тарифа"
   ]
  },
  {
   "cell_type": "code",
   "execution_count": 20,
   "metadata": {},
   "outputs": [
    {
     "data": {
      "image/png": "[encoded data removed]",
      "text/plain": [
       "<Figure size 499.225x432 with 1 Axes>"
      ]
     },
     "metadata": {},
     "output_type": "display_data"
    },
    {
     "data": {
      "image/png": "[encoded data removed]",
      "text/plain": [
       "<Figure size 499.225x432 with 1 Axes>"
      ]
     },
     "metadata": {},
     "output_type": "display_data"
    },
    {
     "data": {
      "image/png": "[encoded data removed]",
      "text/plain": [
       "<Figure size 499.225x432 with 1 Axes>"
      ]
     },
     "metadata": {},
     "output_type": "display_data"
    }
   ],
   "source": [
    "sns.set(style=\"whitegrid\")\n",
    "def plot_distr(df, column_name, title_name):\n",
    "    g = sns.catplot(x=\"month\", y=column_name, hue=\"tariff\", data=df, height=6, kind=\"bar\", palette=\"muted\")\n",
    "    g.despine(left=True)\n",
    "    g.set(title=title_name)\n",
    "\n",
    "    \n",
    "tariff_mean = db_all.groupby(['tariff','month'])['duration','message_count', 'mb_used'].agg('mean').reset_index()\n",
    "plot_distr(tariff_mean, 'duration', 'Среднее количество потраченных минут')\n",
    "plot_distr(tariff_mean, 'message_count', 'Среднее количество отправленных сообщений')\n",
    "plot_distr(tariff_mean, 'mb_used', 'Среднее количество использованного интернет-трафика')\n",
    "    \n",
    "\n"
   ]
  },
  {
   "cell_type": "markdown",
   "metadata": {},
   "source": [
    "#### Нарисуем распределение дисперсии потраченных минут, отправленных сообщений и интернет-трафика пользователями по месяцам для каждого тарифа"
   ]
  },
  {
   "cell_type": "code",
   "execution_count": 21,
   "metadata": {},
   "outputs": [
    {
     "data": {
      "image/png": "[encoded data removed]",
      "text/plain": [
       "<Figure size 499.225x432 with 1 Axes>"
      ]
     },
     "metadata": {},
     "output_type": "display_data"
    },
    {
     "data": {
      "image/png": "[encoded data removed]",
      "text/plain": [
       "<Figure size 499.225x432 with 1 Axes>"
      ]
     },
     "metadata": {},
     "output_type": "display_data"
    },
    {
     "data": {
      "image/png": "[encoded data removed]",
      "text/plain": [
       "<Figure size 499.225x432 with 1 Axes>"
      ]
     },
     "metadata": {},
     "output_type": "display_data"
    }
   ],
   "source": [
    "tariff_var_month = db_all.groupby(['tariff','month'])['duration','message_count', 'mb_used'].agg('var', ddof=1).reset_index()\n",
    "plot_distr(tariff_var_month, 'duration', 'Дисперсия потраченных минут')\n",
    "plot_distr(tariff_var_month, 'message_count', 'Дисперсия отправленных сообщений')\n",
    "plot_distr(tariff_var_month, 'mb_used', 'Дисперсия использованного интернет-трафика')"
   ]
  },
  {
   "cell_type": "markdown",
   "metadata": {},
   "source": [
    "#### Нарисуем распределение стандартного отклонения количества потраченных минут, отправленных сообщений и интернет-трафика пользователями по месяцам для каждого тарифа"
   ]
  },
  {
   "cell_type": "code",
   "execution_count": 22,
   "metadata": {},
   "outputs": [
    {
     "data": {
      "image/png": "[encoded data removed]",
      "text/plain": [
       "<Figure size 499.225x432 with 1 Axes>"
      ]
     },
     "metadata": {},
     "output_type": "display_data"
    },
    {
     "data": {
      "image/png": "[encoded data removed]",
      "text/plain": [
       "<Figure size 499.225x432 with 1 Axes>"
      ]
     },
     "metadata": {},
     "output_type": "display_data"
    },
    {
     "data": {
      "image/png": "[encoded data removed]",
      "text/plain": [
       "<Figure size 499.225x432 with 1 Axes>"
      ]
     },
     "metadata": {},
     "output_type": "display_data"
    }
   ],
   "source": [
    "tariff_std_month = db_all.groupby(['tariff','month'])['duration','message_count', 'mb_used'].agg('std', ddof=1).reset_index()\n",
    "\n",
    "plot_distr(tariff_std_month, 'duration', 'Стандартное отклонение для потраченных минут')\n",
    "plot_distr(tariff_std_month, 'message_count', 'Стандартное отклонение для отправленных сообщений')\n",
    "plot_distr(tariff_std_month, 'mb_used', 'Стандартное отклонение для использованного интернет-трафика')"
   ]
  },
  {
   "cell_type": "markdown",
   "metadata": {},
   "source": [
    "#### Найдем стандартное отклонение и дисперсию потраченных минут, отправленных сообщений и интернет-трафика пользователями  для каждого тарифа за весь период"
   ]
  },
  {
   "cell_type": "code",
   "execution_count": 23,
   "metadata": {},
   "outputs": [
    {
     "name": "stdout",
     "output_type": "stream",
     "text": [
      "Дисперсия\n"
     ]
    },
    {
     "data": {
      "text/html": [
       "<div>\n",
       "<style scoped>\n",
       "    .dataframe tbody tr th:only-of-type {\n",
       "        vertical-align: middle;\n",
       "    }\n",
       "\n",
       "    .dataframe tbody tr th {\n",
       "        vertical-align: top;\n",
       "    }\n",
       "\n",
       "    .dataframe thead th {\n",
       "        text-align: right;\n",
       "    }\n",
       "</style>\n",
       "<table border=\"1\" class=\"dataframe\">\n",
       "  <thead>\n",
       "    <tr style=\"text-align: right;\">\n",
       "      <th></th>\n",
       "      <th>tariff</th>\n",
       "      <th>duration</th>\n",
       "      <th>message_count</th>\n",
       "      <th>mb_used</th>\n",
       "    </tr>\n",
       "  </thead>\n",
       "  <tbody>\n",
       "    <tr>\n",
       "      <th>0</th>\n",
       "      <td>smart</td>\n",
       "      <td>37577.967083</td>\n",
       "      <td>717.594201</td>\n",
       "      <td>3.446908e+07</td>\n",
       "    </tr>\n",
       "    <tr>\n",
       "      <th>1</th>\n",
       "      <td>ultra</td>\n",
       "      <td>99062.633405</td>\n",
       "      <td>2109.659183</td>\n",
       "      <td>9.905883e+07</td>\n",
       "    </tr>\n",
       "  </tbody>\n",
       "</table>\n",
       "</div>"
      ],
      "text/plain": [
       "  tariff      duration  message_count       mb_used\n",
       "0  smart  37577.967083     717.594201  3.446908e+07\n",
       "1  ultra  99062.633405    2109.659183  9.905883e+07"
      ]
     },
     "metadata": {},
     "output_type": "display_data"
    },
    {
     "name": "stdout",
     "output_type": "stream",
     "text": [
      "Стандартное отклонение\n"
     ]
    },
    {
     "data": {
      "text/html": [
       "<div>\n",
       "<style scoped>\n",
       "    .dataframe tbody tr th:only-of-type {\n",
       "        vertical-align: middle;\n",
       "    }\n",
       "\n",
       "    .dataframe tbody tr th {\n",
       "        vertical-align: top;\n",
       "    }\n",
       "\n",
       "    .dataframe thead th {\n",
       "        text-align: right;\n",
       "    }\n",
       "</style>\n",
       "<table border=\"1\" class=\"dataframe\">\n",
       "  <thead>\n",
       "    <tr style=\"text-align: right;\">\n",
       "      <th></th>\n",
       "      <th>tariff</th>\n",
       "      <th>duration</th>\n",
       "      <th>message_count</th>\n",
       "      <th>mb_used</th>\n",
       "    </tr>\n",
       "  </thead>\n",
       "  <tbody>\n",
       "    <tr>\n",
       "      <th>0</th>\n",
       "      <td>smart</td>\n",
       "      <td>193.850373</td>\n",
       "      <td>26.787949</td>\n",
       "      <td>5871.037024</td>\n",
       "    </tr>\n",
       "    <tr>\n",
       "      <th>1</th>\n",
       "      <td>ultra</td>\n",
       "      <td>314.742170</td>\n",
       "      <td>45.931026</td>\n",
       "      <td>9952.830482</td>\n",
       "    </tr>\n",
       "  </tbody>\n",
       "</table>\n",
       "</div>"
      ],
      "text/plain": [
       "  tariff    duration  message_count      mb_used\n",
       "0  smart  193.850373      26.787949  5871.037024\n",
       "1  ultra  314.742170      45.931026  9952.830482"
      ]
     },
     "metadata": {},
     "output_type": "display_data"
    },
    {
     "name": "stdout",
     "output_type": "stream",
     "text": [
      "Среднее значение\n"
     ]
    },
    {
     "data": {
      "text/html": [
       "<div>\n",
       "<style scoped>\n",
       "    .dataframe tbody tr th:only-of-type {\n",
       "        vertical-align: middle;\n",
       "    }\n",
       "\n",
       "    .dataframe tbody tr th {\n",
       "        vertical-align: top;\n",
       "    }\n",
       "\n",
       "    .dataframe thead th {\n",
       "        text-align: right;\n",
       "    }\n",
       "</style>\n",
       "<table border=\"1\" class=\"dataframe\">\n",
       "  <thead>\n",
       "    <tr style=\"text-align: right;\">\n",
       "      <th></th>\n",
       "      <th>tariff</th>\n",
       "      <th>duration</th>\n",
       "      <th>message_count</th>\n",
       "      <th>mb_used</th>\n",
       "    </tr>\n",
       "  </thead>\n",
       "  <tbody>\n",
       "    <tr>\n",
       "      <th>0</th>\n",
       "      <td>smart</td>\n",
       "      <td>430.609987</td>\n",
       "      <td>38.716441</td>\n",
       "      <td>16244.472172</td>\n",
       "    </tr>\n",
       "    <tr>\n",
       "      <th>1</th>\n",
       "      <td>ultra</td>\n",
       "      <td>560.113565</td>\n",
       "      <td>61.161006</td>\n",
       "      <td>19688.587692</td>\n",
       "    </tr>\n",
       "  </tbody>\n",
       "</table>\n",
       "</div>"
      ],
      "text/plain": [
       "  tariff    duration  message_count       mb_used\n",
       "0  smart  430.609987      38.716441  16244.472172\n",
       "1  ultra  560.113565      61.161006  19688.587692"
      ]
     },
     "metadata": {},
     "output_type": "display_data"
    }
   ],
   "source": [
    "tariff_var = db_all.groupby(['tariff'])['duration','message_count', 'mb_used'].agg('var', ddof=1).reset_index()\n",
    "print('Дисперсия')\n",
    "display(tariff_var)\n",
    "tariff_std = db_all.groupby(['tariff'])['duration','message_count', 'mb_used'].agg('std', ddof=1).reset_index()\n",
    "print('Стандартное отклонение')\n",
    "display(tariff_std)\n",
    "tariff_mean = db_all.groupby(['tariff'])['duration','message_count', 'mb_used'].agg('mean').reset_index()\n",
    "print('Среднее значение')\n",
    "display(tariff_mean)\n",
    "\n",
    "\n",
    "# Видим, что наш датасет по двум тарифам скошен вправо(имеет положительную скошенность). \n",
    "# Это подтверждает и значения медианы и среднего(медиана < среднего)"
   ]
  },
  {
   "cell_type": "code",
   "execution_count": 24,
   "metadata": {},
   "outputs": [
    {
     "data": {
      "image/png": "[encoded data removed]",
      "text/plain": [
       "<Figure size 1080x360 with 2 Axes>"
      ]
     },
     "metadata": {},
     "output_type": "display_data"
    },
    {
     "data": {
      "image/png": "[encoded data removed]",
      "text/plain": [
       "<Figure size 1080x360 with 2 Axes>"
      ]
     },
     "metadata": {},
     "output_type": "display_data"
    },
    {
     "data": {
      "image/png": "[encoded data removed]",
      "text/plain": [
       "<Figure size 1080x360 with 2 Axes>"
      ]
     },
     "metadata": {},
     "output_type": "display_data"
    }
   ],
   "source": [
    "def plot_var(df, column_name):\n",
    "    fig, ax = plt.subplots(nrows=1, ncols=2, figsize = (15,5))\n",
    "    fig.subplots_adjust(wspace=0.5, hspace = 0.5)\n",
    "    fig.suptitle(column_name)\n",
    "    ax[0].hist(df.loc[df['tariff'] == 'smart', column_name], bins=50)\n",
    "    ax[0].set_title('smart')\n",
    "    ax[1].hist(df.loc[df['tariff'] == 'ultra', column_name], bins=50)\n",
    "    ax[1].set_title('ultra')\n",
    "    plt.show()\n",
    "    \n",
    "plot_var(db_all, 'duration')\n",
    "plot_var(db_all, 'message_count')\n",
    "plot_var(db_all, 'mb_used')\n",
    "\n"
   ]
  },
  {
   "cell_type": "code",
   "execution_count": 25,
   "metadata": {},
   "outputs": [
    {
     "data": {
      "text/html": [
       "<div>\n",
       "<style scoped>\n",
       "    .dataframe tbody tr th:only-of-type {\n",
       "        vertical-align: middle;\n",
       "    }\n",
       "\n",
       "    .dataframe tbody tr th {\n",
       "        vertical-align: top;\n",
       "    }\n",
       "\n",
       "    .dataframe thead th {\n",
       "        text-align: right;\n",
       "    }\n",
       "</style>\n",
       "<table border=\"1\" class=\"dataframe\">\n",
       "  <thead>\n",
       "    <tr style=\"text-align: right;\">\n",
       "      <th></th>\n",
       "      <th>user_id</th>\n",
       "      <th>month</th>\n",
       "      <th>duration</th>\n",
       "      <th>call_count</th>\n",
       "      <th>message_count</th>\n",
       "      <th>mb_used</th>\n",
       "      <th>messages_included</th>\n",
       "      <th>mb_per_month_included</th>\n",
       "      <th>minutes_included</th>\n",
       "      <th>rub_monthly_fee</th>\n",
       "      <th>rub_per_gb</th>\n",
       "      <th>rub_per_message</th>\n",
       "      <th>rub_per_minute</th>\n",
       "      <th>month_profit</th>\n",
       "    </tr>\n",
       "  </thead>\n",
       "  <tbody>\n",
       "    <tr>\n",
       "      <th>count</th>\n",
       "      <td>985.000000</td>\n",
       "      <td>985.000000</td>\n",
       "      <td>951.000000</td>\n",
       "      <td>951.000000</td>\n",
       "      <td>795.000000</td>\n",
       "      <td>975.000000</td>\n",
       "      <td>985.0</td>\n",
       "      <td>985.0</td>\n",
       "      <td>985.0</td>\n",
       "      <td>985.0</td>\n",
       "      <td>985.0</td>\n",
       "      <td>985.0</td>\n",
       "      <td>985.0</td>\n",
       "      <td>985.000000</td>\n",
       "    </tr>\n",
       "    <tr>\n",
       "      <th>mean</th>\n",
       "      <td>1263.094416</td>\n",
       "      <td>8.250761</td>\n",
       "      <td>560.113565</td>\n",
       "      <td>76.016824</td>\n",
       "      <td>61.161006</td>\n",
       "      <td>19688.587692</td>\n",
       "      <td>1000.0</td>\n",
       "      <td>30720.0</td>\n",
       "      <td>3000.0</td>\n",
       "      <td>1950.0</td>\n",
       "      <td>150.0</td>\n",
       "      <td>1.0</td>\n",
       "      <td>1.0</td>\n",
       "      <td>2071.065990</td>\n",
       "    </tr>\n",
       "    <tr>\n",
       "      <th>std</th>\n",
       "      <td>140.694908</td>\n",
       "      <td>2.871762</td>\n",
       "      <td>314.742170</td>\n",
       "      <td>42.403348</td>\n",
       "      <td>45.931026</td>\n",
       "      <td>9952.830482</td>\n",
       "      <td>0.0</td>\n",
       "      <td>0.0</td>\n",
       "      <td>0.0</td>\n",
       "      <td>0.0</td>\n",
       "      <td>0.0</td>\n",
       "      <td>0.0</td>\n",
       "      <td>0.0</td>\n",
       "      <td>378.802377</td>\n",
       "    </tr>\n",
       "    <tr>\n",
       "      <th>min</th>\n",
       "      <td>1000.000000</td>\n",
       "      <td>1.000000</td>\n",
       "      <td>1.000000</td>\n",
       "      <td>1.000000</td>\n",
       "      <td>1.000000</td>\n",
       "      <td>1.000000</td>\n",
       "      <td>1000.0</td>\n",
       "      <td>30720.0</td>\n",
       "      <td>3000.0</td>\n",
       "      <td>1950.0</td>\n",
       "      <td>150.0</td>\n",
       "      <td>1.0</td>\n",
       "      <td>1.0</td>\n",
       "      <td>1950.000000</td>\n",
       "    </tr>\n",
       "    <tr>\n",
       "      <th>25%</th>\n",
       "      <td>1143.000000</td>\n",
       "      <td>6.000000</td>\n",
       "      <td>318.000000</td>\n",
       "      <td>43.000000</td>\n",
       "      <td>24.000000</td>\n",
       "      <td>12022.000000</td>\n",
       "      <td>1000.0</td>\n",
       "      <td>30720.0</td>\n",
       "      <td>3000.0</td>\n",
       "      <td>1950.0</td>\n",
       "      <td>150.0</td>\n",
       "      <td>1.0</td>\n",
       "      <td>1.0</td>\n",
       "      <td>1950.000000</td>\n",
       "    </tr>\n",
       "    <tr>\n",
       "      <th>50%</th>\n",
       "      <td>1277.000000</td>\n",
       "      <td>9.000000</td>\n",
       "      <td>544.000000</td>\n",
       "      <td>75.000000</td>\n",
       "      <td>51.000000</td>\n",
       "      <td>19416.000000</td>\n",
       "      <td>1000.0</td>\n",
       "      <td>30720.0</td>\n",
       "      <td>3000.0</td>\n",
       "      <td>1950.0</td>\n",
       "      <td>150.0</td>\n",
       "      <td>1.0</td>\n",
       "      <td>1.0</td>\n",
       "      <td>1950.000000</td>\n",
       "    </tr>\n",
       "    <tr>\n",
       "      <th>75%</th>\n",
       "      <td>1381.000000</td>\n",
       "      <td>11.000000</td>\n",
       "      <td>776.500000</td>\n",
       "      <td>105.000000</td>\n",
       "      <td>87.500000</td>\n",
       "      <td>26921.500000</td>\n",
       "      <td>1000.0</td>\n",
       "      <td>30720.0</td>\n",
       "      <td>3000.0</td>\n",
       "      <td>1950.0</td>\n",
       "      <td>150.0</td>\n",
       "      <td>1.0</td>\n",
       "      <td>1.0</td>\n",
       "      <td>1950.000000</td>\n",
       "    </tr>\n",
       "    <tr>\n",
       "      <th>max</th>\n",
       "      <td>1495.000000</td>\n",
       "      <td>12.000000</td>\n",
       "      <td>1727.000000</td>\n",
       "      <td>244.000000</td>\n",
       "      <td>224.000000</td>\n",
       "      <td>49793.000000</td>\n",
       "      <td>1000.0</td>\n",
       "      <td>30720.0</td>\n",
       "      <td>3000.0</td>\n",
       "      <td>1950.0</td>\n",
       "      <td>150.0</td>\n",
       "      <td>1.0</td>\n",
       "      <td>1.0</td>\n",
       "      <td>4800.000000</td>\n",
       "    </tr>\n",
       "  </tbody>\n",
       "</table>\n",
       "</div>"
      ],
      "text/plain": [
       "           user_id       month     duration  call_count  message_count  \\\n",
       "count   985.000000  985.000000   951.000000  951.000000     795.000000   \n",
       "mean   1263.094416    8.250761   560.113565   76.016824      61.161006   \n",
       "std     140.694908    2.871762   314.742170   42.403348      45.931026   \n",
       "min    1000.000000    1.000000     1.000000    1.000000       1.000000   \n",
       "25%    1143.000000    6.000000   318.000000   43.000000      24.000000   \n",
       "50%    1277.000000    9.000000   544.000000   75.000000      51.000000   \n",
       "75%    1381.000000   11.000000   776.500000  105.000000      87.500000   \n",
       "max    1495.000000   12.000000  1727.000000  244.000000     224.000000   \n",
       "\n",
       "            mb_used  messages_included  mb_per_month_included  \\\n",
       "count    975.000000              985.0                  985.0   \n",
       "mean   19688.587692             1000.0                30720.0   \n",
       "std     9952.830482                0.0                    0.0   \n",
       "min        1.000000             1000.0                30720.0   \n",
       "25%    12022.000000             1000.0                30720.0   \n",
       "50%    19416.000000             1000.0                30720.0   \n",
       "75%    26921.500000             1000.0                30720.0   \n",
       "max    49793.000000             1000.0                30720.0   \n",
       "\n",
       "       minutes_included  rub_monthly_fee  rub_per_gb  rub_per_message  \\\n",
       "count             985.0            985.0       985.0            985.0   \n",
       "mean             3000.0           1950.0       150.0              1.0   \n",
       "std                 0.0              0.0         0.0              0.0   \n",
       "min              3000.0           1950.0       150.0              1.0   \n",
       "25%              3000.0           1950.0       150.0              1.0   \n",
       "50%              3000.0           1950.0       150.0              1.0   \n",
       "75%              3000.0           1950.0       150.0              1.0   \n",
       "max              3000.0           1950.0       150.0              1.0   \n",
       "\n",
       "       rub_per_minute  month_profit  \n",
       "count           985.0    985.000000  \n",
       "mean              1.0   2071.065990  \n",
       "std               0.0    378.802377  \n",
       "min               1.0   1950.000000  \n",
       "25%               1.0   1950.000000  \n",
       "50%               1.0   1950.000000  \n",
       "75%               1.0   1950.000000  \n",
       "max               1.0   4800.000000  "
      ]
     },
     "metadata": {},
     "output_type": "display_data"
    },
    {
     "data": {
      "text/html": [
       "<div>\n",
       "<style scoped>\n",
       "    .dataframe tbody tr th:only-of-type {\n",
       "        vertical-align: middle;\n",
       "    }\n",
       "\n",
       "    .dataframe tbody tr th {\n",
       "        vertical-align: top;\n",
       "    }\n",
       "\n",
       "    .dataframe thead th {\n",
       "        text-align: right;\n",
       "    }\n",
       "</style>\n",
       "<table border=\"1\" class=\"dataframe\">\n",
       "  <thead>\n",
       "    <tr style=\"text-align: right;\">\n",
       "      <th></th>\n",
       "      <th>user_id</th>\n",
       "      <th>month</th>\n",
       "      <th>duration</th>\n",
       "      <th>call_count</th>\n",
       "      <th>message_count</th>\n",
       "      <th>mb_used</th>\n",
       "      <th>messages_included</th>\n",
       "      <th>mb_per_month_included</th>\n",
       "      <th>minutes_included</th>\n",
       "      <th>rub_monthly_fee</th>\n",
       "      <th>rub_per_gb</th>\n",
       "      <th>rub_per_message</th>\n",
       "      <th>rub_per_minute</th>\n",
       "      <th>month_profit</th>\n",
       "    </tr>\n",
       "  </thead>\n",
       "  <tbody>\n",
       "    <tr>\n",
       "      <th>count</th>\n",
       "      <td>2229.000000</td>\n",
       "      <td>2229.000000</td>\n",
       "      <td>2223.000000</td>\n",
       "      <td>2223.000000</td>\n",
       "      <td>1922.000000</td>\n",
       "      <td>2228.000000</td>\n",
       "      <td>2229.0</td>\n",
       "      <td>2229.0</td>\n",
       "      <td>2229.0</td>\n",
       "      <td>2229.0</td>\n",
       "      <td>2229.0</td>\n",
       "      <td>2229.0</td>\n",
       "      <td>2229.0</td>\n",
       "      <td>2229.000000</td>\n",
       "    </tr>\n",
       "    <tr>\n",
       "      <th>mean</th>\n",
       "      <td>1246.506505</td>\n",
       "      <td>8.346792</td>\n",
       "      <td>430.609987</td>\n",
       "      <td>58.621233</td>\n",
       "      <td>38.716441</td>\n",
       "      <td>16244.472172</td>\n",
       "      <td>50.0</td>\n",
       "      <td>15360.0</td>\n",
       "      <td>500.0</td>\n",
       "      <td>550.0</td>\n",
       "      <td>200.0</td>\n",
       "      <td>3.0</td>\n",
       "      <td>3.0</td>\n",
       "      <td>1312.602064</td>\n",
       "    </tr>\n",
       "    <tr>\n",
       "      <th>std</th>\n",
       "      <td>146.119496</td>\n",
       "      <td>2.920316</td>\n",
       "      <td>193.850373</td>\n",
       "      <td>25.796101</td>\n",
       "      <td>26.787949</td>\n",
       "      <td>5871.037024</td>\n",
       "      <td>0.0</td>\n",
       "      <td>0.0</td>\n",
       "      <td>0.0</td>\n",
       "      <td>0.0</td>\n",
       "      <td>0.0</td>\n",
       "      <td>0.0</td>\n",
       "      <td>0.0</td>\n",
       "      <td>830.952970</td>\n",
       "    </tr>\n",
       "    <tr>\n",
       "      <th>min</th>\n",
       "      <td>1001.000000</td>\n",
       "      <td>1.000000</td>\n",
       "      <td>1.000000</td>\n",
       "      <td>1.000000</td>\n",
       "      <td>1.000000</td>\n",
       "      <td>1.000000</td>\n",
       "      <td>50.0</td>\n",
       "      <td>15360.0</td>\n",
       "      <td>500.0</td>\n",
       "      <td>550.0</td>\n",
       "      <td>200.0</td>\n",
       "      <td>3.0</td>\n",
       "      <td>3.0</td>\n",
       "      <td>550.000000</td>\n",
       "    </tr>\n",
       "    <tr>\n",
       "      <th>25%</th>\n",
       "      <td>1121.000000</td>\n",
       "      <td>6.000000</td>\n",
       "      <td>292.000000</td>\n",
       "      <td>40.000000</td>\n",
       "      <td>17.000000</td>\n",
       "      <td>12673.250000</td>\n",
       "      <td>50.0</td>\n",
       "      <td>15360.0</td>\n",
       "      <td>500.0</td>\n",
       "      <td>550.0</td>\n",
       "      <td>200.0</td>\n",
       "      <td>3.0</td>\n",
       "      <td>3.0</td>\n",
       "      <td>553.000000</td>\n",
       "    </tr>\n",
       "    <tr>\n",
       "      <th>50%</th>\n",
       "      <td>1239.000000</td>\n",
       "      <td>9.000000</td>\n",
       "      <td>435.000000</td>\n",
       "      <td>60.000000</td>\n",
       "      <td>34.000000</td>\n",
       "      <td>16541.500000</td>\n",
       "      <td>50.0</td>\n",
       "      <td>15360.0</td>\n",
       "      <td>500.0</td>\n",
       "      <td>550.0</td>\n",
       "      <td>200.0</td>\n",
       "      <td>3.0</td>\n",
       "      <td>3.0</td>\n",
       "      <td>1075.000000</td>\n",
       "    </tr>\n",
       "    <tr>\n",
       "      <th>75%</th>\n",
       "      <td>1376.000000</td>\n",
       "      <td>11.000000</td>\n",
       "      <td>561.000000</td>\n",
       "      <td>76.000000</td>\n",
       "      <td>55.000000</td>\n",
       "      <td>20078.750000</td>\n",
       "      <td>50.0</td>\n",
       "      <td>15360.0</td>\n",
       "      <td>500.0</td>\n",
       "      <td>550.0</td>\n",
       "      <td>200.0</td>\n",
       "      <td>3.0</td>\n",
       "      <td>3.0</td>\n",
       "      <td>1757.000000</td>\n",
       "    </tr>\n",
       "    <tr>\n",
       "      <th>max</th>\n",
       "      <td>1499.000000</td>\n",
       "      <td>12.000000</td>\n",
       "      <td>1471.000000</td>\n",
       "      <td>198.000000</td>\n",
       "      <td>143.000000</td>\n",
       "      <td>38627.000000</td>\n",
       "      <td>50.0</td>\n",
       "      <td>15360.0</td>\n",
       "      <td>500.0</td>\n",
       "      <td>550.0</td>\n",
       "      <td>200.0</td>\n",
       "      <td>3.0</td>\n",
       "      <td>3.0</td>\n",
       "      <td>6824.000000</td>\n",
       "    </tr>\n",
       "  </tbody>\n",
       "</table>\n",
       "</div>"
      ],
      "text/plain": [
       "           user_id        month     duration   call_count  message_count  \\\n",
       "count  2229.000000  2229.000000  2223.000000  2223.000000    1922.000000   \n",
       "mean   1246.506505     8.346792   430.609987    58.621233      38.716441   \n",
       "std     146.119496     2.920316   193.850373    25.796101      26.787949   \n",
       "min    1001.000000     1.000000     1.000000     1.000000       1.000000   \n",
       "25%    1121.000000     6.000000   292.000000    40.000000      17.000000   \n",
       "50%    1239.000000     9.000000   435.000000    60.000000      34.000000   \n",
       "75%    1376.000000    11.000000   561.000000    76.000000      55.000000   \n",
       "max    1499.000000    12.000000  1471.000000   198.000000     143.000000   \n",
       "\n",
       "            mb_used  messages_included  mb_per_month_included  \\\n",
       "count   2228.000000             2229.0                 2229.0   \n",
       "mean   16244.472172               50.0                15360.0   \n",
       "std     5871.037024                0.0                    0.0   \n",
       "min        1.000000               50.0                15360.0   \n",
       "25%    12673.250000               50.0                15360.0   \n",
       "50%    16541.500000               50.0                15360.0   \n",
       "75%    20078.750000               50.0                15360.0   \n",
       "max    38627.000000               50.0                15360.0   \n",
       "\n",
       "       minutes_included  rub_monthly_fee  rub_per_gb  rub_per_message  \\\n",
       "count            2229.0           2229.0      2229.0           2229.0   \n",
       "mean              500.0            550.0       200.0              3.0   \n",
       "std                 0.0              0.0         0.0              0.0   \n",
       "min               500.0            550.0       200.0              3.0   \n",
       "25%               500.0            550.0       200.0              3.0   \n",
       "50%               500.0            550.0       200.0              3.0   \n",
       "75%               500.0            550.0       200.0              3.0   \n",
       "max               500.0            550.0       200.0              3.0   \n",
       "\n",
       "       rub_per_minute  month_profit  \n",
       "count          2229.0   2229.000000  \n",
       "mean              3.0   1312.602064  \n",
       "std               0.0    830.952970  \n",
       "min               3.0    550.000000  \n",
       "25%               3.0    553.000000  \n",
       "50%               3.0   1075.000000  \n",
       "75%               3.0   1757.000000  \n",
       "max               3.0   6824.000000  "
      ]
     },
     "metadata": {},
     "output_type": "display_data"
    }
   ],
   "source": [
    "display(db_all.loc[db_all['tariff'] == 'ultra'].describe())\n",
    "display(db_all.loc[db_all['tariff'] == 'smart'].describe())"
   ]
  },
  {
   "cell_type": "markdown",
   "metadata": {},
   "source": [
    "### Вывод\n",
    "Были построены гистрограммы распределения продолжительности звонков, количества отправленных сообщений  и количества используемого интернет-трафика за весь период и помесячной разбивкой. \n",
    "\n",
    "Мы увидели, что пользователи наиболее активны в декабре. Это может быть связано с Новогодними праздниками,  а также годовым закрытием на работе.  \n",
    "\n",
    "Видим, что пользователи тарифа `ultra` чаще пользуются услугами связи компании \"Мегалайн\", нежели чем пользователи тарифа `smart`\n",
    "\n",
    "`Тариф ultra`\n",
    "\n",
    "Среднее продолжительность звонков за весь период составляет  - 560.11 минуты. Со стандартным отклонением - 314.74  и медианой  - 544 минут. \n",
    "\n",
    "Среднее количество отправленных сообщений - 61. Стандартное отклонение - 44.71 и медиана - 52. \n",
    "\n",
    "Среднее количество использованных мб составляет - 19689.38. Стандартное отклонение - 9988.30. Медиана - 19447.\n",
    "\n",
    "\n",
    "\n",
    "`Тариф smart`\n",
    "\n",
    "Среднее продолжительность звонков за весь период составляет  - 430.60 минуты. Со стандартным отклонением - 193.85 минуты и медианой  - 435 минут. \n",
    "\n",
    "Среднее количество отправленных сообщений - 38. Стандартное отклонение - 26.81 и медиана - 34. \n",
    "\n",
    "Среднее количество использованных мб составляет - 16245.46. Стандартное отклонение - 5876.81. Медиана - 16538.\n",
    "\n",
    "\n"
   ]
  },
  {
   "cell_type": "markdown",
   "metadata": {},
   "source": [
    "## <a id=\"step4\">Шаг 4. Проверка гипотез </a>\n"
   ]
  },
  {
   "cell_type": "markdown",
   "metadata": {},
   "source": [
    "### Гипотеза 1. Средняя выручка пользователей тарифов «Ультра» и «Смарт» различается"
   ]
  },
  {
   "cell_type": "markdown",
   "metadata": {},
   "source": [
    "Переформулируем гипотезу: Средния выручка генеральной совокупности по тарфиму \"Ультра\" равна  средней выручке генеральной совокупности \"Смарт\"\n",
    "\n"
   ]
  },
  {
   "cell_type": "code",
   "execution_count": 26,
   "metadata": {},
   "outputs": [
    {
     "name": "stdout",
     "output_type": "stream",
     "text": [
      "p-значение:  7.444448970632563e-149\n",
      "Отвергаем нулевую гипотезу\n"
     ]
    }
   ],
   "source": [
    "#проверим гипотезу о равенстве среднего двух генеральных совокупностей по взятым из них выборкам\n",
    "results = st.ttest_ind(\n",
    "    db_all.loc[db_all['tariff'] == 'smart', 'month_profit'], \n",
    "    db_all.loc[db_all['tariff'] == 'ultra', 'month_profit'])\n",
    "\n",
    "alpha = .05 # критический уровень статистической значимости\n",
    "print('p-значение: ', results.pvalue)\n",
    "if (results.pvalue < alpha):\n",
    "    print(\"Отвергаем нулевую гипотезу\")\n",
    "else:\n",
    "    print(\"Не получилось отвергнуть нулевую гипотезу\")"
   ]
  },
  {
   "cell_type": "code",
   "execution_count": 27,
   "metadata": {},
   "outputs": [
    {
     "data": {
      "text/plain": [
       "8       1350.0\n",
       "9        550.0\n",
       "10       550.0\n",
       "11      1150.0\n",
       "12      1550.0\n",
       "         ...  \n",
       "3208     550.0\n",
       "3209     950.0\n",
       "3210    1550.0\n",
       "3211    1150.0\n",
       "3212     950.0\n",
       "Name: month_profit, Length: 2229, dtype: float64"
      ]
     },
     "execution_count": 27,
     "metadata": {},
     "output_type": "execute_result"
    }
   ],
   "source": [
    "db_all.loc[db_all['tariff'] == 'smart', 'month_profit']"
   ]
  },
  {
   "cell_type": "code",
   "execution_count": 28,
   "metadata": {},
   "outputs": [
    {
     "data": {
      "text/plain": [
       "0       1950.0\n",
       "1       1950.0\n",
       "2       1950.0\n",
       "3       1950.0\n",
       "4       1950.0\n",
       "         ...  \n",
       "3204    1950.0\n",
       "3205    1950.0\n",
       "3206    1950.0\n",
       "3207    1950.0\n",
       "3213    1950.0\n",
       "Name: month_profit, Length: 985, dtype: float64"
      ]
     },
     "execution_count": 28,
     "metadata": {},
     "output_type": "execute_result"
    }
   ],
   "source": [
    "db_all.loc[db_all['tariff'] == 'ultra', 'month_profit']"
   ]
  },
  {
   "cell_type": "markdown",
   "metadata": {},
   "source": [
    "Отвергаем гипотезу. Средняя выручка пользователей тарифов \"Ультра\" и \"Смарт\" различается"
   ]
  },
  {
   "cell_type": "markdown",
   "metadata": {},
   "source": [
    "### Гипотеза 2. Средняя выручка пользователей из Москвы отличается от выручки пользователей из других регионов"
   ]
  },
  {
   "cell_type": "markdown",
   "metadata": {},
   "source": [
    "Переформулируем гипотезу: Средния выручка генеральной совокупности пользователей из Москвы равна средней выручке пользователей из других регионов"
   ]
  },
  {
   "cell_type": "code",
   "execution_count": 128,
   "metadata": {},
   "outputs": [
    {
     "name": "stdout",
     "output_type": "stream",
     "text": [
      "p-значение:  0.5803224505382611\n",
      "Не получилось отвергнуть нулевую гипотезу\n"
     ]
    }
   ],
   "source": [
    "results_city = st.ttest_ind(\n",
    "    db_all.loc[db_all['city'] == 'москва','month_profit'], \n",
    "    db_all.loc[db_all['city'] != 'москва','month_profit'])\n",
    "\n",
    "alpha = .05 # критический уровень статистической значимости\n",
    "print('p-значение: ', results_city.pvalue)\n",
    "if (results_city.pvalue < alpha):\n",
    "    print(\"Отвергаем нулевую гипотезу\")\n",
    "else:\n",
    "    print(\"Не получилось отвергнуть нулевую гипотезу\")"
   ]
  },
  {
   "cell_type": "markdown",
   "metadata": {},
   "source": [
    "Полученное значение p-value = 0.58. Это слишком большая вероятность, чтобы делать вывод о различии между выручками пользователей из Москвы и других регионов."
   ]
  },
  {
   "cell_type": "markdown",
   "metadata": {},
   "source": []
  }
 ],
 "metadata": {
  "kernelspec": {
   "display_name": "Python 3",
   "language": "python",
   "name": "python3"
  },
  "language_info": {
   "codemirror_mode": {
    "name": "ipython",
    "version": 3
   },
   "file_extension": ".py",
   "mimetype": "text/x-python",
   "name": "python",
   "nbconvert_exporter": "python",
   "pygments_lexer": "ipython3",
   "version": "3.7.7"
  }
 },
 "nbformat": 4,
 "nbformat_minor": 2
}
